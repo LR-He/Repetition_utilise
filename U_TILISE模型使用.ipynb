{
 "nbformat": 4,
 "nbformat_minor": 0,
 "metadata": {
  "colab": {
   "provenance": []
  },
  "kernelspec": {
   "name": "python3",
   "display_name": "Python 3"
  },
  "language_info": {
   "name": "python"
  },
  "widgets": {
   "application/vnd.jupyter.widget-state+json": {
    "aea08d41cacd4b1d9e7cef00374b8d71": {
     "model_module": "jupyter-leaflet",
     "model_name": "LeafletMapModel",
     "model_module_version": "^0.17",
     "state": {
      "_dom_classes": [],
      "_model_module": "jupyter-leaflet",
      "_model_module_version": "^0.17",
      "_model_name": "LeafletMapModel",
      "_view_count": null,
      "_view_module": "jupyter-leaflet",
      "_view_module_version": "^0.17",
      "_view_name": "LeafletMapView",
      "bottom": 28702.999965718584,
      "bounce_at_zoom_limits": true,
      "box_zoom": true,
      "center": [
       23.306946306018872,
       114.7141779863153
      ],
      "close_popup_on_click": true,
      "controls": [
       "IPY_MODEL_fdc972dd1e0849c2bf348b803120f211",
       "IPY_MODEL_9111b5d325724199af03e828875a89cf",
       "IPY_MODEL_b62b831863be43b29680c5fbf7ba4855",
       "IPY_MODEL_0b188f2ef5db403a996455b8b4e935dd",
       "IPY_MODEL_e0b4d37041fa4610a9b829494140558c",
       "IPY_MODEL_b4636a5bfb214f0b8b593a01a331ef3e",
       "IPY_MODEL_21650799ada84ca594cdfa2e48def052",
       "IPY_MODEL_3eb37a4e4e084fff82a28e211dede80f"
      ],
      "crs": {
       "name": "EPSG3857",
       "custom": false
      },
      "default_style": "IPY_MODEL_c0551f7717bd499eab45ca15a9e19401",
      "double_click_zoom": true,
      "dragging": true,
      "dragging_style": "IPY_MODEL_b8679cb2b9f04ca3a50ae4ca94486692",
      "east": 119.1691340410028,
      "fullscreen": false,
      "inertia": true,
      "inertia_deceleration": 3000,
      "inertia_max_speed": 1500,
      "interpolation": "bilinear",
      "keyboard": true,
      "keyboard_pan_offset": 80,
      "keyboard_zoom_offset": 1,
      "layers": [
       "IPY_MODEL_1fff0abee7074af59c2581b9a8eda6db",
       "IPY_MODEL_baa5d414b54a46c1998d1966c76e2619",
       "IPY_MODEL_2a1996313a9e46bb889813046352fa5a"
      ],
      "layout": "IPY_MODEL_29976d3647f24c919479048086aff1da",
      "left": 52840.078801419884,
      "max_zoom": 24,
      "min_zoom": null,
      "modisdate": "2023-10-30",
      "north": 24.811667726392468,
      "options": [
       "bounce_at_zoom_limits",
       "box_zoom",
       "center",
       "close_popup_on_click",
       "double_click_zoom",
       "dragging",
       "fullscreen",
       "inertia",
       "inertia_deceleration",
       "inertia_max_speed",
       "interpolation",
       "keyboard",
       "keyboard_pan_offset",
       "keyboard_zoom_offset",
       "max_zoom",
       "min_zoom",
       "prefer_canvas",
       "scroll_wheel_zoom",
       "tap",
       "tap_tolerance",
       "touch_zoom",
       "world_copy_jump",
       "zoom",
       "zoom_animation_threshold",
       "zoom_delta",
       "zoom_snap"
      ],
      "panes": {},
      "prefer_canvas": false,
      "right": 54462.078801419884,
      "scroll_wheel_zoom": true,
      "south": 21.785006466780615,
      "style": "IPY_MODEL_c0551f7717bd499eab45ca15a9e19401",
      "tap": true,
      "tap_tolerance": 15,
      "top": 28102.999965718584,
      "touch_zoom": true,
      "west": 110.2592219316278,
      "window_url": "https://jqysxfykyom-496ff2e9c6d22116-0-colab.googleusercontent.com/outputframe.html?vrz=colab_20231027-060115_RC00_577154386",
      "world_copy_jump": false,
      "zoom": 8,
      "zoom_animation_threshold": 4,
      "zoom_delta": 1,
      "zoom_snap": 1
     }
    },
    "fdc972dd1e0849c2bf348b803120f211": {
     "model_module": "jupyter-leaflet",
     "model_name": "LeafletWidgetControlModel",
     "model_module_version": "^0.17",
     "state": {
      "_model_module": "jupyter-leaflet",
      "_model_module_version": "^0.17",
      "_model_name": "LeafletWidgetControlModel",
      "_view_count": null,
      "_view_module": "jupyter-leaflet",
      "_view_module_version": "^0.17",
      "_view_name": "LeafletWidgetControlView",
      "max_height": null,
      "max_width": null,
      "min_height": null,
      "min_width": null,
      "options": [
       "position",
       "transparent_bg"
      ],
      "position": "topleft",
      "transparent_bg": false,
      "widget": "IPY_MODEL_3a21d0645f8d46e7891fd8038f797fe7"
     }
    },
    "9111b5d325724199af03e828875a89cf": {
     "model_module": "jupyter-leaflet",
     "model_name": "LeafletZoomControlModel",
     "model_module_version": "^0.17",
     "state": {
      "_model_module": "jupyter-leaflet",
      "_model_module_version": "^0.17",
      "_model_name": "LeafletZoomControlModel",
      "_view_count": null,
      "_view_module": "jupyter-leaflet",
      "_view_module_version": "^0.17",
      "_view_name": "LeafletZoomControlView",
      "options": [
       "position",
       "zoom_in_text",
       "zoom_in_title",
       "zoom_out_text",
       "zoom_out_title"
      ],
      "position": "topleft",
      "zoom_in_text": "+",
      "zoom_in_title": "Zoom in",
      "zoom_out_text": "-",
      "zoom_out_title": "Zoom out"
     }
    },
    "b62b831863be43b29680c5fbf7ba4855": {
     "model_module": "jupyter-leaflet",
     "model_name": "LeafletFullScreenControlModel",
     "model_module_version": "^0.17",
     "state": {
      "_model_module": "jupyter-leaflet",
      "_model_module_version": "^0.17",
      "_model_name": "LeafletFullScreenControlModel",
      "_view_count": null,
      "_view_module": "jupyter-leaflet",
      "_view_module_version": "^0.17",
      "_view_name": "LeafletFullScreenControlView",
      "options": [
       "position"
      ],
      "position": "topleft"
     }
    },
    "0b188f2ef5db403a996455b8b4e935dd": {
     "model_module": "jupyter-leaflet",
     "model_name": "LeafletDrawControlModel",
     "model_module_version": "^0.17",
     "state": {
      "_model_module": "jupyter-leaflet",
      "_model_module_version": "^0.17",
      "_model_name": "LeafletDrawControlModel",
      "_view_count": null,
      "_view_module": "jupyter-leaflet",
      "_view_module_version": "^0.17",
      "_view_name": "LeafletDrawControlView",
      "circle": {},
      "circlemarker": {},
      "data": [],
      "edit": true,
      "marker": {
       "shapeOptions": {
        "color": "#3388ff"
       }
      },
      "options": [
       "position"
      ],
      "polygon": {
       "shapeOptions": {}
      },
      "polyline": {
       "shapeOptions": {}
      },
      "position": "topleft",
      "rectangle": {
       "shapeOptions": {
        "color": "#3388ff"
       }
      },
      "remove": true
     }
    },
    "e0b4d37041fa4610a9b829494140558c": {
     "model_module": "jupyter-leaflet",
     "model_name": "LeafletScaleControlModel",
     "model_module_version": "^0.17",
     "state": {
      "_model_module": "jupyter-leaflet",
      "_model_module_version": "^0.17",
      "_model_name": "LeafletScaleControlModel",
      "_view_count": null,
      "_view_module": "jupyter-leaflet",
      "_view_module_version": "^0.17",
      "_view_name": "LeafletScaleControlView",
      "imperial": true,
      "max_width": 100,
      "metric": true,
      "options": [
       "imperial",
       "max_width",
       "metric",
       "position",
       "update_when_idle"
      ],
      "position": "bottomleft",
      "update_when_idle": false
     }
    },
    "b4636a5bfb214f0b8b593a01a331ef3e": {
     "model_module": "jupyter-leaflet",
     "model_name": "LeafletMeasureControlModel",
     "model_module_version": "^0.17",
     "state": {
      "_custom_units": {},
      "_model_module": "jupyter-leaflet",
      "_model_module_version": "^0.17",
      "_model_name": "LeafletMeasureControlModel",
      "_view_count": null,
      "_view_module": "jupyter-leaflet",
      "_view_module_version": "^0.17",
      "_view_name": "LeafletMeasureControlView",
      "active_color": "orange",
      "capture_z_index": 10000,
      "completed_color": "#C8F2BE",
      "options": [
       "active_color",
       "capture_z_index",
       "completed_color",
       "popup_options",
       "position",
       "primary_area_unit",
       "primary_length_unit",
       "secondary_area_unit",
       "secondary_length_unit"
      ],
      "popup_options": {
       "className": "leaflet-measure-resultpopup",
       "autoPanPadding": [
        10,
        10
       ]
      },
      "position": "bottomleft",
      "primary_area_unit": "acres",
      "primary_length_unit": "kilometers",
      "secondary_area_unit": null,
      "secondary_length_unit": null
     }
    },
    "21650799ada84ca594cdfa2e48def052": {
     "model_module": "jupyter-leaflet",
     "model_name": "LeafletWidgetControlModel",
     "model_module_version": "^0.17",
     "state": {
      "_model_module": "jupyter-leaflet",
      "_model_module_version": "^0.17",
      "_model_name": "LeafletWidgetControlModel",
      "_view_count": null,
      "_view_module": "jupyter-leaflet",
      "_view_module_version": "^0.17",
      "_view_name": "LeafletWidgetControlView",
      "max_height": null,
      "max_width": null,
      "min_height": null,
      "min_width": null,
      "options": [
       "position",
       "transparent_bg"
      ],
      "position": "topright",
      "transparent_bg": false,
      "widget": "IPY_MODEL_35660d90cb7743e1a8c476b29e266ff2"
     }
    },
    "3eb37a4e4e084fff82a28e211dede80f": {
     "model_module": "jupyter-leaflet",
     "model_name": "LeafletAttributionControlModel",
     "model_module_version": "^0.17",
     "state": {
      "_model_module": "jupyter-leaflet",
      "_model_module_version": "^0.17",
      "_model_name": "LeafletAttributionControlModel",
      "_view_count": null,
      "_view_module": "jupyter-leaflet",
      "_view_module_version": "^0.17",
      "_view_name": "LeafletAttributionControlView",
      "options": [
       "position",
       "prefix"
      ],
      "position": "bottomright",
      "prefix": "ipyleaflet"
     }
    },
    "c0551f7717bd499eab45ca15a9e19401": {
     "model_module": "jupyter-leaflet",
     "model_name": "LeafletMapStyleModel",
     "model_module_version": "^0.17",
     "state": {
      "_model_module": "jupyter-leaflet",
      "_model_module_version": "^0.17",
      "_model_name": "LeafletMapStyleModel",
      "_view_count": null,
      "_view_module": "@jupyter-widgets/base",
      "_view_module_version": "1.2.0",
      "_view_name": "StyleView",
      "cursor": "grab"
     }
    },
    "b8679cb2b9f04ca3a50ae4ca94486692": {
     "model_module": "jupyter-leaflet",
     "model_name": "LeafletMapStyleModel",
     "model_module_version": "^0.17",
     "state": {
      "_model_module": "jupyter-leaflet",
      "_model_module_version": "^0.17",
      "_model_name": "LeafletMapStyleModel",
      "_view_count": null,
      "_view_module": "@jupyter-widgets/base",
      "_view_module_version": "1.2.0",
      "_view_name": "StyleView",
      "cursor": "move"
     }
    },
    "1fff0abee7074af59c2581b9a8eda6db": {
     "model_module": "jupyter-leaflet",
     "model_name": "LeafletTileLayerModel",
     "model_module_version": "^0.17",
     "state": {
      "_model_module": "jupyter-leaflet",
      "_model_module_version": "^0.17",
      "_model_name": "LeafletTileLayerModel",
      "_view_count": null,
      "_view_module": "jupyter-leaflet",
      "_view_module_version": "^0.17",
      "_view_name": "LeafletTileLayerView",
      "attribution": "&copy; <a href=\"https://www.openstreetmap.org/copyright\">OpenStreetMap</a> contributors",
      "base": true,
      "bottom": true,
      "bounds": null,
      "detect_retina": false,
      "loading": false,
      "max_native_zoom": null,
      "max_zoom": 19,
      "min_native_zoom": null,
      "min_zoom": 1,
      "name": "OpenStreetMap.Mapnik",
      "no_wrap": false,
      "opacity": 1,
      "options": [
       "attribution",
       "bounds",
       "detect_retina",
       "max_native_zoom",
       "max_zoom",
       "min_native_zoom",
       "min_zoom",
       "no_wrap",
       "tile_size",
       "tms",
       "zoom_offset"
      ],
      "pane": "",
      "popup": null,
      "popup_max_height": null,
      "popup_max_width": 300,
      "popup_min_width": 50,
      "show_loading": false,
      "subitems": [],
      "tile_size": 256,
      "tms": false,
      "url": "https://tile.openstreetmap.org/{z}/{x}/{y}.png",
      "visible": true,
      "zoom_offset": 0
     }
    },
    "baa5d414b54a46c1998d1966c76e2619": {
     "model_module": "jupyter-leaflet",
     "model_name": "LeafletTileLayerModel",
     "model_module_version": "^0.17",
     "state": {
      "_model_module": "jupyter-leaflet",
      "_model_module_version": "^0.17",
      "_model_name": "LeafletTileLayerModel",
      "_view_count": null,
      "_view_module": "jupyter-leaflet",
      "_view_module_version": "^0.17",
      "_view_name": "LeafletTileLayerView",
      "attribution": "Google Earth Engine",
      "base": false,
      "bottom": true,
      "bounds": null,
      "detect_retina": false,
      "loading": false,
      "max_native_zoom": null,
      "max_zoom": 24,
      "min_native_zoom": null,
      "min_zoom": 0,
      "name": "Image array",
      "no_wrap": false,
      "opacity": 1,
      "options": [
       "attribution",
       "bounds",
       "detect_retina",
       "max_native_zoom",
       "max_zoom",
       "min_native_zoom",
       "min_zoom",
       "no_wrap",
       "tile_size",
       "tms",
       "zoom_offset"
      ],
      "pane": "",
      "popup": null,
      "popup_max_height": null,
      "popup_max_width": 300,
      "popup_min_width": 50,
      "show_loading": false,
      "subitems": [],
      "tile_size": 256,
      "tms": false,
      "url": "https://earthengine.googleapis.com/v1/projects/earthengine-legacy/maps/24d6f23682c25c2988591bf03912bb95-b0e5b9b58b9894a3409529ed545f1549/tiles/{z}/{x}/{y}",
      "visible": true,
      "zoom_offset": 0
     }
    },
    "2a1996313a9e46bb889813046352fa5a": {
     "model_module": "jupyter-leaflet",
     "model_name": "LeafletTileLayerModel",
     "model_module_version": "^0.17",
     "state": {
      "_model_module": "jupyter-leaflet",
      "_model_module_version": "^0.17",
      "_model_name": "LeafletTileLayerModel",
      "_view_count": null,
      "_view_module": "jupyter-leaflet",
      "_view_module_version": "^0.17",
      "_view_name": "LeafletTileLayerView",
      "attribution": "Google Earth Engine",
      "base": false,
      "bottom": true,
      "bounds": null,
      "detect_retina": false,
      "loading": false,
      "max_native_zoom": null,
      "max_zoom": 24,
      "min_native_zoom": null,
      "min_zoom": 0,
      "name": "Image array2",
      "no_wrap": false,
      "opacity": 1,
      "options": [
       "attribution",
       "bounds",
       "detect_retina",
       "max_native_zoom",
       "max_zoom",
       "min_native_zoom",
       "min_zoom",
       "no_wrap",
       "tile_size",
       "tms",
       "zoom_offset"
      ],
      "pane": "",
      "popup": null,
      "popup_max_height": null,
      "popup_max_width": 300,
      "popup_min_width": 50,
      "show_loading": false,
      "subitems": [],
      "tile_size": 256,
      "tms": false,
      "url": "https://earthengine.googleapis.com/v1/projects/earthengine-legacy/maps/9f65bd6c00800179de7b397870a52c0d-6c4c35567af215415064bc70cdfd0740/tiles/{z}/{x}/{y}",
      "visible": true,
      "zoom_offset": 0
     }
    },
    "29976d3647f24c919479048086aff1da": {
     "model_module": "@jupyter-widgets/base",
     "model_name": "LayoutModel",
     "model_module_version": "1.2.0",
     "state": {
      "_model_module": "@jupyter-widgets/base",
      "_model_module_version": "1.2.0",
      "_model_name": "LayoutModel",
      "_view_count": null,
      "_view_module": "@jupyter-widgets/base",
      "_view_module_version": "1.2.0",
      "_view_name": "LayoutView",
      "align_content": null,
      "align_items": null,
      "align_self": null,
      "border": null,
      "bottom": null,
      "display": null,
      "flex": null,
      "flex_flow": null,
      "grid_area": null,
      "grid_auto_columns": null,
      "grid_auto_flow": null,
      "grid_auto_rows": null,
      "grid_column": null,
      "grid_gap": null,
      "grid_row": null,
      "grid_template_areas": null,
      "grid_template_columns": null,
      "grid_template_rows": null,
      "height": "600px",
      "justify_content": null,
      "justify_items": null,
      "left": null,
      "margin": null,
      "max_height": null,
      "max_width": null,
      "min_height": null,
      "min_width": null,
      "object_fit": null,
      "object_position": null,
      "order": null,
      "overflow": null,
      "overflow_x": null,
      "overflow_y": null,
      "padding": null,
      "right": null,
      "top": null,
      "visibility": null,
      "width": null
     }
    },
    "300866e1ea684494b5693e93ad5e0a2b": {
     "model_module": "jupyter-leaflet",
     "model_name": "LeafletMapStyleModel",
     "model_module_version": "^0.17",
     "state": {
      "_model_module": "jupyter-leaflet",
      "_model_module_version": "^0.17",
      "_model_name": "LeafletMapStyleModel",
      "_view_count": null,
      "_view_module": "@jupyter-widgets/base",
      "_view_module_version": "1.2.0",
      "_view_name": "StyleView",
      "cursor": "grab"
     }
    },
    "3a21d0645f8d46e7891fd8038f797fe7": {
     "model_module": "@jupyter-widgets/controls",
     "model_name": "HBoxModel",
     "model_module_version": "1.5.0",
     "state": {
      "_dom_classes": [
       "geemap-colab"
      ],
      "_model_module": "@jupyter-widgets/controls",
      "_model_module_version": "1.5.0",
      "_model_name": "HBoxModel",
      "_view_count": null,
      "_view_module": "@jupyter-widgets/controls",
      "_view_module_version": "1.5.0",
      "_view_name": "HBoxView",
      "box_style": "",
      "children": [
       "IPY_MODEL_1008aef2d86446a7892d2e9e20c1ecc1"
      ],
      "layout": "IPY_MODEL_aac0e7032f854bb291566d4947754b16"
     }
    },
    "35660d90cb7743e1a8c476b29e266ff2": {
     "model_module": "@jupyter-widgets/controls",
     "model_name": "VBoxModel",
     "model_module_version": "1.5.0",
     "state": {
      "_dom_classes": [
       "geemap-colab"
      ],
      "_model_module": "@jupyter-widgets/controls",
      "_model_module_version": "1.5.0",
      "_model_name": "VBoxModel",
      "_view_count": null,
      "_view_module": "@jupyter-widgets/controls",
      "_view_module_version": "1.5.0",
      "_view_name": "VBoxView",
      "box_style": "",
      "children": [
       "IPY_MODEL_9a46db3f5afe46ed98e3024779279caf"
      ],
      "layout": "IPY_MODEL_b2848e05c567434e985d073490ecf9ec"
     }
    },
    "1008aef2d86446a7892d2e9e20c1ecc1": {
     "model_module": "@jupyter-widgets/controls",
     "model_name": "ToggleButtonModel",
     "model_module_version": "1.5.0",
     "state": {
      "_dom_classes": [],
      "_model_module": "@jupyter-widgets/controls",
      "_model_module_version": "1.5.0",
      "_model_name": "ToggleButtonModel",
      "_view_count": null,
      "_view_module": "@jupyter-widgets/controls",
      "_view_module_version": "1.5.0",
      "_view_name": "ToggleButtonView",
      "button_style": "",
      "description": "",
      "description_tooltip": null,
      "disabled": false,
      "icon": "globe",
      "layout": "IPY_MODEL_c9dd1a0b3fad49268fd14710c7b46362",
      "style": "IPY_MODEL_92fe8788e5724ac797adb3d1dfddb6b5",
      "tooltip": "Search location/data",
      "value": false
     }
    },
    "aac0e7032f854bb291566d4947754b16": {
     "model_module": "@jupyter-widgets/base",
     "model_name": "LayoutModel",
     "model_module_version": "1.2.0",
     "state": {
      "_model_module": "@jupyter-widgets/base",
      "_model_module_version": "1.2.0",
      "_model_name": "LayoutModel",
      "_view_count": null,
      "_view_module": "@jupyter-widgets/base",
      "_view_module_version": "1.2.0",
      "_view_name": "LayoutView",
      "align_content": null,
      "align_items": null,
      "align_self": null,
      "border": null,
      "bottom": null,
      "display": null,
      "flex": null,
      "flex_flow": null,
      "grid_area": null,
      "grid_auto_columns": null,
      "grid_auto_flow": null,
      "grid_auto_rows": null,
      "grid_column": null,
      "grid_gap": null,
      "grid_row": null,
      "grid_template_areas": null,
      "grid_template_columns": null,
      "grid_template_rows": null,
      "height": null,
      "justify_content": null,
      "justify_items": null,
      "left": null,
      "margin": null,
      "max_height": null,
      "max_width": null,
      "min_height": null,
      "min_width": null,
      "object_fit": null,
      "object_position": null,
      "order": null,
      "overflow": null,
      "overflow_x": null,
      "overflow_y": null,
      "padding": null,
      "right": null,
      "top": null,
      "visibility": null,
      "width": null
     }
    },
    "9a46db3f5afe46ed98e3024779279caf": {
     "model_module": "@jupyter-widgets/controls",
     "model_name": "ToggleButtonModel",
     "model_module_version": "1.5.0",
     "state": {
      "_dom_classes": [],
      "_model_module": "@jupyter-widgets/controls",
      "_model_module_version": "1.5.0",
      "_model_name": "ToggleButtonModel",
      "_view_count": null,
      "_view_module": "@jupyter-widgets/controls",
      "_view_module_version": "1.5.0",
      "_view_name": "ToggleButtonView",
      "button_style": "",
      "description": "",
      "description_tooltip": null,
      "disabled": false,
      "icon": "wrench",
      "layout": "IPY_MODEL_c00d7244bb774c96a9e78a511a6bdad8",
      "style": "IPY_MODEL_1120401042284d5486f9a5ee41a1c38e",
      "tooltip": "Toolbar",
      "value": false
     }
    },
    "b2848e05c567434e985d073490ecf9ec": {
     "model_module": "@jupyter-widgets/base",
     "model_name": "LayoutModel",
     "model_module_version": "1.2.0",
     "state": {
      "_model_module": "@jupyter-widgets/base",
      "_model_module_version": "1.2.0",
      "_model_name": "LayoutModel",
      "_view_count": null,
      "_view_module": "@jupyter-widgets/base",
      "_view_module_version": "1.2.0",
      "_view_name": "LayoutView",
      "align_content": null,
      "align_items": null,
      "align_self": null,
      "border": null,
      "bottom": null,
      "display": null,
      "flex": null,
      "flex_flow": null,
      "grid_area": null,
      "grid_auto_columns": null,
      "grid_auto_flow": null,
      "grid_auto_rows": null,
      "grid_column": null,
      "grid_gap": null,
      "grid_row": null,
      "grid_template_areas": null,
      "grid_template_columns": null,
      "grid_template_rows": null,
      "height": null,
      "justify_content": null,
      "justify_items": null,
      "left": null,
      "margin": null,
      "max_height": null,
      "max_width": null,
      "min_height": null,
      "min_width": null,
      "object_fit": null,
      "object_position": null,
      "order": null,
      "overflow": null,
      "overflow_x": null,
      "overflow_y": null,
      "padding": null,
      "right": null,
      "top": null,
      "visibility": null,
      "width": null
     }
    },
    "c9dd1a0b3fad49268fd14710c7b46362": {
     "model_module": "@jupyter-widgets/base",
     "model_name": "LayoutModel",
     "model_module_version": "1.2.0",
     "state": {
      "_model_module": "@jupyter-widgets/base",
      "_model_module_version": "1.2.0",
      "_model_name": "LayoutModel",
      "_view_count": null,
      "_view_module": "@jupyter-widgets/base",
      "_view_module_version": "1.2.0",
      "_view_name": "LayoutView",
      "align_content": null,
      "align_items": null,
      "align_self": null,
      "border": null,
      "bottom": null,
      "display": null,
      "flex": null,
      "flex_flow": null,
      "grid_area": null,
      "grid_auto_columns": null,
      "grid_auto_flow": null,
      "grid_auto_rows": null,
      "grid_column": null,
      "grid_gap": null,
      "grid_row": null,
      "grid_template_areas": null,
      "grid_template_columns": null,
      "grid_template_rows": null,
      "height": "28px",
      "justify_content": null,
      "justify_items": null,
      "left": null,
      "margin": null,
      "max_height": null,
      "max_width": null,
      "min_height": null,
      "min_width": null,
      "object_fit": null,
      "object_position": null,
      "order": null,
      "overflow": null,
      "overflow_x": null,
      "overflow_y": null,
      "padding": "0px 0px 0px 4px",
      "right": null,
      "top": null,
      "visibility": null,
      "width": "28px"
     }
    },
    "92fe8788e5724ac797adb3d1dfddb6b5": {
     "model_module": "@jupyter-widgets/controls",
     "model_name": "DescriptionStyleModel",
     "model_module_version": "1.5.0",
     "state": {
      "_model_module": "@jupyter-widgets/controls",
      "_model_module_version": "1.5.0",
      "_model_name": "DescriptionStyleModel",
      "_view_count": null,
      "_view_module": "@jupyter-widgets/base",
      "_view_module_version": "1.2.0",
      "_view_name": "StyleView",
      "description_width": ""
     }
    },
    "c00d7244bb774c96a9e78a511a6bdad8": {
     "model_module": "@jupyter-widgets/base",
     "model_name": "LayoutModel",
     "model_module_version": "1.2.0",
     "state": {
      "_model_module": "@jupyter-widgets/base",
      "_model_module_version": "1.2.0",
      "_model_name": "LayoutModel",
      "_view_count": null,
      "_view_module": "@jupyter-widgets/base",
      "_view_module_version": "1.2.0",
      "_view_name": "LayoutView",
      "align_content": null,
      "align_items": null,
      "align_self": null,
      "border": null,
      "bottom": null,
      "display": null,
      "flex": null,
      "flex_flow": null,
      "grid_area": null,
      "grid_auto_columns": null,
      "grid_auto_flow": null,
      "grid_auto_rows": null,
      "grid_column": null,
      "grid_gap": null,
      "grid_row": null,
      "grid_template_areas": null,
      "grid_template_columns": null,
      "grid_template_rows": null,
      "height": "28px",
      "justify_content": null,
      "justify_items": null,
      "left": null,
      "margin": null,
      "max_height": null,
      "max_width": null,
      "min_height": null,
      "min_width": null,
      "object_fit": null,
      "object_position": null,
      "order": null,
      "overflow": null,
      "overflow_x": null,
      "overflow_y": null,
      "padding": "0px 0px 0px 4px",
      "right": null,
      "top": null,
      "visibility": null,
      "width": "28px"
     }
    },
    "1120401042284d5486f9a5ee41a1c38e": {
     "model_module": "@jupyter-widgets/controls",
     "model_name": "DescriptionStyleModel",
     "model_module_version": "1.5.0",
     "state": {
      "_model_module": "@jupyter-widgets/controls",
      "_model_module_version": "1.5.0",
      "_model_name": "DescriptionStyleModel",
      "_view_count": null,
      "_view_module": "@jupyter-widgets/base",
      "_view_module_version": "1.2.0",
      "_view_name": "StyleView",
      "description_width": ""
     }
    },
    "7fd33751130c4fb4ad9587921473952b": {
     "model_module": "jupyter-leaflet",
     "model_name": "LeafletMapModel",
     "model_module_version": "^0.17",
     "state": {
      "_dom_classes": [],
      "_model_module": "jupyter-leaflet",
      "_model_module_version": "^0.17",
      "_model_name": "LeafletMapModel",
      "_view_count": null,
      "_view_module": "jupyter-leaflet",
      "_view_module_version": "^0.17",
      "_view_name": "LeafletMapView",
      "bottom": 812,
      "bounce_at_zoom_limits": true,
      "box_zoom": true,
      "center": [
       0,
       0
      ],
      "close_popup_on_click": true,
      "controls": [
       "IPY_MODEL_34b162181d1044638ff02fdd0e4cc431",
       "IPY_MODEL_11e6e29caaad495f9f61203a23b2fa24",
       "IPY_MODEL_7752a0bfff4a4de38d49b76ce588b13b",
       "IPY_MODEL_2ab666f803214ce9a44db30f66e4f25f",
       "IPY_MODEL_97dac04128f2490a88fbc782537b80f8",
       "IPY_MODEL_a530b1a0bebe436bb775ce4f074261cf",
       "IPY_MODEL_f3c6f866c587448fb2277d174bb4afca",
       "IPY_MODEL_2ed29e998927477fa2bd2153d14e1830"
      ],
      "crs": {
       "name": "EPSG3857",
       "custom": false
      },
      "default_style": "IPY_MODEL_ca796b7b63ca414f839d135db6630847",
      "double_click_zoom": true,
      "dragging": true,
      "dragging_style": "IPY_MODEL_965f060e60ac49929e17a58b32c4efc0",
      "east": 299.53125000000006,
      "fullscreen": false,
      "inertia": true,
      "inertia_deceleration": 3000,
      "inertia_max_speed": 1500,
      "interpolation": "bilinear",
      "keyboard": true,
      "keyboard_pan_offset": 80,
      "keyboard_zoom_offset": 1,
      "layers": [
       "IPY_MODEL_6d574e139dc84aa29868473f665ad261",
       "IPY_MODEL_13d679c2f1584fb189caf2bcf0348902",
       "IPY_MODEL_74df2946184e4f30bf2b3807d8c0b6a2",
       "IPY_MODEL_73ad82e476c7430cbee46a0e68b63b30"
      ],
      "layout": "IPY_MODEL_7afd83b674af4d6d819175bf2f193913",
      "left": -340,
      "max_zoom": 24,
      "min_zoom": null,
      "modisdate": "2023-11-01",
      "north": 71.9653876991313,
      "options": [
       "bounce_at_zoom_limits",
       "box_zoom",
       "center",
       "close_popup_on_click",
       "double_click_zoom",
       "dragging",
       "fullscreen",
       "inertia",
       "inertia_deceleration",
       "inertia_max_speed",
       "interpolation",
       "keyboard",
       "keyboard_pan_offset",
       "keyboard_zoom_offset",
       "max_zoom",
       "min_zoom",
       "prefer_canvas",
       "scroll_wheel_zoom",
       "tap",
       "tap_tolerance",
       "touch_zoom",
       "world_copy_jump",
       "zoom",
       "zoom_animation_threshold",
       "zoom_delta",
       "zoom_snap"
      ],
      "panes": {},
      "prefer_canvas": false,
      "right": 1364,
      "scroll_wheel_zoom": true,
      "south": -71.96538769913128,
      "style": "IPY_MODEL_591f2a3055224be4a698e3acd0cd60d8",
      "tap": true,
      "tap_tolerance": 15,
      "top": 212,
      "touch_zoom": true,
      "west": -299.53125000000006,
      "window_url": "https://8n3cbmptg87-496ff2e9c6d22116-0-colab.googleusercontent.com/outputframe.html?vrz=colab_20231031-060132_RC00_578134721",
      "world_copy_jump": false,
      "zoom": 2,
      "zoom_animation_threshold": 4,
      "zoom_delta": 1,
      "zoom_snap": 1
     }
    },
    "34b162181d1044638ff02fdd0e4cc431": {
     "model_module": "jupyter-leaflet",
     "model_name": "LeafletWidgetControlModel",
     "model_module_version": "^0.17",
     "state": {
      "_model_module": "jupyter-leaflet",
      "_model_module_version": "^0.17",
      "_model_name": "LeafletWidgetControlModel",
      "_view_count": null,
      "_view_module": "jupyter-leaflet",
      "_view_module_version": "^0.17",
      "_view_name": "LeafletWidgetControlView",
      "max_height": null,
      "max_width": null,
      "min_height": null,
      "min_width": null,
      "options": [
       "position",
       "transparent_bg"
      ],
      "position": "topleft",
      "transparent_bg": false,
      "widget": "IPY_MODEL_d0ce6d511a864c0ca0cea75e33bd84b3"
     }
    },
    "11e6e29caaad495f9f61203a23b2fa24": {
     "model_module": "jupyter-leaflet",
     "model_name": "LeafletZoomControlModel",
     "model_module_version": "^0.17",
     "state": {
      "_model_module": "jupyter-leaflet",
      "_model_module_version": "^0.17",
      "_model_name": "LeafletZoomControlModel",
      "_view_count": null,
      "_view_module": "jupyter-leaflet",
      "_view_module_version": "^0.17",
      "_view_name": "LeafletZoomControlView",
      "options": [
       "position",
       "zoom_in_text",
       "zoom_in_title",
       "zoom_out_text",
       "zoom_out_title"
      ],
      "position": "topleft",
      "zoom_in_text": "+",
      "zoom_in_title": "Zoom in",
      "zoom_out_text": "-",
      "zoom_out_title": "Zoom out"
     }
    },
    "7752a0bfff4a4de38d49b76ce588b13b": {
     "model_module": "jupyter-leaflet",
     "model_name": "LeafletFullScreenControlModel",
     "model_module_version": "^0.17",
     "state": {
      "_model_module": "jupyter-leaflet",
      "_model_module_version": "^0.17",
      "_model_name": "LeafletFullScreenControlModel",
      "_view_count": null,
      "_view_module": "jupyter-leaflet",
      "_view_module_version": "^0.17",
      "_view_name": "LeafletFullScreenControlView",
      "options": [
       "position"
      ],
      "position": "topleft"
     }
    },
    "2ab666f803214ce9a44db30f66e4f25f": {
     "model_module": "jupyter-leaflet",
     "model_name": "LeafletDrawControlModel",
     "model_module_version": "^0.17",
     "state": {
      "_model_module": "jupyter-leaflet",
      "_model_module_version": "^0.17",
      "_model_name": "LeafletDrawControlModel",
      "_view_count": null,
      "_view_module": "jupyter-leaflet",
      "_view_module_version": "^0.17",
      "_view_name": "LeafletDrawControlView",
      "circle": {},
      "circlemarker": {},
      "data": [],
      "edit": true,
      "marker": {
       "shapeOptions": {
        "color": "#3388ff"
       }
      },
      "options": [
       "position"
      ],
      "polygon": {
       "shapeOptions": {}
      },
      "polyline": {
       "shapeOptions": {}
      },
      "position": "topleft",
      "rectangle": {
       "shapeOptions": {
        "color": "#3388ff"
       }
      },
      "remove": true
     }
    },
    "97dac04128f2490a88fbc782537b80f8": {
     "model_module": "jupyter-leaflet",
     "model_name": "LeafletScaleControlModel",
     "model_module_version": "^0.17",
     "state": {
      "_model_module": "jupyter-leaflet",
      "_model_module_version": "^0.17",
      "_model_name": "LeafletScaleControlModel",
      "_view_count": null,
      "_view_module": "jupyter-leaflet",
      "_view_module_version": "^0.17",
      "_view_name": "LeafletScaleControlView",
      "imperial": true,
      "max_width": 100,
      "metric": true,
      "options": [
       "imperial",
       "max_width",
       "metric",
       "position",
       "update_when_idle"
      ],
      "position": "bottomleft",
      "update_when_idle": false
     }
    },
    "a530b1a0bebe436bb775ce4f074261cf": {
     "model_module": "jupyter-leaflet",
     "model_name": "LeafletMeasureControlModel",
     "model_module_version": "^0.17",
     "state": {
      "_custom_units": {},
      "_model_module": "jupyter-leaflet",
      "_model_module_version": "^0.17",
      "_model_name": "LeafletMeasureControlModel",
      "_view_count": null,
      "_view_module": "jupyter-leaflet",
      "_view_module_version": "^0.17",
      "_view_name": "LeafletMeasureControlView",
      "active_color": "orange",
      "capture_z_index": 10000,
      "completed_color": "#C8F2BE",
      "options": [
       "active_color",
       "capture_z_index",
       "completed_color",
       "popup_options",
       "position",
       "primary_area_unit",
       "primary_length_unit",
       "secondary_area_unit",
       "secondary_length_unit"
      ],
      "popup_options": {
       "className": "leaflet-measure-resultpopup",
       "autoPanPadding": [
        10,
        10
       ]
      },
      "position": "bottomleft",
      "primary_area_unit": "acres",
      "primary_length_unit": "kilometers",
      "secondary_area_unit": null,
      "secondary_length_unit": null
     }
    },
    "f3c6f866c587448fb2277d174bb4afca": {
     "model_module": "jupyter-leaflet",
     "model_name": "LeafletWidgetControlModel",
     "model_module_version": "^0.17",
     "state": {
      "_model_module": "jupyter-leaflet",
      "_model_module_version": "^0.17",
      "_model_name": "LeafletWidgetControlModel",
      "_view_count": null,
      "_view_module": "jupyter-leaflet",
      "_view_module_version": "^0.17",
      "_view_name": "LeafletWidgetControlView",
      "max_height": null,
      "max_width": null,
      "min_height": null,
      "min_width": null,
      "options": [
       "position",
       "transparent_bg"
      ],
      "position": "topright",
      "transparent_bg": false,
      "widget": "IPY_MODEL_ff20a2411b514e4296850f3087333d16"
     }
    },
    "2ed29e998927477fa2bd2153d14e1830": {
     "model_module": "jupyter-leaflet",
     "model_name": "LeafletAttributionControlModel",
     "model_module_version": "^0.17",
     "state": {
      "_model_module": "jupyter-leaflet",
      "_model_module_version": "^0.17",
      "_model_name": "LeafletAttributionControlModel",
      "_view_count": null,
      "_view_module": "jupyter-leaflet",
      "_view_module_version": "^0.17",
      "_view_name": "LeafletAttributionControlView",
      "options": [
       "position",
       "prefix"
      ],
      "position": "bottomright",
      "prefix": "ipyleaflet"
     }
    },
    "ca796b7b63ca414f839d135db6630847": {
     "model_module": "jupyter-leaflet",
     "model_name": "LeafletMapStyleModel",
     "model_module_version": "^0.17",
     "state": {
      "_model_module": "jupyter-leaflet",
      "_model_module_version": "^0.17",
      "_model_name": "LeafletMapStyleModel",
      "_view_count": null,
      "_view_module": "@jupyter-widgets/base",
      "_view_module_version": "1.2.0",
      "_view_name": "StyleView",
      "cursor": "grab"
     }
    },
    "965f060e60ac49929e17a58b32c4efc0": {
     "model_module": "jupyter-leaflet",
     "model_name": "LeafletMapStyleModel",
     "model_module_version": "^0.17",
     "state": {
      "_model_module": "jupyter-leaflet",
      "_model_module_version": "^0.17",
      "_model_name": "LeafletMapStyleModel",
      "_view_count": null,
      "_view_module": "@jupyter-widgets/base",
      "_view_module_version": "1.2.0",
      "_view_name": "StyleView",
      "cursor": "move"
     }
    },
    "6d574e139dc84aa29868473f665ad261": {
     "model_module": "jupyter-leaflet",
     "model_name": "LeafletTileLayerModel",
     "model_module_version": "^0.17",
     "state": {
      "_model_module": "jupyter-leaflet",
      "_model_module_version": "^0.17",
      "_model_name": "LeafletTileLayerModel",
      "_view_count": null,
      "_view_module": "jupyter-leaflet",
      "_view_module_version": "^0.17",
      "_view_name": "LeafletTileLayerView",
      "attribution": "&copy; <a href=\"https://www.openstreetmap.org/copyright\">OpenStreetMap</a> contributors",
      "base": true,
      "bottom": true,
      "bounds": null,
      "detect_retina": false,
      "loading": false,
      "max_native_zoom": null,
      "max_zoom": 19,
      "min_native_zoom": null,
      "min_zoom": 1,
      "name": "OpenStreetMap.Mapnik",
      "no_wrap": false,
      "opacity": 1,
      "options": [
       "attribution",
       "bounds",
       "detect_retina",
       "max_native_zoom",
       "max_zoom",
       "min_native_zoom",
       "min_zoom",
       "no_wrap",
       "tile_size",
       "tms",
       "zoom_offset"
      ],
      "pane": "",
      "popup": null,
      "popup_max_height": null,
      "popup_max_width": 300,
      "popup_min_width": 50,
      "show_loading": false,
      "subitems": [],
      "tile_size": 256,
      "tms": false,
      "url": "https://tile.openstreetmap.org/{z}/{x}/{y}.png",
      "visible": true,
      "zoom_offset": 0
     }
    },
    "13d679c2f1584fb189caf2bcf0348902": {
     "model_module": "jupyter-leaflet",
     "model_name": "LeafletTileLayerModel",
     "model_module_version": "^0.17",
     "state": {
      "_model_module": "jupyter-leaflet",
      "_model_module_version": "^0.17",
      "_model_name": "LeafletTileLayerModel",
      "_view_count": null,
      "_view_module": "jupyter-leaflet",
      "_view_module_version": "^0.17",
      "_view_name": "LeafletTileLayerView",
      "attribution": "Google Earth Engine",
      "base": false,
      "bottom": true,
      "bounds": null,
      "detect_retina": false,
      "loading": false,
      "max_native_zoom": null,
      "max_zoom": 24,
      "min_native_zoom": null,
      "min_zoom": 0,
      "name": "img",
      "no_wrap": false,
      "opacity": 1,
      "options": [
       "attribution",
       "bounds",
       "detect_retina",
       "max_native_zoom",
       "max_zoom",
       "min_native_zoom",
       "min_zoom",
       "no_wrap",
       "tile_size",
       "tms",
       "zoom_offset"
      ],
      "pane": "",
      "popup": null,
      "popup_max_height": null,
      "popup_max_width": 300,
      "popup_min_width": 50,
      "show_loading": false,
      "subitems": [],
      "tile_size": 256,
      "tms": false,
      "url": "https://earthengine.googleapis.com/v1/projects/earthengine-legacy/maps/71ac0eaf04872ea479a9129e5733e94e-2c9c54b1a85844cc9721fbe4f05a5b60/tiles/{z}/{x}/{y}",
      "visible": true,
      "zoom_offset": 0
     }
    },
    "74df2946184e4f30bf2b3807d8c0b6a2": {
     "model_module": "jupyter-leaflet",
     "model_name": "LeafletTileLayerModel",
     "model_module_version": "^0.17",
     "state": {
      "_model_module": "jupyter-leaflet",
      "_model_module_version": "^0.17",
      "_model_name": "LeafletTileLayerModel",
      "_view_count": null,
      "_view_module": "jupyter-leaflet",
      "_view_module_version": "^0.17",
      "_view_name": "LeafletTileLayerView",
      "attribution": "Google Earth Engine",
      "base": false,
      "bottom": true,
      "bounds": null,
      "detect_retina": false,
      "loading": false,
      "max_native_zoom": null,
      "max_zoom": 24,
      "min_native_zoom": null,
      "min_zoom": 0,
      "name": "image_mask",
      "no_wrap": false,
      "opacity": 1,
      "options": [
       "attribution",
       "bounds",
       "detect_retina",
       "max_native_zoom",
       "max_zoom",
       "min_native_zoom",
       "min_zoom",
       "no_wrap",
       "tile_size",
       "tms",
       "zoom_offset"
      ],
      "pane": "",
      "popup": null,
      "popup_max_height": null,
      "popup_max_width": 300,
      "popup_min_width": 50,
      "show_loading": false,
      "subitems": [],
      "tile_size": 256,
      "tms": false,
      "url": "https://earthengine.googleapis.com/v1/projects/earthengine-legacy/maps/9478f4a837eb50d21478eae9bb8c8f4f-00c39b9a1cb59bfed702038b5400aa72/tiles/{z}/{x}/{y}",
      "visible": true,
      "zoom_offset": 0
     }
    },
    "73ad82e476c7430cbee46a0e68b63b30": {
     "model_module": "jupyter-leaflet",
     "model_name": "LeafletTileLayerModel",
     "model_module_version": "^0.17",
     "state": {
      "_model_module": "jupyter-leaflet",
      "_model_module_version": "^0.17",
      "_model_name": "LeafletTileLayerModel",
      "_view_count": null,
      "_view_module": "jupyter-leaflet",
      "_view_module_version": "^0.17",
      "_view_name": "LeafletTileLayerView",
      "attribution": "Google Earth Engine",
      "base": false,
      "bottom": true,
      "bounds": null,
      "detect_retina": false,
      "loading": false,
      "max_native_zoom": null,
      "max_zoom": 24,
      "min_native_zoom": null,
      "min_zoom": 0,
      "name": "image_masked",
      "no_wrap": false,
      "opacity": 1,
      "options": [
       "attribution",
       "bounds",
       "detect_retina",
       "max_native_zoom",
       "max_zoom",
       "min_native_zoom",
       "min_zoom",
       "no_wrap",
       "tile_size",
       "tms",
       "zoom_offset"
      ],
      "pane": "",
      "popup": null,
      "popup_max_height": null,
      "popup_max_width": 300,
      "popup_min_width": 50,
      "show_loading": false,
      "subitems": [],
      "tile_size": 256,
      "tms": false,
      "url": "https://earthengine.googleapis.com/v1/projects/earthengine-legacy/maps/aa2fef748a1f5762e53633208f95bf1a-65e29930e59796833feea9d43b60fe78/tiles/{z}/{x}/{y}",
      "visible": true,
      "zoom_offset": 0
     }
    },
    "7afd83b674af4d6d819175bf2f193913": {
     "model_module": "@jupyter-widgets/base",
     "model_name": "LayoutModel",
     "model_module_version": "1.2.0",
     "state": {
      "_model_module": "@jupyter-widgets/base",
      "_model_module_version": "1.2.0",
      "_model_name": "LayoutModel",
      "_view_count": null,
      "_view_module": "@jupyter-widgets/base",
      "_view_module_version": "1.2.0",
      "_view_name": "LayoutView",
      "align_content": null,
      "align_items": null,
      "align_self": null,
      "border": null,
      "bottom": null,
      "display": null,
      "flex": null,
      "flex_flow": null,
      "grid_area": null,
      "grid_auto_columns": null,
      "grid_auto_flow": null,
      "grid_auto_rows": null,
      "grid_column": null,
      "grid_gap": null,
      "grid_row": null,
      "grid_template_areas": null,
      "grid_template_columns": null,
      "grid_template_rows": null,
      "height": "600px",
      "justify_content": null,
      "justify_items": null,
      "left": null,
      "margin": null,
      "max_height": null,
      "max_width": null,
      "min_height": null,
      "min_width": null,
      "object_fit": null,
      "object_position": null,
      "order": null,
      "overflow": null,
      "overflow_x": null,
      "overflow_y": null,
      "padding": null,
      "right": null,
      "top": null,
      "visibility": null,
      "width": null
     }
    },
    "591f2a3055224be4a698e3acd0cd60d8": {
     "model_module": "jupyter-leaflet",
     "model_name": "LeafletMapStyleModel",
     "model_module_version": "^0.17",
     "state": {
      "_model_module": "jupyter-leaflet",
      "_model_module_version": "^0.17",
      "_model_name": "LeafletMapStyleModel",
      "_view_count": null,
      "_view_module": "@jupyter-widgets/base",
      "_view_module_version": "1.2.0",
      "_view_name": "StyleView",
      "cursor": "grab"
     }
    },
    "d0ce6d511a864c0ca0cea75e33bd84b3": {
     "model_module": "@jupyter-widgets/controls",
     "model_name": "HBoxModel",
     "model_module_version": "1.5.0",
     "state": {
      "_dom_classes": [
       "geemap-colab"
      ],
      "_model_module": "@jupyter-widgets/controls",
      "_model_module_version": "1.5.0",
      "_model_name": "HBoxModel",
      "_view_count": null,
      "_view_module": "@jupyter-widgets/controls",
      "_view_module_version": "1.5.0",
      "_view_name": "HBoxView",
      "box_style": "",
      "children": [
       "IPY_MODEL_8fe517cbf1f546f5a9db9795127b1bb9"
      ],
      "layout": "IPY_MODEL_1c32cd7d406b4158a9ac69664951842f"
     }
    },
    "ff20a2411b514e4296850f3087333d16": {
     "model_module": "@jupyter-widgets/controls",
     "model_name": "VBoxModel",
     "model_module_version": "1.5.0",
     "state": {
      "_dom_classes": [
       "geemap-colab"
      ],
      "_model_module": "@jupyter-widgets/controls",
      "_model_module_version": "1.5.0",
      "_model_name": "VBoxModel",
      "_view_count": null,
      "_view_module": "@jupyter-widgets/controls",
      "_view_module_version": "1.5.0",
      "_view_name": "VBoxView",
      "box_style": "",
      "children": [
       "IPY_MODEL_c99c991f9b514185bd1b88d3145ca45e"
      ],
      "layout": "IPY_MODEL_33c72ae5d08f4d92a6453e841f28e82d"
     }
    },
    "8fe517cbf1f546f5a9db9795127b1bb9": {
     "model_module": "@jupyter-widgets/controls",
     "model_name": "ToggleButtonModel",
     "model_module_version": "1.5.0",
     "state": {
      "_dom_classes": [],
      "_model_module": "@jupyter-widgets/controls",
      "_model_module_version": "1.5.0",
      "_model_name": "ToggleButtonModel",
      "_view_count": null,
      "_view_module": "@jupyter-widgets/controls",
      "_view_module_version": "1.5.0",
      "_view_name": "ToggleButtonView",
      "button_style": "",
      "description": "",
      "description_tooltip": null,
      "disabled": false,
      "icon": "globe",
      "layout": "IPY_MODEL_edd627dbf19347f18669a753b8acb511",
      "style": "IPY_MODEL_0e552014c58f4021bafd74c586c99fce",
      "tooltip": "Search location/data",
      "value": false
     }
    },
    "1c32cd7d406b4158a9ac69664951842f": {
     "model_module": "@jupyter-widgets/base",
     "model_name": "LayoutModel",
     "model_module_version": "1.2.0",
     "state": {
      "_model_module": "@jupyter-widgets/base",
      "_model_module_version": "1.2.0",
      "_model_name": "LayoutModel",
      "_view_count": null,
      "_view_module": "@jupyter-widgets/base",
      "_view_module_version": "1.2.0",
      "_view_name": "LayoutView",
      "align_content": null,
      "align_items": null,
      "align_self": null,
      "border": null,
      "bottom": null,
      "display": null,
      "flex": null,
      "flex_flow": null,
      "grid_area": null,
      "grid_auto_columns": null,
      "grid_auto_flow": null,
      "grid_auto_rows": null,
      "grid_column": null,
      "grid_gap": null,
      "grid_row": null,
      "grid_template_areas": null,
      "grid_template_columns": null,
      "grid_template_rows": null,
      "height": null,
      "justify_content": null,
      "justify_items": null,
      "left": null,
      "margin": null,
      "max_height": null,
      "max_width": null,
      "min_height": null,
      "min_width": null,
      "object_fit": null,
      "object_position": null,
      "order": null,
      "overflow": null,
      "overflow_x": null,
      "overflow_y": null,
      "padding": null,
      "right": null,
      "top": null,
      "visibility": null,
      "width": null
     }
    },
    "c99c991f9b514185bd1b88d3145ca45e": {
     "model_module": "@jupyter-widgets/controls",
     "model_name": "ToggleButtonModel",
     "model_module_version": "1.5.0",
     "state": {
      "_dom_classes": [],
      "_model_module": "@jupyter-widgets/controls",
      "_model_module_version": "1.5.0",
      "_model_name": "ToggleButtonModel",
      "_view_count": null,
      "_view_module": "@jupyter-widgets/controls",
      "_view_module_version": "1.5.0",
      "_view_name": "ToggleButtonView",
      "button_style": "",
      "description": "",
      "description_tooltip": null,
      "disabled": false,
      "icon": "wrench",
      "layout": "IPY_MODEL_71b177d08f59466196b5e71609c1688a",
      "style": "IPY_MODEL_b73b002e3e5d41498547d846db1101ba",
      "tooltip": "Toolbar",
      "value": false
     }
    },
    "33c72ae5d08f4d92a6453e841f28e82d": {
     "model_module": "@jupyter-widgets/base",
     "model_name": "LayoutModel",
     "model_module_version": "1.2.0",
     "state": {
      "_model_module": "@jupyter-widgets/base",
      "_model_module_version": "1.2.0",
      "_model_name": "LayoutModel",
      "_view_count": null,
      "_view_module": "@jupyter-widgets/base",
      "_view_module_version": "1.2.0",
      "_view_name": "LayoutView",
      "align_content": null,
      "align_items": null,
      "align_self": null,
      "border": null,
      "bottom": null,
      "display": null,
      "flex": null,
      "flex_flow": null,
      "grid_area": null,
      "grid_auto_columns": null,
      "grid_auto_flow": null,
      "grid_auto_rows": null,
      "grid_column": null,
      "grid_gap": null,
      "grid_row": null,
      "grid_template_areas": null,
      "grid_template_columns": null,
      "grid_template_rows": null,
      "height": null,
      "justify_content": null,
      "justify_items": null,
      "left": null,
      "margin": null,
      "max_height": null,
      "max_width": null,
      "min_height": null,
      "min_width": null,
      "object_fit": null,
      "object_position": null,
      "order": null,
      "overflow": null,
      "overflow_x": null,
      "overflow_y": null,
      "padding": null,
      "right": null,
      "top": null,
      "visibility": null,
      "width": null
     }
    },
    "edd627dbf19347f18669a753b8acb511": {
     "model_module": "@jupyter-widgets/base",
     "model_name": "LayoutModel",
     "model_module_version": "1.2.0",
     "state": {
      "_model_module": "@jupyter-widgets/base",
      "_model_module_version": "1.2.0",
      "_model_name": "LayoutModel",
      "_view_count": null,
      "_view_module": "@jupyter-widgets/base",
      "_view_module_version": "1.2.0",
      "_view_name": "LayoutView",
      "align_content": null,
      "align_items": null,
      "align_self": null,
      "border": null,
      "bottom": null,
      "display": null,
      "flex": null,
      "flex_flow": null,
      "grid_area": null,
      "grid_auto_columns": null,
      "grid_auto_flow": null,
      "grid_auto_rows": null,
      "grid_column": null,
      "grid_gap": null,
      "grid_row": null,
      "grid_template_areas": null,
      "grid_template_columns": null,
      "grid_template_rows": null,
      "height": "28px",
      "justify_content": null,
      "justify_items": null,
      "left": null,
      "margin": null,
      "max_height": null,
      "max_width": null,
      "min_height": null,
      "min_width": null,
      "object_fit": null,
      "object_position": null,
      "order": null,
      "overflow": null,
      "overflow_x": null,
      "overflow_y": null,
      "padding": "0px 0px 0px 4px",
      "right": null,
      "top": null,
      "visibility": null,
      "width": "28px"
     }
    },
    "0e552014c58f4021bafd74c586c99fce": {
     "model_module": "@jupyter-widgets/controls",
     "model_name": "DescriptionStyleModel",
     "model_module_version": "1.5.0",
     "state": {
      "_model_module": "@jupyter-widgets/controls",
      "_model_module_version": "1.5.0",
      "_model_name": "DescriptionStyleModel",
      "_view_count": null,
      "_view_module": "@jupyter-widgets/base",
      "_view_module_version": "1.2.0",
      "_view_name": "StyleView",
      "description_width": ""
     }
    },
    "71b177d08f59466196b5e71609c1688a": {
     "model_module": "@jupyter-widgets/base",
     "model_name": "LayoutModel",
     "model_module_version": "1.2.0",
     "state": {
      "_model_module": "@jupyter-widgets/base",
      "_model_module_version": "1.2.0",
      "_model_name": "LayoutModel",
      "_view_count": null,
      "_view_module": "@jupyter-widgets/base",
      "_view_module_version": "1.2.0",
      "_view_name": "LayoutView",
      "align_content": null,
      "align_items": null,
      "align_self": null,
      "border": null,
      "bottom": null,
      "display": null,
      "flex": null,
      "flex_flow": null,
      "grid_area": null,
      "grid_auto_columns": null,
      "grid_auto_flow": null,
      "grid_auto_rows": null,
      "grid_column": null,
      "grid_gap": null,
      "grid_row": null,
      "grid_template_areas": null,
      "grid_template_columns": null,
      "grid_template_rows": null,
      "height": "28px",
      "justify_content": null,
      "justify_items": null,
      "left": null,
      "margin": null,
      "max_height": null,
      "max_width": null,
      "min_height": null,
      "min_width": null,
      "object_fit": null,
      "object_position": null,
      "order": null,
      "overflow": null,
      "overflow_x": null,
      "overflow_y": null,
      "padding": "0px 0px 0px 4px",
      "right": null,
      "top": null,
      "visibility": null,
      "width": "28px"
     }
    },
    "b73b002e3e5d41498547d846db1101ba": {
     "model_module": "@jupyter-widgets/controls",
     "model_name": "DescriptionStyleModel",
     "model_module_version": "1.5.0",
     "state": {
      "_model_module": "@jupyter-widgets/controls",
      "_model_module_version": "1.5.0",
      "_model_name": "DescriptionStyleModel",
      "_view_count": null,
      "_view_module": "@jupyter-widgets/base",
      "_view_module_version": "1.2.0",
      "_view_name": "StyleView",
      "description_width": ""
     }
    }
   }
  }
 },
 "cells": [
  {
   "cell_type": "markdown",
   "source": [
    "# **【注意】**使用模型的时候记得将运行时类型改为GUP"
   ],
   "metadata": {
    "id": "fZCvd1_KB8CR"
   }
  },
  {
   "cell_type": "code",
   "execution_count": 20,
   "metadata": {
    "id": "JZV2FN3vxgGd",
    "colab": {
     "base_uri": "https://localhost:8080/",
     "height": 142
    },
    "outputId": "546c44e5-b49d-48d5-c231-8286744971be"
   },
   "outputs": [
    {
     "output_type": "display_data",
     "data": {
      "text/plain": [
       "<IPython.core.display.HTML object>"
      ],
      "text/html": [
       "\n",
       "            <style>\n",
       "                .geemap-dark {\n",
       "                    --jp-widgets-color: white;\n",
       "                    --jp-widgets-label-color: white;\n",
       "                    --jp-ui-font-color1: white;\n",
       "                    --jp-layout-color2: #454545;\n",
       "                    background-color: #383838;\n",
       "                }\n",
       "                    \n",
       "                .geemap-dark .jupyter-button {\n",
       "                    --jp-layout-color3: #383838;\n",
       "                }\n",
       "                \n",
       "                .geemap-colab {\n",
       "                    background-color: var(--colab-primary-surface-color, white);\n",
       "                }\n",
       "                    \n",
       "                .geemap-colab .jupyter-button {\n",
       "                    --jp-layout-color3: var(--colab-primary-surface-color, white);\n",
       "                }\n",
       "            </style>\n",
       "            "
      ]
     },
     "metadata": {}
    },
    {
     "output_type": "stream",
     "name": "stdout",
     "text": [
      "Cloning into 'U-TILISE'...\n",
      "remote: Enumerating objects: 64, done.\u001B[K\n",
      "remote: Counting objects: 100% (64/64), done.\u001B[K\n",
      "remote: Compressing objects: 100% (54/54), done.\u001B[K\n",
      "remote: Total 64 (delta 8), reused 63 (delta 7), pack-reused 0\u001B[K\n",
      "Receiving objects: 100% (64/64), 9.61 MiB | 26.82 MiB/s, done.\n",
      "Resolving deltas: 100% (8/8), done.\n"
     ]
    }
   ],
   "source": [
    "!git clone https://github.com/prs-eth/U-TILISE.git"
   ]
  },
  {
   "cell_type": "code",
   "source": [
    "!nvcc --version"
   ],
   "metadata": {
    "id": "bOHBO_G1cSV-"
   },
   "execution_count": null,
   "outputs": []
  },
  {
   "cell_type": "code",
   "source": [
    "# !pip install torch==1.13.1+cu116 torchvision==0.14.1+cu116 torchaudio==0.13.1 --extra-index-url https://download.pytorch.org/whl/cu116\n",
    "!pip install torch==2.0.1+cu118 torchvision==0.15.2+cu118 torchaudio==2.0.2 --index-url https://download.pytorch.org/whl/cu118"
   ],
   "metadata": {
    "id": "DdaYNQNAHXeF"
   },
   "execution_count": null,
   "outputs": []
  },
  {
   "cell_type": "code",
   "source": [
    "!pip install torchdata\n",
    "!pip install torchtext"
   ],
   "metadata": {
    "id": "XzzjK9ZLQcw_"
   },
   "execution_count": null,
   "outputs": []
  },
  {
   "cell_type": "code",
   "source": [
    "!pip install -r requ.txt\n",
    "\n",
    "# !pip install h5py\n",
    "# !pip install ipywidgets\n",
    "# !pip install ipykernel\n",
    "# !pip install kornia\n",
    "# !pip install matplotlib\n",
    "# !pip install numba\n",
    "# !pip install omegaconf\n",
    "# !pip install tqdm\n",
    "# !pip install wandb\n",
    "# !pip install setuptools\n",
    "# !pip install prodict\n",
    "# !pip install torchgeometry\n",
    "# !pip install tensorboard\n",
    "# !pip install nestargs"
   ],
   "metadata": {
    "id": "hKrgQoCkMKLd",
    "colab": {
     "base_uri": "https://localhost:8080/",
     "height": 1000
    },
    "outputId": "478aa10d-26c7-4658-8b29-a9f85ad34806"
   },
   "execution_count": 23,
   "outputs": [
    {
     "output_type": "display_data",
     "data": {
      "text/plain": [
       "<IPython.core.display.HTML object>"
      ],
      "text/html": [
       "\n",
       "            <style>\n",
       "                .geemap-dark {\n",
       "                    --jp-widgets-color: white;\n",
       "                    --jp-widgets-label-color: white;\n",
       "                    --jp-ui-font-color1: white;\n",
       "                    --jp-layout-color2: #454545;\n",
       "                    background-color: #383838;\n",
       "                }\n",
       "                    \n",
       "                .geemap-dark .jupyter-button {\n",
       "                    --jp-layout-color3: #383838;\n",
       "                }\n",
       "                \n",
       "                .geemap-colab {\n",
       "                    background-color: var(--colab-primary-surface-color, white);\n",
       "                }\n",
       "                    \n",
       "                .geemap-colab .jupyter-button {\n",
       "                    --jp-layout-color3: var(--colab-primary-surface-color, white);\n",
       "                }\n",
       "            </style>\n",
       "            "
      ]
     },
     "metadata": {}
    },
    {
     "output_type": "stream",
     "name": "stdout",
     "text": [
      "Requirement already satisfied: h5py in /usr/local/lib/python3.10/dist-packages (from -r requ.txt (line 1)) (3.9.0)\n",
      "Requirement already satisfied: ipywidgets in /usr/local/lib/python3.10/dist-packages (from -r requ.txt (line 2)) (7.7.1)\n",
      "Requirement already satisfied: ipykernel in /usr/local/lib/python3.10/dist-packages (from -r requ.txt (line 3)) (5.5.6)\n",
      "Collecting kornia (from -r requ.txt (line 4))\n",
      "  Downloading kornia-0.7.0-py2.py3-none-any.whl (705 kB)\n",
      "\u001B[2K     \u001B[90m━━━━━━━━━━━━━━━━━━━━━━━━━━━━━━━━━━━━━━━━\u001B[0m \u001B[32m705.7/705.7 kB\u001B[0m \u001B[31m9.4 MB/s\u001B[0m eta \u001B[36m0:00:00\u001B[0m\n",
      "\u001B[?25hRequirement already satisfied: matplotlib in /usr/local/lib/python3.10/dist-packages (from -r requ.txt (line 5)) (3.7.1)\n",
      "Requirement already satisfied: numba in /usr/local/lib/python3.10/dist-packages (from -r requ.txt (line 6)) (0.56.4)\n",
      "Collecting omegaconf (from -r requ.txt (line 7))\n",
      "  Downloading omegaconf-2.3.0-py3-none-any.whl (79 kB)\n",
      "\u001B[2K     \u001B[90m━━━━━━━━━━━━━━━━━━━━━━━━━━━━━━━━━━━━━━━━\u001B[0m \u001B[32m79.5/79.5 kB\u001B[0m \u001B[31m8.6 MB/s\u001B[0m eta \u001B[36m0:00:00\u001B[0m\n",
      "\u001B[?25hRequirement already satisfied: tqdm in /usr/local/lib/python3.10/dist-packages (from -r requ.txt (line 8)) (4.66.1)\n",
      "Collecting wandb (from -r requ.txt (line 9))\n",
      "  Downloading wandb-0.15.12-py3-none-any.whl (2.1 MB)\n",
      "\u001B[2K     \u001B[90m━━━━━━━━━━━━━━━━━━━━━━━━━━━━━━━━━━━━━━━━\u001B[0m \u001B[32m2.1/2.1 MB\u001B[0m \u001B[31m51.3 MB/s\u001B[0m eta \u001B[36m0:00:00\u001B[0m\n",
      "\u001B[?25hRequirement already satisfied: setuptools in /usr/local/lib/python3.10/dist-packages (from -r requ.txt (line 10)) (67.7.2)\n",
      "Collecting prodict (from -r requ.txt (line 11))\n",
      "  Downloading prodict-0.8.18.tar.gz (4.2 kB)\n",
      "  Preparing metadata (setup.py) ... \u001B[?25l\u001B[?25hdone\n",
      "Collecting torchgeometry (from -r requ.txt (line 12))\n",
      "  Downloading torchgeometry-0.1.2-py2.py3-none-any.whl (42 kB)\n",
      "\u001B[2K     \u001B[90m━━━━━━━━━━━━━━━━━━━━━━━━━━━━━━━━━━━━━━━━\u001B[0m \u001B[32m42.7/42.7 kB\u001B[0m \u001B[31m4.3 MB/s\u001B[0m eta \u001B[36m0:00:00\u001B[0m\n",
      "\u001B[?25hRequirement already satisfied: tensorboard in /usr/local/lib/python3.10/dist-packages (from -r requ.txt (line 13)) (2.14.1)\n",
      "Collecting nestargs (from -r requ.txt (line 14))\n",
      "  Downloading nestargs-0.5.0-py3-none-any.whl (5.4 kB)\n",
      "Requirement already satisfied: numpy>=1.17.3 in /usr/local/lib/python3.10/dist-packages (from h5py->-r requ.txt (line 1)) (1.23.5)\n",
      "Requirement already satisfied: ipython-genutils~=0.2.0 in /usr/local/lib/python3.10/dist-packages (from ipywidgets->-r requ.txt (line 2)) (0.2.0)\n",
      "Requirement already satisfied: traitlets>=4.3.1 in /usr/local/lib/python3.10/dist-packages (from ipywidgets->-r requ.txt (line 2)) (5.7.1)\n",
      "Requirement already satisfied: widgetsnbextension~=3.6.0 in /usr/local/lib/python3.10/dist-packages (from ipywidgets->-r requ.txt (line 2)) (3.6.6)\n",
      "Requirement already satisfied: ipython>=4.0.0 in /usr/local/lib/python3.10/dist-packages (from ipywidgets->-r requ.txt (line 2)) (7.34.0)\n",
      "Requirement already satisfied: jupyterlab-widgets>=1.0.0 in /usr/local/lib/python3.10/dist-packages (from ipywidgets->-r requ.txt (line 2)) (3.0.9)\n",
      "Requirement already satisfied: jupyter-client in /usr/local/lib/python3.10/dist-packages (from ipykernel->-r requ.txt (line 3)) (6.1.12)\n",
      "Requirement already satisfied: tornado>=4.2 in /usr/local/lib/python3.10/dist-packages (from ipykernel->-r requ.txt (line 3)) (6.3.2)\n",
      "Requirement already satisfied: packaging in /usr/local/lib/python3.10/dist-packages (from kornia->-r requ.txt (line 4)) (23.2)\n",
      "Requirement already satisfied: torch>=1.9.1 in /usr/local/lib/python3.10/dist-packages (from kornia->-r requ.txt (line 4)) (2.1.0+cu118)\n",
      "Requirement already satisfied: contourpy>=1.0.1 in /usr/local/lib/python3.10/dist-packages (from matplotlib->-r requ.txt (line 5)) (1.1.1)\n",
      "Requirement already satisfied: cycler>=0.10 in /usr/local/lib/python3.10/dist-packages (from matplotlib->-r requ.txt (line 5)) (0.12.1)\n",
      "Requirement already satisfied: fonttools>=4.22.0 in /usr/local/lib/python3.10/dist-packages (from matplotlib->-r requ.txt (line 5)) (4.43.1)\n",
      "Requirement already satisfied: kiwisolver>=1.0.1 in /usr/local/lib/python3.10/dist-packages (from matplotlib->-r requ.txt (line 5)) (1.4.5)\n",
      "Requirement already satisfied: pillow>=6.2.0 in /usr/local/lib/python3.10/dist-packages (from matplotlib->-r requ.txt (line 5)) (9.4.0)\n",
      "Requirement already satisfied: pyparsing>=2.3.1 in /usr/local/lib/python3.10/dist-packages (from matplotlib->-r requ.txt (line 5)) (3.1.1)\n",
      "Requirement already satisfied: python-dateutil>=2.7 in /usr/local/lib/python3.10/dist-packages (from matplotlib->-r requ.txt (line 5)) (2.8.2)\n",
      "Requirement already satisfied: llvmlite<0.40,>=0.39.0dev0 in /usr/local/lib/python3.10/dist-packages (from numba->-r requ.txt (line 6)) (0.39.1)\n",
      "Collecting antlr4-python3-runtime==4.9.* (from omegaconf->-r requ.txt (line 7))\n",
      "  Downloading antlr4-python3-runtime-4.9.3.tar.gz (117 kB)\n",
      "\u001B[2K     \u001B[90m━━━━━━━━━━━━━━━━━━━━━━━━━━━━━━━━━━━━━━━━\u001B[0m \u001B[32m117.0/117.0 kB\u001B[0m \u001B[31m13.8 MB/s\u001B[0m eta \u001B[36m0:00:00\u001B[0m\n",
      "\u001B[?25h  Preparing metadata (setup.py) ... \u001B[?25l\u001B[?25hdone\n",
      "Requirement already satisfied: PyYAML>=5.1.0 in /usr/local/lib/python3.10/dist-packages (from omegaconf->-r requ.txt (line 7)) (6.0.1)\n",
      "Requirement already satisfied: Click!=8.0.0,>=7.1 in /usr/local/lib/python3.10/dist-packages (from wandb->-r requ.txt (line 9)) (8.1.7)\n",
      "Collecting GitPython!=3.1.29,>=1.0.0 (from wandb->-r requ.txt (line 9))\n",
      "  Downloading GitPython-3.1.40-py3-none-any.whl (190 kB)\n",
      "\u001B[2K     \u001B[90m━━━━━━━━━━━━━━━━━━━━━━━━━━━━━━━━━━━━━━━━\u001B[0m \u001B[32m190.6/190.6 kB\u001B[0m \u001B[31m17.3 MB/s\u001B[0m eta \u001B[36m0:00:00\u001B[0m\n",
      "\u001B[?25hRequirement already satisfied: requests<3,>=2.0.0 in /usr/local/lib/python3.10/dist-packages (from wandb->-r requ.txt (line 9)) (2.31.0)\n",
      "Requirement already satisfied: psutil>=5.0.0 in /usr/local/lib/python3.10/dist-packages (from wandb->-r requ.txt (line 9)) (5.9.5)\n",
      "Collecting sentry-sdk>=1.0.0 (from wandb->-r requ.txt (line 9))\n",
      "  Downloading sentry_sdk-1.33.1-py2.py3-none-any.whl (243 kB)\n",
      "\u001B[2K     \u001B[90m━━━━━━━━━━━━━━━━━━━━━━━━━━━━━━━━━━━━━━━━\u001B[0m \u001B[32m243.2/243.2 kB\u001B[0m \u001B[31m24.2 MB/s\u001B[0m eta \u001B[36m0:00:00\u001B[0m\n",
      "\u001B[?25hCollecting docker-pycreds>=0.4.0 (from wandb->-r requ.txt (line 9))\n",
      "  Downloading docker_pycreds-0.4.0-py2.py3-none-any.whl (9.0 kB)\n",
      "Collecting pathtools (from wandb->-r requ.txt (line 9))\n",
      "  Downloading pathtools-0.1.2.tar.gz (11 kB)\n",
      "  Preparing metadata (setup.py) ... \u001B[?25l\u001B[?25hdone\n",
      "Collecting setproctitle (from wandb->-r requ.txt (line 9))\n",
      "  Downloading setproctitle-1.3.3-cp310-cp310-manylinux_2_5_x86_64.manylinux1_x86_64.manylinux_2_17_x86_64.manylinux2014_x86_64.whl (30 kB)\n",
      "Requirement already satisfied: appdirs>=1.4.3 in /usr/local/lib/python3.10/dist-packages (from wandb->-r requ.txt (line 9)) (1.4.4)\n",
      "Requirement already satisfied: protobuf!=4.21.0,<5,>=3.19.0 in /usr/local/lib/python3.10/dist-packages (from wandb->-r requ.txt (line 9)) (3.20.3)\n",
      "Requirement already satisfied: absl-py>=0.4 in /usr/local/lib/python3.10/dist-packages (from tensorboard->-r requ.txt (line 13)) (1.4.0)\n",
      "Requirement already satisfied: grpcio>=1.48.2 in /usr/local/lib/python3.10/dist-packages (from tensorboard->-r requ.txt (line 13)) (1.59.0)\n",
      "Requirement already satisfied: google-auth<3,>=1.6.3 in /usr/local/lib/python3.10/dist-packages (from tensorboard->-r requ.txt (line 13)) (2.17.3)\n",
      "Requirement already satisfied: google-auth-oauthlib<1.1,>=0.5 in /usr/local/lib/python3.10/dist-packages (from tensorboard->-r requ.txt (line 13)) (1.0.0)\n",
      "Requirement already satisfied: markdown>=2.6.8 in /usr/local/lib/python3.10/dist-packages (from tensorboard->-r requ.txt (line 13)) (3.5)\n",
      "Requirement already satisfied: six>1.9 in /usr/local/lib/python3.10/dist-packages (from tensorboard->-r requ.txt (line 13)) (1.16.0)\n",
      "Requirement already satisfied: tensorboard-data-server<0.8.0,>=0.7.0 in /usr/local/lib/python3.10/dist-packages (from tensorboard->-r requ.txt (line 13)) (0.7.2)\n",
      "Requirement already satisfied: werkzeug>=1.0.1 in /usr/local/lib/python3.10/dist-packages (from tensorboard->-r requ.txt (line 13)) (3.0.1)\n",
      "Collecting gitdb<5,>=4.0.1 (from GitPython!=3.1.29,>=1.0.0->wandb->-r requ.txt (line 9))\n",
      "  Downloading gitdb-4.0.11-py3-none-any.whl (62 kB)\n",
      "\u001B[2K     \u001B[90m━━━━━━━━━━━━━━━━━━━━━━━━━━━━━━━━━━━━━━━━\u001B[0m \u001B[32m62.7/62.7 kB\u001B[0m \u001B[31m7.2 MB/s\u001B[0m eta \u001B[36m0:00:00\u001B[0m\n",
      "\u001B[?25hRequirement already satisfied: cachetools<6.0,>=2.0.0 in /usr/local/lib/python3.10/dist-packages (from google-auth<3,>=1.6.3->tensorboard->-r requ.txt (line 13)) (5.3.2)\n",
      "Requirement already satisfied: pyasn1-modules>=0.2.1 in /usr/local/lib/python3.10/dist-packages (from google-auth<3,>=1.6.3->tensorboard->-r requ.txt (line 13)) (0.3.0)\n",
      "Requirement already satisfied: rsa<5,>=3.1.4 in /usr/local/lib/python3.10/dist-packages (from google-auth<3,>=1.6.3->tensorboard->-r requ.txt (line 13)) (4.9)\n",
      "Requirement already satisfied: requests-oauthlib>=0.7.0 in /usr/local/lib/python3.10/dist-packages (from google-auth-oauthlib<1.1,>=0.5->tensorboard->-r requ.txt (line 13)) (1.3.1)\n",
      "Collecting jedi>=0.16 (from ipython>=4.0.0->ipywidgets->-r requ.txt (line 2))\n",
      "  Downloading jedi-0.19.1-py2.py3-none-any.whl (1.6 MB)\n",
      "\u001B[2K     \u001B[90m━━━━━━━━━━━━━━━━━━━━━━━━━━━━━━━━━━━━━━━━\u001B[0m \u001B[32m1.6/1.6 MB\u001B[0m \u001B[31m73.3 MB/s\u001B[0m eta \u001B[36m0:00:00\u001B[0m\n",
      "\u001B[?25hRequirement already satisfied: decorator in /usr/local/lib/python3.10/dist-packages (from ipython>=4.0.0->ipywidgets->-r requ.txt (line 2)) (4.4.2)\n",
      "Requirement already satisfied: pickleshare in /usr/local/lib/python3.10/dist-packages (from ipython>=4.0.0->ipywidgets->-r requ.txt (line 2)) (0.7.5)\n",
      "Requirement already satisfied: prompt-toolkit!=3.0.0,!=3.0.1,<3.1.0,>=2.0.0 in /usr/local/lib/python3.10/dist-packages (from ipython>=4.0.0->ipywidgets->-r requ.txt (line 2)) (3.0.39)\n",
      "Requirement already satisfied: pygments in /usr/local/lib/python3.10/dist-packages (from ipython>=4.0.0->ipywidgets->-r requ.txt (line 2)) (2.16.1)\n",
      "Requirement already satisfied: backcall in /usr/local/lib/python3.10/dist-packages (from ipython>=4.0.0->ipywidgets->-r requ.txt (line 2)) (0.2.0)\n",
      "Requirement already satisfied: matplotlib-inline in /usr/local/lib/python3.10/dist-packages (from ipython>=4.0.0->ipywidgets->-r requ.txt (line 2)) (0.1.6)\n",
      "Requirement already satisfied: pexpect>4.3 in /usr/local/lib/python3.10/dist-packages (from ipython>=4.0.0->ipywidgets->-r requ.txt (line 2)) (4.8.0)\n",
      "Requirement already satisfied: charset-normalizer<4,>=2 in /usr/local/lib/python3.10/dist-packages (from requests<3,>=2.0.0->wandb->-r requ.txt (line 9)) (3.3.1)\n",
      "Requirement already satisfied: idna<4,>=2.5 in /usr/local/lib/python3.10/dist-packages (from requests<3,>=2.0.0->wandb->-r requ.txt (line 9)) (3.4)\n",
      "Requirement already satisfied: urllib3<3,>=1.21.1 in /usr/local/lib/python3.10/dist-packages (from requests<3,>=2.0.0->wandb->-r requ.txt (line 9)) (2.0.7)\n",
      "Requirement already satisfied: certifi>=2017.4.17 in /usr/local/lib/python3.10/dist-packages (from requests<3,>=2.0.0->wandb->-r requ.txt (line 9)) (2023.7.22)\n",
      "Requirement already satisfied: filelock in /usr/local/lib/python3.10/dist-packages (from torch>=1.9.1->kornia->-r requ.txt (line 4)) (3.12.4)\n",
      "Requirement already satisfied: typing-extensions in /usr/local/lib/python3.10/dist-packages (from torch>=1.9.1->kornia->-r requ.txt (line 4)) (4.5.0)\n",
      "Requirement already satisfied: sympy in /usr/local/lib/python3.10/dist-packages (from torch>=1.9.1->kornia->-r requ.txt (line 4)) (1.12)\n",
      "Requirement already satisfied: networkx in /usr/local/lib/python3.10/dist-packages (from torch>=1.9.1->kornia->-r requ.txt (line 4)) (3.2)\n",
      "Requirement already satisfied: jinja2 in /usr/local/lib/python3.10/dist-packages (from torch>=1.9.1->kornia->-r requ.txt (line 4)) (3.1.2)\n",
      "Requirement already satisfied: fsspec in /usr/local/lib/python3.10/dist-packages (from torch>=1.9.1->kornia->-r requ.txt (line 4)) (2023.6.0)\n",
      "Requirement already satisfied: triton==2.1.0 in /usr/local/lib/python3.10/dist-packages (from torch>=1.9.1->kornia->-r requ.txt (line 4)) (2.1.0)\n",
      "Requirement already satisfied: MarkupSafe>=2.1.1 in /usr/local/lib/python3.10/dist-packages (from werkzeug>=1.0.1->tensorboard->-r requ.txt (line 13)) (2.1.3)\n",
      "Requirement already satisfied: notebook>=4.4.1 in /usr/local/lib/python3.10/dist-packages (from widgetsnbextension~=3.6.0->ipywidgets->-r requ.txt (line 2)) (6.5.5)\n",
      "Requirement already satisfied: jupyter-core>=4.6.0 in /usr/local/lib/python3.10/dist-packages (from jupyter-client->ipykernel->-r requ.txt (line 3)) (5.4.0)\n",
      "Requirement already satisfied: pyzmq>=13 in /usr/local/lib/python3.10/dist-packages (from jupyter-client->ipykernel->-r requ.txt (line 3)) (23.2.1)\n",
      "Collecting smmap<6,>=3.0.1 (from gitdb<5,>=4.0.1->GitPython!=3.1.29,>=1.0.0->wandb->-r requ.txt (line 9))\n",
      "  Downloading smmap-5.0.1-py3-none-any.whl (24 kB)\n",
      "Requirement already satisfied: parso<0.9.0,>=0.8.3 in /usr/local/lib/python3.10/dist-packages (from jedi>=0.16->ipython>=4.0.0->ipywidgets->-r requ.txt (line 2)) (0.8.3)\n",
      "Requirement already satisfied: platformdirs>=2.5 in /usr/local/lib/python3.10/dist-packages (from jupyter-core>=4.6.0->jupyter-client->ipykernel->-r requ.txt (line 3)) (3.11.0)\n",
      "Requirement already satisfied: argon2-cffi in /usr/local/lib/python3.10/dist-packages (from notebook>=4.4.1->widgetsnbextension~=3.6.0->ipywidgets->-r requ.txt (line 2)) (23.1.0)\n",
      "Requirement already satisfied: nbformat in /usr/local/lib/python3.10/dist-packages (from notebook>=4.4.1->widgetsnbextension~=3.6.0->ipywidgets->-r requ.txt (line 2)) (5.9.2)\n",
      "Requirement already satisfied: nbconvert>=5 in /usr/local/lib/python3.10/dist-packages (from notebook>=4.4.1->widgetsnbextension~=3.6.0->ipywidgets->-r requ.txt (line 2)) (6.5.4)\n",
      "Requirement already satisfied: nest-asyncio>=1.5 in /usr/local/lib/python3.10/dist-packages (from notebook>=4.4.1->widgetsnbextension~=3.6.0->ipywidgets->-r requ.txt (line 2)) (1.5.8)\n",
      "Requirement already satisfied: Send2Trash>=1.8.0 in /usr/local/lib/python3.10/dist-packages (from notebook>=4.4.1->widgetsnbextension~=3.6.0->ipywidgets->-r requ.txt (line 2)) (1.8.2)\n",
      "Requirement already satisfied: terminado>=0.8.3 in /usr/local/lib/python3.10/dist-packages (from notebook>=4.4.1->widgetsnbextension~=3.6.0->ipywidgets->-r requ.txt (line 2)) (0.17.1)\n",
      "Requirement already satisfied: prometheus-client in /usr/local/lib/python3.10/dist-packages (from notebook>=4.4.1->widgetsnbextension~=3.6.0->ipywidgets->-r requ.txt (line 2)) (0.17.1)\n",
      "Requirement already satisfied: nbclassic>=0.4.7 in /usr/local/lib/python3.10/dist-packages (from notebook>=4.4.1->widgetsnbextension~=3.6.0->ipywidgets->-r requ.txt (line 2)) (1.0.0)\n",
      "Requirement already satisfied: ptyprocess>=0.5 in /usr/local/lib/python3.10/dist-packages (from pexpect>4.3->ipython>=4.0.0->ipywidgets->-r requ.txt (line 2)) (0.7.0)\n",
      "Requirement already satisfied: wcwidth in /usr/local/lib/python3.10/dist-packages (from prompt-toolkit!=3.0.0,!=3.0.1,<3.1.0,>=2.0.0->ipython>=4.0.0->ipywidgets->-r requ.txt (line 2)) (0.2.8)\n",
      "Requirement already satisfied: pyasn1<0.6.0,>=0.4.6 in /usr/local/lib/python3.10/dist-packages (from pyasn1-modules>=0.2.1->google-auth<3,>=1.6.3->tensorboard->-r requ.txt (line 13)) (0.5.0)\n",
      "Requirement already satisfied: oauthlib>=3.0.0 in /usr/local/lib/python3.10/dist-packages (from requests-oauthlib>=0.7.0->google-auth-oauthlib<1.1,>=0.5->tensorboard->-r requ.txt (line 13)) (3.2.2)\n",
      "Requirement already satisfied: mpmath>=0.19 in /usr/local/lib/python3.10/dist-packages (from sympy->torch>=1.9.1->kornia->-r requ.txt (line 4)) (1.3.0)\n",
      "Requirement already satisfied: jupyter-server>=1.8 in /usr/local/lib/python3.10/dist-packages (from nbclassic>=0.4.7->notebook>=4.4.1->widgetsnbextension~=3.6.0->ipywidgets->-r requ.txt (line 2)) (1.24.0)\n",
      "Requirement already satisfied: notebook-shim>=0.2.3 in /usr/local/lib/python3.10/dist-packages (from nbclassic>=0.4.7->notebook>=4.4.1->widgetsnbextension~=3.6.0->ipywidgets->-r requ.txt (line 2)) (0.2.3)\n",
      "Requirement already satisfied: lxml in /usr/local/lib/python3.10/dist-packages (from nbconvert>=5->notebook>=4.4.1->widgetsnbextension~=3.6.0->ipywidgets->-r requ.txt (line 2)) (4.9.3)\n",
      "Requirement already satisfied: beautifulsoup4 in /usr/local/lib/python3.10/dist-packages (from nbconvert>=5->notebook>=4.4.1->widgetsnbextension~=3.6.0->ipywidgets->-r requ.txt (line 2)) (4.11.2)\n",
      "Requirement already satisfied: bleach in /usr/local/lib/python3.10/dist-packages (from nbconvert>=5->notebook>=4.4.1->widgetsnbextension~=3.6.0->ipywidgets->-r requ.txt (line 2)) (6.1.0)\n",
      "Requirement already satisfied: defusedxml in /usr/local/lib/python3.10/dist-packages (from nbconvert>=5->notebook>=4.4.1->widgetsnbextension~=3.6.0->ipywidgets->-r requ.txt (line 2)) (0.7.1)\n",
      "Requirement already satisfied: entrypoints>=0.2.2 in /usr/local/lib/python3.10/dist-packages (from nbconvert>=5->notebook>=4.4.1->widgetsnbextension~=3.6.0->ipywidgets->-r requ.txt (line 2)) (0.4)\n",
      "Requirement already satisfied: jupyterlab-pygments in /usr/local/lib/python3.10/dist-packages (from nbconvert>=5->notebook>=4.4.1->widgetsnbextension~=3.6.0->ipywidgets->-r requ.txt (line 2)) (0.2.2)\n",
      "Requirement already satisfied: mistune<2,>=0.8.1 in /usr/local/lib/python3.10/dist-packages (from nbconvert>=5->notebook>=4.4.1->widgetsnbextension~=3.6.0->ipywidgets->-r requ.txt (line 2)) (0.8.4)\n",
      "Requirement already satisfied: nbclient>=0.5.0 in /usr/local/lib/python3.10/dist-packages (from nbconvert>=5->notebook>=4.4.1->widgetsnbextension~=3.6.0->ipywidgets->-r requ.txt (line 2)) (0.8.0)\n",
      "Requirement already satisfied: pandocfilters>=1.4.1 in /usr/local/lib/python3.10/dist-packages (from nbconvert>=5->notebook>=4.4.1->widgetsnbextension~=3.6.0->ipywidgets->-r requ.txt (line 2)) (1.5.0)\n",
      "Requirement already satisfied: tinycss2 in /usr/local/lib/python3.10/dist-packages (from nbconvert>=5->notebook>=4.4.1->widgetsnbextension~=3.6.0->ipywidgets->-r requ.txt (line 2)) (1.2.1)\n",
      "Requirement already satisfied: fastjsonschema in /usr/local/lib/python3.10/dist-packages (from nbformat->notebook>=4.4.1->widgetsnbextension~=3.6.0->ipywidgets->-r requ.txt (line 2)) (2.18.1)\n",
      "Requirement already satisfied: jsonschema>=2.6 in /usr/local/lib/python3.10/dist-packages (from nbformat->notebook>=4.4.1->widgetsnbextension~=3.6.0->ipywidgets->-r requ.txt (line 2)) (4.19.1)\n",
      "Requirement already satisfied: argon2-cffi-bindings in /usr/local/lib/python3.10/dist-packages (from argon2-cffi->notebook>=4.4.1->widgetsnbextension~=3.6.0->ipywidgets->-r requ.txt (line 2)) (21.2.0)\n",
      "Requirement already satisfied: attrs>=22.2.0 in /usr/local/lib/python3.10/dist-packages (from jsonschema>=2.6->nbformat->notebook>=4.4.1->widgetsnbextension~=3.6.0->ipywidgets->-r requ.txt (line 2)) (23.1.0)\n",
      "Requirement already satisfied: jsonschema-specifications>=2023.03.6 in /usr/local/lib/python3.10/dist-packages (from jsonschema>=2.6->nbformat->notebook>=4.4.1->widgetsnbextension~=3.6.0->ipywidgets->-r requ.txt (line 2)) (2023.7.1)\n",
      "Requirement already satisfied: referencing>=0.28.4 in /usr/local/lib/python3.10/dist-packages (from jsonschema>=2.6->nbformat->notebook>=4.4.1->widgetsnbextension~=3.6.0->ipywidgets->-r requ.txt (line 2)) (0.30.2)\n",
      "Requirement already satisfied: rpds-py>=0.7.1 in /usr/local/lib/python3.10/dist-packages (from jsonschema>=2.6->nbformat->notebook>=4.4.1->widgetsnbextension~=3.6.0->ipywidgets->-r requ.txt (line 2)) (0.10.6)\n",
      "Requirement already satisfied: anyio<4,>=3.1.0 in /usr/local/lib/python3.10/dist-packages (from jupyter-server>=1.8->nbclassic>=0.4.7->notebook>=4.4.1->widgetsnbextension~=3.6.0->ipywidgets->-r requ.txt (line 2)) (3.7.1)\n",
      "Requirement already satisfied: websocket-client in /usr/local/lib/python3.10/dist-packages (from jupyter-server>=1.8->nbclassic>=0.4.7->notebook>=4.4.1->widgetsnbextension~=3.6.0->ipywidgets->-r requ.txt (line 2)) (1.6.4)\n",
      "Requirement already satisfied: cffi>=1.0.1 in /usr/local/lib/python3.10/dist-packages (from argon2-cffi-bindings->argon2-cffi->notebook>=4.4.1->widgetsnbextension~=3.6.0->ipywidgets->-r requ.txt (line 2)) (1.16.0)\n",
      "Requirement already satisfied: soupsieve>1.2 in /usr/local/lib/python3.10/dist-packages (from beautifulsoup4->nbconvert>=5->notebook>=4.4.1->widgetsnbextension~=3.6.0->ipywidgets->-r requ.txt (line 2)) (2.5)\n",
      "Requirement already satisfied: webencodings in /usr/local/lib/python3.10/dist-packages (from bleach->nbconvert>=5->notebook>=4.4.1->widgetsnbextension~=3.6.0->ipywidgets->-r requ.txt (line 2)) (0.5.1)\n",
      "Requirement already satisfied: sniffio>=1.1 in /usr/local/lib/python3.10/dist-packages (from anyio<4,>=3.1.0->jupyter-server>=1.8->nbclassic>=0.4.7->notebook>=4.4.1->widgetsnbextension~=3.6.0->ipywidgets->-r requ.txt (line 2)) (1.3.0)\n",
      "Requirement already satisfied: exceptiongroup in /usr/local/lib/python3.10/dist-packages (from anyio<4,>=3.1.0->jupyter-server>=1.8->nbclassic>=0.4.7->notebook>=4.4.1->widgetsnbextension~=3.6.0->ipywidgets->-r requ.txt (line 2)) (1.1.3)\n",
      "Requirement already satisfied: pycparser in /usr/local/lib/python3.10/dist-packages (from cffi>=1.0.1->argon2-cffi-bindings->argon2-cffi->notebook>=4.4.1->widgetsnbextension~=3.6.0->ipywidgets->-r requ.txt (line 2)) (2.21)\n",
      "Building wheels for collected packages: antlr4-python3-runtime, prodict, pathtools\n",
      "  Building wheel for antlr4-python3-runtime (setup.py) ... \u001B[?25l\u001B[?25hdone\n",
      "  Created wheel for antlr4-python3-runtime: filename=antlr4_python3_runtime-4.9.3-py3-none-any.whl size=144554 sha256=912e5954188ce4617f91a4cd227ff8f6d9735b5d25fa12aa85a7f785f4eff4dc\n",
      "  Stored in directory: /root/.cache/pip/wheels/12/93/dd/1f6a127edc45659556564c5730f6d4e300888f4bca2d4c5a88\n",
      "  Building wheel for prodict (setup.py) ... \u001B[?25l\u001B[?25hdone\n",
      "  Created wheel for prodict: filename=prodict-0.8.18-py3-none-any.whl size=4202 sha256=d743afb5315c0264711ccb5107bfc81edfe0ed2dc93ee3152eb77b27bf188095\n",
      "  Stored in directory: /root/.cache/pip/wheels/3c/c6/54/ad76997d88ce9d187fb44a3065b59461cea88747943b0d2252\n",
      "  Building wheel for pathtools (setup.py) ... \u001B[?25l\u001B[?25hdone\n",
      "  Created wheel for pathtools: filename=pathtools-0.1.2-py3-none-any.whl size=8791 sha256=a59abb736796b5bd82389678a82fa04201acf7ed8b0f0e537e9c51a2979d9ec3\n",
      "  Stored in directory: /root/.cache/pip/wheels/e7/f3/22/152153d6eb222ee7a56ff8617d80ee5207207a8c00a7aab794\n",
      "Successfully built antlr4-python3-runtime prodict pathtools\n",
      "Installing collected packages: prodict, pathtools, antlr4-python3-runtime, smmap, setproctitle, sentry-sdk, omegaconf, nestargs, jedi, docker-pycreds, gitdb, torchgeometry, kornia, GitPython, wandb\n",
      "Successfully installed GitPython-3.1.40 antlr4-python3-runtime-4.9.3 docker-pycreds-0.4.0 gitdb-4.0.11 jedi-0.19.1 kornia-0.7.0 nestargs-0.5.0 omegaconf-2.3.0 pathtools-0.1.2 prodict-0.8.18 sentry-sdk-1.33.1 setproctitle-1.3.3 smmap-5.0.1 torchgeometry-0.1.2 wandb-0.15.12\n"
     ]
    },
    {
     "output_type": "display_data",
     "data": {
      "application/vnd.colab-display-data+json": {
       "pip_warning": {
        "packages": [
         "pydevd_plugins"
        ]
       }
      }
     },
     "metadata": {}
    }
   ]
  },
  {
   "cell_type": "code",
   "source": [
    "%cd /content/U-TILISE"
   ],
   "metadata": {
    "colab": {
     "base_uri": "https://localhost:8080/",
     "height": 35
    },
    "id": "PX8ES3gANkSk",
    "outputId": "2b1f4a4b-102f-426b-ddd2-af3bf1ea9881"
   },
   "execution_count": 21,
   "outputs": [
    {
     "output_type": "display_data",
     "data": {
      "text/plain": [
       "<IPython.core.display.HTML object>"
      ],
      "text/html": [
       "\n",
       "            <style>\n",
       "                .geemap-dark {\n",
       "                    --jp-widgets-color: white;\n",
       "                    --jp-widgets-label-color: white;\n",
       "                    --jp-ui-font-color1: white;\n",
       "                    --jp-layout-color2: #454545;\n",
       "                    background-color: #383838;\n",
       "                }\n",
       "                    \n",
       "                .geemap-dark .jupyter-button {\n",
       "                    --jp-layout-color3: #383838;\n",
       "                }\n",
       "                \n",
       "                .geemap-colab {\n",
       "                    background-color: var(--colab-primary-surface-color, white);\n",
       "                }\n",
       "                    \n",
       "                .geemap-colab .jupyter-button {\n",
       "                    --jp-layout-color3: var(--colab-primary-surface-color, white);\n",
       "                }\n",
       "            </style>\n",
       "            "
      ]
     },
     "metadata": {}
    },
    {
     "output_type": "stream",
     "name": "stdout",
     "text": [
      "/content/U-TILISE\n"
     ]
    }
   ]
  },
  {
   "cell_type": "code",
   "source": [
    "!pip install torchinfo"
   ],
   "metadata": {
    "id": "1YEuqFAbNr5K",
    "colab": {
     "base_uri": "https://localhost:8080/"
    },
    "outputId": "4cc73955-a289-4cb9-eaff-c717d8cc20ba"
   },
   "execution_count": 5,
   "outputs": [
    {
     "output_type": "stream",
     "name": "stdout",
     "text": [
      "Collecting torchinfo\n",
      "  Downloading torchinfo-1.8.0-py3-none-any.whl (23 kB)\n",
      "Installing collected packages: torchinfo\n",
      "Successfully installed torchinfo-1.8.0\n"
     ]
    }
   ]
  },
  {
   "cell_type": "code",
   "source": [
    "# !pip install -U numba"
   ],
   "metadata": {
    "id": "WkLBdbsnSIZF"
   },
   "execution_count": null,
   "outputs": []
  },
  {
   "cell_type": "code",
   "source": [
    "import os\n",
    "import sys\n",
    "import torch\n",
    "from matplotlib import pyplot as plt\n",
    "from typing import Any, Dict\n",
    "\n",
    "# /content/U-TILISE\n",
    "from lib import config_utils\n",
    "from lib import data_utils\n",
    "from lib import visutils\n",
    "from lib.eval_tools import (\n",
    "    Imputation,\n",
    "    visualize_att_for_one_head_across_time,\n",
    "    visualize_att_for_target_t_across_heads\n",
    ")"
   ],
   "metadata": {
    "id": "WCA-qGMCyNOj",
    "colab": {
     "base_uri": "https://localhost:8080/",
     "height": 378
    },
    "outputId": "194e4eb7-488f-4764-9ba4-8629a7a73196",
    "is_executing": true
   },
   "execution_count": null,
   "outputs": []
  },
  {
   "cell_type": "code",
   "source": [
    "!bash ./scripts/download_checkpoints.sh"
   ],
   "metadata": {
    "id": "l1QoD-_qd_ob"
   },
   "execution_count": null,
   "outputs": []
  },
  {
   "cell_type": "code",
   "source": [
    "# GPU高RAM模式下下载快一点,20分钟左右,CPU下载要半小时。\n",
    "# 下载完还要解压，解压也需要一段时间。\n",
    "!bash ./scripts/download_data_earthnet2021.sh"
   ],
   "metadata": {
    "colab": {
     "base_uri": "https://localhost:8080/"
    },
    "id": "YHsBkFjweHhV",
    "outputId": "4e8f46ae-83be-412a-ee77-e0ba3b9a4c6e"
   },
   "execution_count": 8,
   "outputs": [
    {
     "output_type": "stream",
     "name": "stdout",
     "text": [
      "--2023-11-02 09:07:22--  https://share.phys.ethz.ch/~pf/stuckercdata/u-tilise/data/earthnet2021_iid.tar.gz\n",
      "Resolving share.phys.ethz.ch (share.phys.ethz.ch)... 129.132.80.27, 2001:67c:10ec:3dc4::39\n",
      "Connecting to share.phys.ethz.ch (share.phys.ethz.ch)|129.132.80.27|:443... connected.\n",
      "HTTP request sent, awaiting response... 200 OK\n",
      "Length: 19426030503 (18G) [application/x-gzip]\n",
      "Saving to: ‘earthnet2021_iid.tar.gz’\n",
      "\n",
      "earthnet2021_iid.ta 100%[===================>]  18.09G  21.3MB/s    in 15m 20s \n",
      "\n",
      "2023-11-02 09:22:42 (20.1 MB/s) - ‘earthnet2021_iid.tar.gz’ saved [19426030503/19426030503]\n"
     ]
    }
   ]
  },
  {
   "cell_type": "code",
   "source": [
    "def get_dataloader_testdata(\n",
    "    config_file_train: str,\n",
    "    config_file_test: str,\n",
    "    run_mode: str = 'test'\n",
    ") -> torch.utils.data.dataloader.DataLoader:\n",
    "    if not os.path.isfile(config_file_train):\n",
    "        raise FileNotFoundError(f'Cannot find the configuration file used during training: {config_file_train}\\n')\n",
    "\n",
    "    if not os.path.isfile(config_file_test):\n",
    "        raise FileNotFoundError(f'Cannot find the test configuration file: {config_file_test}\\n')\n",
    "\n",
    "    # Read the configuration file used during training\n",
    "    config = config_utils.read_config(config_file_train)\n",
    "\n",
    "    # Merge generic data settings (used during training) with test-specific data settings\n",
    "    config_testdata = config_utils.read_config(config_file_test)\n",
    "    config.data.update(config_testdata.data)\n",
    "    if 'mask' in config_testdata:\n",
    "        config.mask.update(config_testdata.mask)\n",
    "    config.misc.run_mode = run_mode\n",
    "\n",
    "    # Get the data loader\n",
    "    dset = data_utils.get_dataset(config, phase=run_mode)\n",
    "    dataloader = torch.utils.data.DataLoader(\n",
    "        dataset=dset, batch_size=1, shuffle=False, num_workers=8, drop_last=False\n",
    "    )\n",
    "\n",
    "    return dataloader\n",
    "\n",
    "\n",
    "def get_sample(\n",
    "    dataloader: torch.utils.data.dataloader.DataLoader,\n",
    "    sample_index: int\n",
    ") -> Dict[str, Any]:\n",
    "\n",
    "    batch = dataloader.dataset.__getitem__(sample_index)\n",
    "\n",
    "    # Introduce the batch dimension (required for the forward pass)\n",
    "    for k, v in batch.items():\n",
    "        if isinstance(v, torch.Tensor):\n",
    "            batch[k] = v.unsqueeze(0)\n",
    "        elif isinstance(v, int):\n",
    "            batch[k] = [v]\n",
    "\n",
    "    return batch"
   ],
   "metadata": {
    "id": "8ufL0ep_yd9g"
   },
   "execution_count": 9,
   "outputs": []
  },
  {
   "cell_type": "markdown",
   "source": [
    "## Imputation of satellite image time series with real data gaps\n",
    "\n",
    "<hr style=\"height: 2px;\" />"
   ],
   "metadata": {
    "id": "nngJK6SC6K6G"
   }
  },
  {
   "cell_type": "markdown",
   "source": [
    "**Settings**"
   ],
   "metadata": {
    "id": "HtncFoF76NAg"
   }
  },
  {
   "cell_type": "code",
   "source": [
    "# Default data and model settings (i.e., settings used during training)\n",
    "config_file_train = 'configs/demo.yaml'\n",
    "\n",
    "# Test-specific data settings\n",
    "config_file_test = 'configs/config_earthnet2021_test.yaml'\n",
    "\n",
    "# Model weights\n",
    "checkpoint = 'checkpoints/utilise_earthnet2021.pth'"
   ],
   "metadata": {
    "id": "uhgddCSu5bYP"
   },
   "execution_count": 10,
   "outputs": []
  },
  {
   "cell_type": "markdown",
   "source": [
    "**Settings**"
   ],
   "metadata": {
    "id": "wv4ZHfAK6NsJ"
   }
  },
  {
   "cell_type": "code",
   "source": [
    "dataloader = get_dataloader_testdata(config_file_train, config_file_test)"
   ],
   "metadata": {
    "id": "pqjVvdIA6P_A"
   },
   "execution_count": 11,
   "outputs": []
  },
  {
   "cell_type": "markdown",
   "source": [
    "Instantiate U-TILISE"
   ],
   "metadata": {
    "id": "iwqT8y406SWJ"
   }
  },
  {
   "cell_type": "code",
   "source": [
    "utilise = Imputation(config_file_train, method='utilise', checkpoint=checkpoint)"
   ],
   "metadata": {
    "colab": {
     "base_uri": "https://localhost:8080/"
    },
    "id": "Ykc3PzPz6TYe",
    "outputId": "00c6bb1e-eae6-45bb-c8a4-a240826a04ab"
   },
   "execution_count": 12,
   "outputs": [
    {
     "output_type": "stream",
     "name": "stdout",
     "text": [
      "Checkpoint 'checkpoints/utilise_earthnet2021.pth' loaded.\n",
      "Chosen epoch: 982\n"
     ]
    }
   ]
  },
  {
   "cell_type": "markdown",
   "source": [
    "# 获取GEE数据\n"
   ],
   "metadata": {
    "id": "TO--OlLbn_7S"
   }
  },
  {
   "cell_type": "code",
   "source": [
    "import ee\n",
    "\n",
    "# 进行身份验证\n",
    "ee.Authenticate()\n",
    "ee.Initialize()\n"
   ],
   "metadata": {
    "colab": {
     "base_uri": "https://localhost:8080/"
    },
    "id": "MDiPGBEF7MVa",
    "outputId": "4430bba7-c30b-4790-84ca-6faa69364ac5"
   },
   "execution_count": 1,
   "outputs": [
    {
     "output_type": "stream",
     "name": "stdout",
     "text": [
      "To authorize access needed by Earth Engine, open the following URL in a web browser and follow the instructions. If the web browser does not start automatically, please manually browse the URL below.\n",
      "\n",
      "    https://code.earthengine.google.com/client-auth?scopes=https%3A//www.googleapis.com/auth/earthengine%20https%3A//www.googleapis.com/auth/devstorage.full_control&request_id=rFQHR7_ejSLMmuxImBVRlKxSKCEDWcdqxEfeFXDHUJU&tc=_s3zGd9NSwdy-CSKjnVxTjqrq3sVhe6tjxd9gqOG6HY&cc=yrpEoAfLr_C09X0Lgma8_jREV_5-abfYNKEYV-hfM-s\n",
      "\n",
      "The authorization workflow will generate a code, which you should paste in the box below.\n",
      "Enter verification code: 4/1AfJohXmKmoiGuyM9IP8u7Kj4-MFpjE2JociI7_r5iFHAtdqdWk5pfCcFJw8\n",
      "\n",
      "Successfully saved authorization token.\n"
     ]
    }
   ]
  },
  {
   "cell_type": "code",
   "source": [
    "import numpy as np\n",
    "# import tensorflow as tf\n",
    "import torch"
   ],
   "metadata": {
    "id": "BiDvTihILXEU"
   },
   "execution_count": 2,
   "outputs": []
  },
  {
   "cell_type": "markdown",
   "source": [
    "*1.* 根据位置信息，获取GEE图像集合"
   ],
   "metadata": {
    "id": "zCRJkuznoYEY"
   }
  },
  {
   "cell_type": "code",
   "source": [
    "# 加载 FAO/GAUL/2015/level2 数据集\n",
    "gaul = ee.FeatureCollection('FAO/GAUL/2015/level2');\n",
    "\n",
    "# 选择深圳的区域，根据 ADM2_NAME 属性过滤\n",
    "shenzhen = gaul.filter(ee.Filter.eq('ADM2_NAME', 'Shenzhen'));\n",
    "\n",
    "# 获取深圳区域的几何信息\n",
    "shenzhenGeometry = shenzhen.geometry();"
   ],
   "metadata": {
    "id": "_rpCYj9BojSf"
   },
   "execution_count": 3,
   "outputs": []
  },
  {
   "cell_type": "code",
   "source": [
    "# 位置\n",
    "polygon = [ [113.93631717340367,22.60000605357884],\n",
    "        [114.04137393609898,22.60000605357884],\n",
    "        [114.04137393609898,22.695060891235958],\n",
    "        [113.93631717340367,22.695060891235958],\n",
    "        [113.93631717340367,22.60000605357884]\n",
    "      ]\n",
    "region = ee.Geometry.Polygon(polygon)"
   ],
   "metadata": {
    "id": "kWS9TSKR7To6"
   },
   "execution_count": 4,
   "outputs": []
  },
  {
   "cell_type": "code",
   "source": [
    "# 图像集合\n",
    "collection = ee.ImageCollection('COPERNICUS/S2')\\\n",
    "        .filterDate('2020-09-01', '2020-10-01')\\\n",
    "        .filterBounds(region)\n",
    "print(collection.getInfo())"
   ],
   "metadata": {
    "colab": {
     "base_uri": "https://localhost:8080/"
    },
    "id": "EOAYIRVTm7HW",
    "outputId": "c120bf5f-a2ef-41f1-ad77-5eb809a0346f"
   },
   "execution_count": 5,
   "outputs": [
    {
     "output_type": "stream",
     "name": "stdout",
     "text": [
      "{'type': 'ImageCollection', 'bands': [], 'id': 'COPERNICUS/S2', 'version': 1698930770289040.0, 'properties': {'date_range': [1435017600000, 1647993600000], 'period': 0, 'system:visualization_0_min': '0.0', 'type_name': 'ImageCollection', 'keywords': ['copernicus', 'esa', 'eu', 'msi', 'radiance', 'sentinel'], 'system:visualization_0_bands': 'B4,B3,B2', 'thumb': 'https://mw1.google.com/ges/dd/images/sentinel2_thumb.png', 'description': '<p>Sentinel-2 is a wide-swath, high-resolution, multi-spectral\\nimaging mission supporting Copernicus Land Monitoring studies,\\nincluding the monitoring of vegetation, soil and water cover,\\nas well as observation of inland waterways and coastal areas.</p><p>The Sentinel-2 data contain 13 UINT16 spectral bands representing\\nTOA reflectance scaled by 10000. See the <a href=\"https://sentinel.esa.int/documents/247904/685211/Sentinel-2_User_Handbook\">Sentinel-2 User Handbook</a>\\nfor details. In addition, three QA bands are present where one\\n(QA60) is a bitmask band with cloud mask information. For more\\ndetails, <a href=\"https://sentinel.esa.int/web/sentinel/technical-guides/sentinel-2-msi/level-1c/cloud-masks\">see the full explanation of how cloud masks are computed.</a></p><p>Each Sentinel-2 product (zip archive) may contain multiple\\ngranules. Each granule becomes a separate Earth Engine asset.\\nEE asset ids for Sentinel-2 assets have the following format:\\nCOPERNICUS/S2/20151128T002653_20151128T102149_T56MNN. Here the\\nfirst numeric part represents the sensing date and time, the\\nsecond numeric part represents the product generation date and\\ntime, and the final 6-character string is a unique granule identifier\\nindicating its UTM grid reference (see <a href=\"https://en.wikipedia.org/wiki/Military_Grid_Reference_System\">MGRS</a>).</p><p>The Level-2 data produced by ESA can be found in the collection\\n<a href=\"COPERNICUS_S2_SR\">COPERNICUS/S2_SR</a>.</p><p>Clouds can be mostly removed by using\\n<a href=\"COPERNICUS_S2_CLOUD_PROBABILITY\">COPERNICUS/S2_CLOUD_PROBABILITY</a>.\\nSee\\n<a href=\"https://developers.google.com/earth-engine/tutorials/community/sentinel-2-s2cloudless\">this tutorial</a>\\nexplaining how to apply the cloud mask.</p><p>For more details on Sentinel-2 radiometric resolution, <a href=\"https://earth.esa.int/web/sentinel/user-guides/sentinel-2-msi/resolutions/radiometric\">see this page</a>.</p><p><b>Provider: <a href=\"https://earth.esa.int/web/sentinel/user-guides/sentinel-2-msi/product-types/level-1c\">European Union/ESA/Copernicus</a></b><br><p><b>Revisit Interval</b><br>\\n  5 days\\n</p><p><b>Bands</b><table class=\"eecat\"><tr><th scope=\"col\">Name</th><th scope=\"col\">Description</th></tr><tr><td>B1</td><td><p>Aerosols</p></td></tr><tr><td>B2</td><td><p>Blue</p></td></tr><tr><td>B3</td><td><p>Green</p></td></tr><tr><td>B4</td><td><p>Red</p></td></tr><tr><td>B5</td><td><p>Red Edge 1</p></td></tr><tr><td>B6</td><td><p>Red Edge 2</p></td></tr><tr><td>B7</td><td><p>Red Edge 3</p></td></tr><tr><td>B8</td><td><p>NIR</p></td></tr><tr><td>B8A</td><td><p>Red Edge 4</p></td></tr><tr><td>B9</td><td><p>Water vapor</p></td></tr><tr><td>B10</td><td><p>Cirrus</p></td></tr><tr><td>B11</td><td><p>SWIR 1</p></td></tr><tr><td>B12</td><td><p>SWIR 2</p></td></tr><tr><td>QA10</td><td><p>Always empty</p></td></tr><tr><td>QA20</td><td><p>Always empty</p></td></tr><tr><td>QA60</td><td><p>Cloud mask</p></td></tr><tr><td colspan=100>\\n      Bitmask for QA60\\n<ul><li>\\n          Bit 10: Opaque clouds\\n<ul><li>0: No opaque clouds</li><li>1: Opaque clouds present</li></ul></li><li>\\n          Bit 11: Cirrus clouds\\n<ul><li>0: No cirrus clouds</li><li>1: Cirrus clouds present</li></ul></li></ul></td></tr></table><p><b>Image Properties</b><table class=\"eecat\"><tr><th scope=\"col\">Name</th><th scope=\"col\">Type</th><th scope=\"col\">Description</th></tr><tr><td>CLOUDY_PIXEL_PERCENTAGE</td><td>DOUBLE</td><td><p>Granule-specific cloudy pixel percentage taken from the original metadata</p></td></tr><tr><td>CLOUD_COVERAGE_ASSESSMENT</td><td>DOUBLE</td><td><p>Cloudy pixel percentage for the whole archive that\\ncontains this granule. Taken from the original metadata</p></td></tr><tr><td>DATASTRIP_ID</td><td>STRING</td><td><p>Unique identifier of the datastrip Product Data Item (PDI)</p></td></tr><tr><td>DATATAKE_IDENTIFIER</td><td>STRING</td><td><p>Uniquely identifies a given Datatake. The ID contains\\nthe Sentinel-2 satellite, start date and time, absolute orbit\\nnumber, and processing baseline.</p></td></tr><tr><td>DATATAKE_TYPE</td><td>STRING</td><td><p>MSI operation mode</p></td></tr><tr><td>DEGRADED_MSI_DATA_PERCENTAGE</td><td>DOUBLE</td><td><p>Percentage of degraded MSI and ancillary data</p></td></tr><tr><td>FORMAT_CORRECTNESS</td><td>STRING</td><td><p>Synthesis of the On-Line Quality Control (OLQC) checks\\nperformed at granule (Product_Syntax) and datastrip (Product\\nSyntax and DS_Consistency) levels</p></td></tr><tr><td>GENERAL_QUALITY</td><td>STRING</td><td><p>Synthesis of the OLQC checks performed at the datastrip level (Relative_Orbit_Number)</p></td></tr><tr><td>GENERATION_TIME</td><td>DOUBLE</td><td><p>Product generation time</p></td></tr><tr><td>GEOMETRIC_QUALITY</td><td>STRING</td><td><p>Synthesis of the OLQC checks performed at the datastrip level (Attitude_Quality_Indicator)</p></td></tr><tr><td>GRANULE_ID</td><td>STRING</td><td><p>Unique identifier of the granule PDI (PDI_ID)</p></td></tr><tr><td>MEAN_INCIDENCE_AZIMUTH_ANGLE_B1</td><td>DOUBLE</td><td><p>Mean value containing viewing incidence azimuth angle average for band B1 and for all detectors</p></td></tr><tr><td>MEAN_INCIDENCE_AZIMUTH_ANGLE_B2</td><td>DOUBLE</td><td><p>Mean value containing viewing incidence azimuth angle average for band B2 and for all detectors</p></td></tr><tr><td>MEAN_INCIDENCE_AZIMUTH_ANGLE_B3</td><td>DOUBLE</td><td><p>Mean value containing viewing incidence azimuth angle average for band B3 and for all detectors</p></td></tr><tr><td>MEAN_INCIDENCE_AZIMUTH_ANGLE_B4</td><td>DOUBLE</td><td><p>Mean value containing viewing incidence azimuth angle average for band B4 and for all detectors</p></td></tr><tr><td>MEAN_INCIDENCE_AZIMUTH_ANGLE_B5</td><td>DOUBLE</td><td><p>Mean value containing viewing incidence azimuth angle average for band B5 and for all detectors</p></td></tr><tr><td>MEAN_INCIDENCE_AZIMUTH_ANGLE_B6</td><td>DOUBLE</td><td><p>Mean value containing viewing incidence azimuth angle average for band B6 and for all detectors</p></td></tr><tr><td>MEAN_INCIDENCE_AZIMUTH_ANGLE_B7</td><td>DOUBLE</td><td><p>Mean value containing viewing incidence azimuth angle average for band B7 and for all detectors</p></td></tr><tr><td>MEAN_INCIDENCE_AZIMUTH_ANGLE_B8</td><td>DOUBLE</td><td><p>Mean value containing viewing incidence azimuth angle average for band B8 and for all detectors</p></td></tr><tr><td>MEAN_INCIDENCE_AZIMUTH_ANGLE_B8A</td><td>DOUBLE</td><td><p>Mean value containing viewing incidence azimuth angle average for band B8a and for all detectors</p></td></tr><tr><td>MEAN_INCIDENCE_AZIMUTH_ANGLE_B9</td><td>DOUBLE</td><td><p>Mean value containing viewing incidence azimuth angle average for band B9 and for all detectors</p></td></tr><tr><td>MEAN_INCIDENCE_AZIMUTH_ANGLE_B10</td><td>DOUBLE</td><td><p>Mean value containing viewing incidence azimuth angle average for band B10 and for all detectors</p></td></tr><tr><td>MEAN_INCIDENCE_AZIMUTH_ANGLE_B11</td><td>DOUBLE</td><td><p>Mean value containing viewing incidence azimuth angle average for band B11 and for all detectors</p></td></tr><tr><td>MEAN_INCIDENCE_AZIMUTH_ANGLE_B12</td><td>DOUBLE</td><td><p>Mean value containing viewing incidence azimuth angle average for band B12 and for all detectors</p></td></tr><tr><td>MEAN_INCIDENCE_ZENITH_ANGLE_B1</td><td>DOUBLE</td><td><p>Mean value containing viewing incidence zenith angle average for band B1 and for all detectors</p></td></tr><tr><td>MEAN_INCIDENCE_ZENITH_ANGLE_B2</td><td>DOUBLE</td><td><p>Mean value containing viewing incidence zenith angle average for band B2 and for all detectors</p></td></tr><tr><td>MEAN_INCIDENCE_ZENITH_ANGLE_B3</td><td>DOUBLE</td><td><p>Mean value containing viewing incidence zenith angle average for band B3 and for all detectors</p></td></tr><tr><td>MEAN_INCIDENCE_ZENITH_ANGLE_B4</td><td>DOUBLE</td><td><p>Mean value containing viewing incidence zenith angle average for band B4 and for all detectors</p></td></tr><tr><td>MEAN_INCIDENCE_ZENITH_ANGLE_B5</td><td>DOUBLE</td><td><p>Mean value containing viewing incidence zenith angle average for band B5 and for all detectors</p></td></tr><tr><td>MEAN_INCIDENCE_ZENITH_ANGLE_B6</td><td>DOUBLE</td><td><p>Mean value containing viewing incidence zenith angle average for band B6 and for all detectors</p></td></tr><tr><td>MEAN_INCIDENCE_ZENITH_ANGLE_B7</td><td>DOUBLE</td><td><p>Mean value containing viewing incidence zenith angle average for band B7 and for all detectors</p></td></tr><tr><td>MEAN_INCIDENCE_ZENITH_ANGLE_B8</td><td>DOUBLE</td><td><p>Mean value containing viewing incidence zenith angle average for band B8 and for all detectors</p></td></tr><tr><td>MEAN_INCIDENCE_ZENITH_ANGLE_B8A</td><td>DOUBLE</td><td><p>Mean value containing viewing incidence zenith angle average for band B8a and for all detectors</p></td></tr><tr><td>MEAN_INCIDENCE_ZENITH_ANGLE_B9</td><td>DOUBLE</td><td><p>Mean value containing viewing incidence zenith angle average for band B9 and for all detectors</p></td></tr><tr><td>MEAN_INCIDENCE_ZENITH_ANGLE_B10</td><td>DOUBLE</td><td><p>Mean value containing viewing incidence zenith angle average for band B10 and for all detectors</p></td></tr><tr><td>MEAN_INCIDENCE_ZENITH_ANGLE_B11</td><td>DOUBLE</td><td><p>Mean value containing viewing incidence zenith angle average for band B11 and for all detectors</p></td></tr><tr><td>MEAN_INCIDENCE_ZENITH_ANGLE_B12</td><td>DOUBLE</td><td><p>Mean value containing viewing incidence zenith angle average for band B12 and for all detectors</p></td></tr><tr><td>MEAN_SOLAR_AZIMUTH_ANGLE</td><td>DOUBLE</td><td><p>Mean value containing sun azimuth angle average for all bands and detectors</p></td></tr><tr><td>MEAN_SOLAR_ZENITH_ANGLE</td><td>DOUBLE</td><td><p>Mean value containing sun zenith angle average for all bands and detectors</p></td></tr><tr><td>MGRS_TILE</td><td>STRING</td><td><p>US-Military Grid Reference System (MGRS) tile</p></td></tr><tr><td>PROCESSING_BASELINE</td><td>STRING</td><td><p>Configuration baseline used at the time of the product\\ngeneration in terms of processor software version and major Ground\\nImage Processing Parameters (GIPP) version</p></td></tr><tr><td>PRODUCT_ID</td><td>STRING</td><td><p>The full id of the original Sentinel-2 product</p></td></tr><tr><td>RADIOMETRIC_QUALITY</td><td>STRING</td><td><p>Based on the OLQC reports contained in the Datastrips/QI_DATA with RADIOMETRIC_QUALITY checklist name</p></td></tr><tr><td>REFLECTANCE_CONVERSION_CORRECTION</td><td>DOUBLE</td><td><p>Earth-Sun distance correction factor</p></td></tr><tr><td>SENSING_ORBIT_DIRECTION</td><td>STRING</td><td><p>Imaging orbit direction</p></td></tr><tr><td>SENSING_ORBIT_NUMBER</td><td>DOUBLE</td><td><p>Imaging orbit number</p></td></tr><tr><td>SENSOR_QUALITY</td><td>STRING</td><td><p>Synthesis of the OLQC checks performed at granule\\n(Missing_Lines, Corrupted_ISP, and Sensing_Time) and datastrip\\n(Degraded_SAD and Datation_Model) levels</p></td></tr><tr><td>SOLAR_IRRADIANCE_B1</td><td>DOUBLE</td><td><p>Mean solar exoatmospheric irradiance for band B1</p></td></tr><tr><td>SOLAR_IRRADIANCE_B2</td><td>DOUBLE</td><td><p>Mean solar exoatmospheric irradiance for band B2</p></td></tr><tr><td>SOLAR_IRRADIANCE_B3</td><td>DOUBLE</td><td><p>Mean solar exoatmospheric irradiance for band B3</p></td></tr><tr><td>SOLAR_IRRADIANCE_B4</td><td>DOUBLE</td><td><p>Mean solar exoatmospheric irradiance for band B4</p></td></tr><tr><td>SOLAR_IRRADIANCE_B5</td><td>DOUBLE</td><td><p>Mean solar exoatmospheric irradiance for band B5</p></td></tr><tr><td>SOLAR_IRRADIANCE_B6</td><td>DOUBLE</td><td><p>Mean solar exoatmospheric irradiance for band B6</p></td></tr><tr><td>SOLAR_IRRADIANCE_B7</td><td>DOUBLE</td><td><p>Mean solar exoatmospheric irradiance for band B7</p></td></tr><tr><td>SOLAR_IRRADIANCE_B8</td><td>DOUBLE</td><td><p>Mean solar exoatmospheric irradiance for band B8</p></td></tr><tr><td>SOLAR_IRRADIANCE_B8A</td><td>DOUBLE</td><td><p>Mean solar exoatmospheric irradiance for band B8a</p></td></tr><tr><td>SOLAR_IRRADIANCE_B9</td><td>DOUBLE</td><td><p>Mean solar exoatmospheric irradiance for band B9</p></td></tr><tr><td>SOLAR_IRRADIANCE_B10</td><td>DOUBLE</td><td><p>Mean solar exoatmospheric irradiance for band B10</p></td></tr><tr><td>SOLAR_IRRADIANCE_B11</td><td>DOUBLE</td><td><p>Mean solar exoatmospheric irradiance for band B11</p></td></tr><tr><td>SOLAR_IRRADIANCE_B12</td><td>DOUBLE</td><td><p>Mean solar exoatmospheric irradiance for band B12</p></td></tr><tr><td>SPACECRAFT_NAME</td><td>STRING</td><td><p>Sentinel-2 spacecraft name: Sentinel-2A, Sentinel-2B</p></td></tr></table><p><b>Terms of Use</b><br><p>The use of Sentinel data is governed by the <a href=\"https://scihub.copernicus.eu/twiki/pub/SciHubWebPortal/TermsConditions/Sentinel_Data_Terms_and_Conditions.pdf\">Copernicus\\nSentinel Data Terms and Conditions.</a></p><style>\\n  table.eecat {\\n  border: 1px solid black;\\n  border-collapse: collapse;\\n  font-size: 13px;\\n  }\\n  table.eecat td, tr, th {\\n  text-align: left; vertical-align: top;\\n  border: 1px solid gray; padding: 3px;\\n  }\\n  td.nobreak { white-space: nowrap; }\\n</style>', 'source_tags': ['eu', 'esa', 'copernicus', 'sentinel'], 'visualization_0_max': '3000.0', 'provider_url': 'https://earth.esa.int/web/sentinel/user-guides/sentinel-2-msi/product-types/level-1c', 'title': 'Sentinel-2 MSI: MultiSpectral Instrument, Level-1C', 'sample': 'https://mw1.google.com/ges/dd/images/sentinel2_sample.png', 'tags': ['copernicus', 'esa', 'eu', 'msi', 'radiance', 'sentinel'], 'system:visualization_0_max': '3000.0', 'product_tags': ['msi', 'radiance'], 'provider': 'European Union/ESA/Copernicus', 'visualization_0_min': '0.0', 'system:visualization_0_name': 'RGB', 'visualization_0_name': 'RGB', 'visualization_0_bands': 'B4,B3,B2'}, 'features': [{'type': 'Image', 'bands': [{'id': 'B1', 'data_type': {'type': 'PixelType', 'precision': 'int', 'min': 0, 'max': 65535}, 'dimensions': [1830, 1830], 'crs': 'EPSG:32649', 'crs_transform': [60, 0, 699960, 0, -60, 2600040]}, {'id': 'B2', 'data_type': {'type': 'PixelType', 'precision': 'int', 'min': 0, 'max': 65535}, 'dimensions': [10980, 10980], 'crs': 'EPSG:32649', 'crs_transform': [10, 0, 699960, 0, -10, 2600040]}, {'id': 'B3', 'data_type': {'type': 'PixelType', 'precision': 'int', 'min': 0, 'max': 65535}, 'dimensions': [10980, 10980], 'crs': 'EPSG:32649', 'crs_transform': [10, 0, 699960, 0, -10, 2600040]}, {'id': 'B4', 'data_type': {'type': 'PixelType', 'precision': 'int', 'min': 0, 'max': 65535}, 'dimensions': [10980, 10980], 'crs': 'EPSG:32649', 'crs_transform': [10, 0, 699960, 0, -10, 2600040]}, {'id': 'B5', 'data_type': {'type': 'PixelType', 'precision': 'int', 'min': 0, 'max': 65535}, 'dimensions': [5490, 5490], 'crs': 'EPSG:32649', 'crs_transform': [20, 0, 699960, 0, -20, 2600040]}, {'id': 'B6', 'data_type': {'type': 'PixelType', 'precision': 'int', 'min': 0, 'max': 65535}, 'dimensions': [5490, 5490], 'crs': 'EPSG:32649', 'crs_transform': [20, 0, 699960, 0, -20, 2600040]}, {'id': 'B7', 'data_type': {'type': 'PixelType', 'precision': 'int', 'min': 0, 'max': 65535}, 'dimensions': [5490, 5490], 'crs': 'EPSG:32649', 'crs_transform': [20, 0, 699960, 0, -20, 2600040]}, {'id': 'B8', 'data_type': {'type': 'PixelType', 'precision': 'int', 'min': 0, 'max': 65535}, 'dimensions': [10980, 10980], 'crs': 'EPSG:32649', 'crs_transform': [10, 0, 699960, 0, -10, 2600040]}, {'id': 'B8A', 'data_type': {'type': 'PixelType', 'precision': 'int', 'min': 0, 'max': 65535}, 'dimensions': [5490, 5490], 'crs': 'EPSG:32649', 'crs_transform': [20, 0, 699960, 0, -20, 2600040]}, {'id': 'B9', 'data_type': {'type': 'PixelType', 'precision': 'int', 'min': 0, 'max': 65535}, 'dimensions': [1830, 1830], 'crs': 'EPSG:32649', 'crs_transform': [60, 0, 699960, 0, -60, 2600040]}, {'id': 'B10', 'data_type': {'type': 'PixelType', 'precision': 'int', 'min': 0, 'max': 65535}, 'dimensions': [1830, 1830], 'crs': 'EPSG:32649', 'crs_transform': [60, 0, 699960, 0, -60, 2600040]}, {'id': 'B11', 'data_type': {'type': 'PixelType', 'precision': 'int', 'min': 0, 'max': 65535}, 'dimensions': [5490, 5490], 'crs': 'EPSG:32649', 'crs_transform': [20, 0, 699960, 0, -20, 2600040]}, {'id': 'B12', 'data_type': {'type': 'PixelType', 'precision': 'int', 'min': 0, 'max': 65535}, 'dimensions': [5490, 5490], 'crs': 'EPSG:32649', 'crs_transform': [20, 0, 699960, 0, -20, 2600040]}, {'id': 'QA10', 'data_type': {'type': 'PixelType', 'precision': 'int', 'min': 0, 'max': 65535}, 'dimensions': [10980, 10980], 'crs': 'EPSG:32649', 'crs_transform': [10, 0, 699960, 0, -10, 2600040]}, {'id': 'QA20', 'data_type': {'type': 'PixelType', 'precision': 'int', 'min': 0, 'max': 4294967295}, 'dimensions': [5490, 5490], 'crs': 'EPSG:32649', 'crs_transform': [20, 0, 699960, 0, -20, 2600040]}, {'id': 'QA60', 'data_type': {'type': 'PixelType', 'precision': 'int', 'min': 0, 'max': 65535}, 'dimensions': [1830, 1830], 'crs': 'EPSG:32649', 'crs_transform': [60, 0, 699960, 0, -60, 2600040]}], 'id': 'COPERNICUS/S2/20200901T025549_20200901T030025_T49QGF', 'version': 1599047506551390.0, 'properties': {'DATATAKE_IDENTIFIER': 'GS2B_20200901T025549_018219_N02.09', 'SPACECRAFT_NAME': 'Sentinel-2B', 'MEAN_INCIDENCE_AZIMUTH_ANGLE_B8A': 207.313289947086, 'MEAN_SOLAR_AZIMUTH_ANGLE': 126.805529909471, 'system:footprint': {'type': 'LinearRing', 'coordinates': [[112.95808619639885, 23.498269702702277], [112.9580829239082, 23.498254963961223], [112.95085832436516, 23.002707086948035], [112.94383110670462, 22.507133719484973], [112.94387010454163, 22.50709170808302], [112.94390310271002, 22.507045623167862], [112.94391910182149, 22.507042628021676], [114.0102320095038, 22.490639772249658], [114.01027765391636, 22.490675540506757], [114.01032774479744, 22.490705665529802], [114.01033119308252, 22.49072037824906], [114.01572899875023, 22.73831844697336], [114.02120233081058, 22.985900060711128], [114.02675191240965, 23.233472739809304], [114.03237837587005, 23.481036282343336], [114.03233944837257, 23.481078563175256], [114.03230660045843, 23.481124877716457], [114.03229053946087, 23.481128005920702], [112.95818228035506, 23.49833618674529], [112.9581364654899, 23.498300115930657], [112.95808619639885, 23.498269702702277]]}, 'SOLAR_IRRADIANCE_B12': 87.75, 'SOLAR_IRRADIANCE_B10': 365.41, 'SENSOR_QUALITY': 'PASSED', 'SOLAR_IRRADIANCE_B11': 247.08, 'GENERATION_TIME': 1598937521000, 'SOLAR_IRRADIANCE_B8A': 953.93, 'FORMAT_CORRECTNESS': 'PASSED', 'CLOUD_COVERAGE_ASSESSMENT': 11.265, 'system:time_end': 1598929897062, 'system:time_start': 1598929897062, 'DATASTRIP_ID': 'S2B_OPER_MSI_L1C_DS_VGS1_20200901T051841_S20200901T030025_N02.09', 'PROCESSING_BASELINE': '02.09', 'SENSING_ORBIT_NUMBER': 32, 'SENSING_ORBIT_DIRECTION': 'DESCENDING', 'GENERAL_QUALITY': 'PASSED', 'GRANULE_ID': 'L1C_T49QGF_A018219_20200901T030025', 'REFLECTANCE_CONVERSION_CORRECTION': 0.980652136536879, 'MEAN_INCIDENCE_AZIMUTH_ANGLE_B8': 212.093234701184, 'DATATAKE_TYPE': 'INS-NOBS', 'MEAN_INCIDENCE_AZIMUTH_ANGLE_B9': 206.660895116829, 'MEAN_INCIDENCE_AZIMUTH_ANGLE_B6': 208.074825821756, 'MEAN_INCIDENCE_AZIMUTH_ANGLE_B7': 207.653804530661, 'MEAN_INCIDENCE_AZIMUTH_ANGLE_B4': 209.216562039502, 'MEAN_INCIDENCE_ZENITH_ANGLE_B1': 3.3667457061179, 'MEAN_INCIDENCE_AZIMUTH_ANGLE_B5': 208.582270265121, 'RADIOMETRIC_QUALITY': 'PASSED', 'MEAN_INCIDENCE_AZIMUTH_ANGLE_B2': 213.565983690998, 'MEAN_INCIDENCE_AZIMUTH_ANGLE_B3': 210.788192167274, 'MEAN_INCIDENCE_ZENITH_ANGLE_B5': 3.04492855564739, 'MEAN_INCIDENCE_AZIMUTH_ANGLE_B1': 206.897916647723, 'MEAN_INCIDENCE_ZENITH_ANGLE_B4': 2.97375454423968, 'MEAN_INCIDENCE_ZENITH_ANGLE_B3': 2.85623491546117, 'MEAN_INCIDENCE_ZENITH_ANGLE_B2': 2.75723554592503, 'MEAN_INCIDENCE_ZENITH_ANGLE_B9': 3.45921261019749, 'MEAN_INCIDENCE_ZENITH_ANGLE_B8': 2.80589884238166, 'MEAN_INCIDENCE_ZENITH_ANGLE_B7': 3.20029243156887, 'MEAN_INCIDENCE_ZENITH_ANGLE_B6': 3.12054043593238, 'MEAN_SOLAR_ZENITH_ANGLE': 23.2252261094928, 'MEAN_INCIDENCE_ZENITH_ANGLE_B8A': 3.28362916478619, 'MGRS_TILE': '49QGF', 'CLOUDY_PIXEL_PERCENTAGE': 11.265, 'PRODUCT_ID': 'S2B_MSIL1C_20200901T025549_N0209_R032_T49QGF_20200901T051841', 'MEAN_INCIDENCE_ZENITH_ANGLE_B10': 2.93301084598465, 'SOLAR_IRRADIANCE_B9': 817.58, 'DEGRADED_MSI_DATA_PERCENTAGE': 0, 'MEAN_INCIDENCE_ZENITH_ANGLE_B11': 3.10933590397365, 'MEAN_INCIDENCE_ZENITH_ANGLE_B12': 3.30367625225084, 'SOLAR_IRRADIANCE_B6': 1291.13, 'MEAN_INCIDENCE_AZIMUTH_ANGLE_B10': 209.454999829787, 'SOLAR_IRRADIANCE_B5': 1425.78, 'MEAN_INCIDENCE_AZIMUTH_ANGLE_B11': 208.10583903071, 'SOLAR_IRRADIANCE_B8': 1041.28, 'MEAN_INCIDENCE_AZIMUTH_ANGLE_B12': 207.201469017208, 'SOLAR_IRRADIANCE_B7': 1175.57, 'SOLAR_IRRADIANCE_B2': 1959.75, 'SOLAR_IRRADIANCE_B1': 1874.3, 'SOLAR_IRRADIANCE_B4': 1512.79, 'GEOMETRIC_QUALITY': 'PASSED', 'SOLAR_IRRADIANCE_B3': 1824.93, 'system:asset_size': 1389598178, 'system:index': '20200901T025549_20200901T030025_T49QGF'}}, {'type': 'Image', 'bands': [{'id': 'B1', 'data_type': {'type': 'PixelType', 'precision': 'int', 'min': 0, 'max': 65535}, 'dimensions': [1830, 1830], 'crs': 'EPSG:32649', 'crs_transform': [60, 0, 799980, 0, -60, 2600040]}, {'id': 'B2', 'data_type': {'type': 'PixelType', 'precision': 'int', 'min': 0, 'max': 65535}, 'dimensions': [10980, 10980], 'crs': 'EPSG:32649', 'crs_transform': [10, 0, 799980, 0, -10, 2600040]}, {'id': 'B3', 'data_type': {'type': 'PixelType', 'precision': 'int', 'min': 0, 'max': 65535}, 'dimensions': [10980, 10980], 'crs': 'EPSG:32649', 'crs_transform': [10, 0, 799980, 0, -10, 2600040]}, {'id': 'B4', 'data_type': {'type': 'PixelType', 'precision': 'int', 'min': 0, 'max': 65535}, 'dimensions': [10980, 10980], 'crs': 'EPSG:32649', 'crs_transform': [10, 0, 799980, 0, -10, 2600040]}, {'id': 'B5', 'data_type': {'type': 'PixelType', 'precision': 'int', 'min': 0, 'max': 65535}, 'dimensions': [5490, 5490], 'crs': 'EPSG:32649', 'crs_transform': [20, 0, 799980, 0, -20, 2600040]}, {'id': 'B6', 'data_type': {'type': 'PixelType', 'precision': 'int', 'min': 0, 'max': 65535}, 'dimensions': [5490, 5490], 'crs': 'EPSG:32649', 'crs_transform': [20, 0, 799980, 0, -20, 2600040]}, {'id': 'B7', 'data_type': {'type': 'PixelType', 'precision': 'int', 'min': 0, 'max': 65535}, 'dimensions': [5490, 5490], 'crs': 'EPSG:32649', 'crs_transform': [20, 0, 799980, 0, -20, 2600040]}, {'id': 'B8', 'data_type': {'type': 'PixelType', 'precision': 'int', 'min': 0, 'max': 65535}, 'dimensions': [10980, 10980], 'crs': 'EPSG:32649', 'crs_transform': [10, 0, 799980, 0, -10, 2600040]}, {'id': 'B8A', 'data_type': {'type': 'PixelType', 'precision': 'int', 'min': 0, 'max': 65535}, 'dimensions': [5490, 5490], 'crs': 'EPSG:32649', 'crs_transform': [20, 0, 799980, 0, -20, 2600040]}, {'id': 'B9', 'data_type': {'type': 'PixelType', 'precision': 'int', 'min': 0, 'max': 65535}, 'dimensions': [1830, 1830], 'crs': 'EPSG:32649', 'crs_transform': [60, 0, 799980, 0, -60, 2600040]}, {'id': 'B10', 'data_type': {'type': 'PixelType', 'precision': 'int', 'min': 0, 'max': 65535}, 'dimensions': [1830, 1830], 'crs': 'EPSG:32649', 'crs_transform': [60, 0, 799980, 0, -60, 2600040]}, {'id': 'B11', 'data_type': {'type': 'PixelType', 'precision': 'int', 'min': 0, 'max': 65535}, 'dimensions': [5490, 5490], 'crs': 'EPSG:32649', 'crs_transform': [20, 0, 799980, 0, -20, 2600040]}, {'id': 'B12', 'data_type': {'type': 'PixelType', 'precision': 'int', 'min': 0, 'max': 65535}, 'dimensions': [5490, 5490], 'crs': 'EPSG:32649', 'crs_transform': [20, 0, 799980, 0, -20, 2600040]}, {'id': 'QA10', 'data_type': {'type': 'PixelType', 'precision': 'int', 'min': 0, 'max': 65535}, 'dimensions': [10980, 10980], 'crs': 'EPSG:32649', 'crs_transform': [10, 0, 799980, 0, -10, 2600040]}, {'id': 'QA20', 'data_type': {'type': 'PixelType', 'precision': 'int', 'min': 0, 'max': 4294967295}, 'dimensions': [5490, 5490], 'crs': 'EPSG:32649', 'crs_transform': [20, 0, 799980, 0, -20, 2600040]}, {'id': 'QA60', 'data_type': {'type': 'PixelType', 'precision': 'int', 'min': 0, 'max': 65535}, 'dimensions': [1830, 1830], 'crs': 'EPSG:32649', 'crs_transform': [60, 0, 799980, 0, -60, 2600040]}], 'id': 'COPERNICUS/S2/20200901T025549_20200901T030025_T49QHF', 'version': 1599044060309624, 'properties': {'DATATAKE_IDENTIFIER': 'GS2B_20200901T025549_018219_N02.09', 'SPACECRAFT_NAME': 'Sentinel-2B', 'MEAN_INCIDENCE_AZIMUTH_ANGLE_B8A': 284.718426531602, 'MEAN_SOLAR_AZIMUTH_ANGLE': 128.432693497965, 'system:footprint': {'type': 'LinearRing', 'coordinates': [[113.91537894993958, 22.49247494522125], [113.91545237659571, 22.4923836217733], [114.61453403133827, 22.478209506157263], [114.61476736130963, 22.478811157470854], [114.61562447393379, 22.481863800654494], [114.6188590846989, 22.494241292058494], [114.62469131750268, 22.516843471118847], [114.64285633191766, 22.587338011604384], [114.68252131746557, 22.741226488716624], [114.76156525438566, 23.047322504165347], [114.86153282929794, 23.432364543726578], [114.86905914528654, 23.46248766778747], [114.86899268166631, 23.462590887780582], [113.93683313320744, 23.482957200563867], [113.93673348061854, 23.482889441884655], [113.93128350574837, 23.235283896158176], [113.9259083472351, 22.987689844938267], [113.92060700931303, 22.740086826716407], [113.91537894993958, 22.49247494522125]]}, 'SOLAR_IRRADIANCE_B12': 87.75, 'SOLAR_IRRADIANCE_B10': 365.41, 'SENSOR_QUALITY': 'PASSED', 'SOLAR_IRRADIANCE_B11': 247.08, 'GENERATION_TIME': 1598937521000, 'SOLAR_IRRADIANCE_B8A': 953.93, 'FORMAT_CORRECTNESS': 'PASSED', 'CLOUD_COVERAGE_ASSESSMENT': 12.310100000000002, 'system:time_end': 1598929893487, 'system:time_start': 1598929893487, 'DATASTRIP_ID': 'S2B_OPER_MSI_L1C_DS_VGS1_20200901T051841_S20200901T030025_N02.09', 'PROCESSING_BASELINE': '02.09', 'SENSING_ORBIT_NUMBER': 32, 'SENSING_ORBIT_DIRECTION': 'DESCENDING', 'GENERAL_QUALITY': 'PASSED', 'GRANULE_ID': 'L1C_T49QHF_A018219_20200901T030025', 'REFLECTANCE_CONVERSION_CORRECTION': 0.980652136536879, 'MEAN_INCIDENCE_AZIMUTH_ANGLE_B8': 283.685018942943, 'DATATAKE_TYPE': 'INS-NOBS', 'MEAN_INCIDENCE_AZIMUTH_ANGLE_B9': 284.990331130979, 'MEAN_INCIDENCE_AZIMUTH_ANGLE_B6': 284.362092592668, 'MEAN_INCIDENCE_AZIMUTH_ANGLE_B7': 284.561031689045, 'MEAN_INCIDENCE_AZIMUTH_ANGLE_B4': 284.087863106903, 'MEAN_INCIDENCE_ZENITH_ANGLE_B1': 8.63715435634222, 'MEAN_INCIDENCE_AZIMUTH_ANGLE_B5': 284.209976981092, 'RADIOMETRIC_QUALITY': 'PASSED', 'MEAN_INCIDENCE_AZIMUTH_ANGLE_B2': 283.545230578566, 'MEAN_INCIDENCE_AZIMUTH_ANGLE_B3': 283.838681599177, 'MEAN_INCIDENCE_ZENITH_ANGLE_B5': 8.51651735388407, 'MEAN_INCIDENCE_AZIMUTH_ANGLE_B1': 284.828978169136, 'MEAN_INCIDENCE_ZENITH_ANGLE_B4': 8.49901092637823, 'MEAN_INCIDENCE_ZENITH_ANGLE_B3': 8.4611699536705, 'MEAN_INCIDENCE_ZENITH_ANGLE_B2': 8.4284080797869, 'MEAN_INCIDENCE_ZENITH_ANGLE_B9': 8.6704745063559, 'MEAN_INCIDENCE_ZENITH_ANGLE_B8': 8.43947335474472, 'MEAN_INCIDENCE_ZENITH_ANGLE_B7': 8.57911652920852, 'MEAN_INCIDENCE_ZENITH_ANGLE_B6': 8.5395248157737, 'MEAN_SOLAR_ZENITH_ANGLE': 22.5108763254939, 'MEAN_INCIDENCE_ZENITH_ANGLE_B8A': 8.60683657639972, 'MGRS_TILE': '49QHF', 'CLOUDY_PIXEL_PERCENTAGE': 12.3101, 'PRODUCT_ID': 'S2B_MSIL1C_20200901T025549_N0209_R032_T49QHF_20200901T051841', 'MEAN_INCIDENCE_ZENITH_ANGLE_B10': 8.48684778381151, 'SOLAR_IRRADIANCE_B9': 817.58, 'DEGRADED_MSI_DATA_PERCENTAGE': 0, 'MEAN_INCIDENCE_ZENITH_ANGLE_B11': 8.53572142176591, 'MEAN_INCIDENCE_ZENITH_ANGLE_B12': 8.61322479153687, 'SOLAR_IRRADIANCE_B6': 1291.13, 'MEAN_INCIDENCE_AZIMUTH_ANGLE_B10': 283.931767974646, 'SOLAR_IRRADIANCE_B5': 1425.78, 'MEAN_INCIDENCE_AZIMUTH_ANGLE_B11': 284.264277127134, 'SOLAR_IRRADIANCE_B8': 1041.28, 'MEAN_INCIDENCE_AZIMUTH_ANGLE_B12': 284.67842461135, 'SOLAR_IRRADIANCE_B7': 1175.57, 'SOLAR_IRRADIANCE_B2': 1959.75, 'SOLAR_IRRADIANCE_B1': 1874.3, 'SOLAR_IRRADIANCE_B4': 1512.79, 'GEOMETRIC_QUALITY': 'PASSED', 'SOLAR_IRRADIANCE_B3': 1824.93, 'system:asset_size': 1065819026, 'system:index': '20200901T025549_20200901T030025_T49QHF'}}, {'type': 'Image', 'bands': [{'id': 'B1', 'data_type': {'type': 'PixelType', 'precision': 'int', 'min': 0, 'max': 65535}, 'dimensions': [1830, 1830], 'crs': 'EPSG:32649', 'crs_transform': [60, 0, 699960, 0, -60, 2600040]}, {'id': 'B2', 'data_type': {'type': 'PixelType', 'precision': 'int', 'min': 0, 'max': 65535}, 'dimensions': [10980, 10980], 'crs': 'EPSG:32649', 'crs_transform': [10, 0, 699960, 0, -10, 2600040]}, {'id': 'B3', 'data_type': {'type': 'PixelType', 'precision': 'int', 'min': 0, 'max': 65535}, 'dimensions': [10980, 10980], 'crs': 'EPSG:32649', 'crs_transform': [10, 0, 699960, 0, -10, 2600040]}, {'id': 'B4', 'data_type': {'type': 'PixelType', 'precision': 'int', 'min': 0, 'max': 65535}, 'dimensions': [10980, 10980], 'crs': 'EPSG:32649', 'crs_transform': [10, 0, 699960, 0, -10, 2600040]}, {'id': 'B5', 'data_type': {'type': 'PixelType', 'precision': 'int', 'min': 0, 'max': 65535}, 'dimensions': [5490, 5490], 'crs': 'EPSG:32649', 'crs_transform': [20, 0, 699960, 0, -20, 2600040]}, {'id': 'B6', 'data_type': {'type': 'PixelType', 'precision': 'int', 'min': 0, 'max': 65535}, 'dimensions': [5490, 5490], 'crs': 'EPSG:32649', 'crs_transform': [20, 0, 699960, 0, -20, 2600040]}, {'id': 'B7', 'data_type': {'type': 'PixelType', 'precision': 'int', 'min': 0, 'max': 65535}, 'dimensions': [5490, 5490], 'crs': 'EPSG:32649', 'crs_transform': [20, 0, 699960, 0, -20, 2600040]}, {'id': 'B8', 'data_type': {'type': 'PixelType', 'precision': 'int', 'min': 0, 'max': 65535}, 'dimensions': [10980, 10980], 'crs': 'EPSG:32649', 'crs_transform': [10, 0, 699960, 0, -10, 2600040]}, {'id': 'B8A', 'data_type': {'type': 'PixelType', 'precision': 'int', 'min': 0, 'max': 65535}, 'dimensions': [5490, 5490], 'crs': 'EPSG:32649', 'crs_transform': [20, 0, 699960, 0, -20, 2600040]}, {'id': 'B9', 'data_type': {'type': 'PixelType', 'precision': 'int', 'min': 0, 'max': 65535}, 'dimensions': [1830, 1830], 'crs': 'EPSG:32649', 'crs_transform': [60, 0, 699960, 0, -60, 2600040]}, {'id': 'B10', 'data_type': {'type': 'PixelType', 'precision': 'int', 'min': 0, 'max': 65535}, 'dimensions': [1830, 1830], 'crs': 'EPSG:32649', 'crs_transform': [60, 0, 699960, 0, -60, 2600040]}, {'id': 'B11', 'data_type': {'type': 'PixelType', 'precision': 'int', 'min': 0, 'max': 65535}, 'dimensions': [5490, 5490], 'crs': 'EPSG:32649', 'crs_transform': [20, 0, 699960, 0, -20, 2600040]}, {'id': 'B12', 'data_type': {'type': 'PixelType', 'precision': 'int', 'min': 0, 'max': 65535}, 'dimensions': [5490, 5490], 'crs': 'EPSG:32649', 'crs_transform': [20, 0, 699960, 0, -20, 2600040]}, {'id': 'QA10', 'data_type': {'type': 'PixelType', 'precision': 'int', 'min': 0, 'max': 65535}, 'dimensions': [10980, 10980], 'crs': 'EPSG:32649', 'crs_transform': [10, 0, 699960, 0, -10, 2600040]}, {'id': 'QA20', 'data_type': {'type': 'PixelType', 'precision': 'int', 'min': 0, 'max': 4294967295}, 'dimensions': [5490, 5490], 'crs': 'EPSG:32649', 'crs_transform': [20, 0, 699960, 0, -20, 2600040]}, {'id': 'QA60', 'data_type': {'type': 'PixelType', 'precision': 'int', 'min': 0, 'max': 65535}, 'dimensions': [1830, 1830], 'crs': 'EPSG:32649', 'crs_transform': [60, 0, 699960, 0, -60, 2600040]}], 'id': 'COPERNICUS/S2/20200906T025551_20200906T031003_T49QGF', 'version': 1599417895949859, 'properties': {'DATATAKE_IDENTIFIER': 'GS2A_20200906T025551_027199_N02.09', 'SPACECRAFT_NAME': 'Sentinel-2A', 'MEAN_INCIDENCE_AZIMUTH_ANGLE_B8A': 208.744583676637, 'MEAN_SOLAR_AZIMUTH_ANGLE': 130.830451338136, 'system:footprint': {'type': 'LinearRing', 'coordinates': [[112.95808619639885, 23.498269702702277], [112.9580829239082, 23.498254963961223], [112.95085832436516, 23.002707086948035], [112.94383110670462, 22.507133719484973], [112.94387010454163, 22.50709170808302], [112.94390310271002, 22.507045623167862], [112.94391910182149, 22.507042628021676], [114.0102320095038, 22.490639772249658], [114.01027765391636, 22.490675540506757], [114.01032774479744, 22.490705665529802], [114.01033119308252, 22.49072037824906], [114.01572899875023, 22.73831844697336], [114.02120233081058, 22.985900060711128], [114.02675191240965, 23.233472739809304], [114.03237837587005, 23.481036282343336], [114.03233944837257, 23.481078563175256], [114.03230660045843, 23.481124877716457], [114.03229053946087, 23.481128005920702], [112.95818228035506, 23.49833618674529], [112.9581364654899, 23.498300115930657], [112.95808619639885, 23.498269702702277]]}, 'SOLAR_IRRADIANCE_B12': 85.25, 'SOLAR_IRRADIANCE_B10': 367.15, 'SENSOR_QUALITY': 'PASSED', 'SOLAR_IRRADIANCE_B11': 245.59, 'GENERATION_TIME': 1599371494000, 'SOLAR_IRRADIANCE_B8A': 955.32, 'FORMAT_CORRECTNESS': 'PASSED', 'CLOUD_COVERAGE_ASSESSMENT': 21.745, 'system:time_end': 1599361898169, 'system:time_start': 1599361898169, 'DATASTRIP_ID': 'S2A_OPER_MSI_L1C_DS_EPAE_20200906T055134_S20200906T031003_N02.09', 'PROCESSING_BASELINE': '02.09', 'SENSING_ORBIT_NUMBER': 32, 'SENSING_ORBIT_DIRECTION': 'DESCENDING', 'GENERAL_QUALITY': 'PASSED', 'GRANULE_ID': 'L1C_T49QGF_A027199_20200906T031003', 'REFLECTANCE_CONVERSION_CORRECTION': 0.982986807991233, 'MEAN_INCIDENCE_AZIMUTH_ANGLE_B8': 213.420066815364, 'DATATAKE_TYPE': 'INS-NOBS', 'MEAN_INCIDENCE_AZIMUTH_ANGLE_B9': 208.532106993413, 'MEAN_INCIDENCE_AZIMUTH_ANGLE_B6': 209.57284910711, 'MEAN_INCIDENCE_AZIMUTH_ANGLE_B7': 209.132694692299, 'MEAN_INCIDENCE_AZIMUTH_ANGLE_B4': 210.696555496808, 'MEAN_INCIDENCE_ZENITH_ANGLE_B1': 3.38980738181399, 'MEAN_INCIDENCE_AZIMUTH_ANGLE_B5': 210.053969505471, 'RADIOMETRIC_QUALITY': 'PASSED', 'MEAN_INCIDENCE_AZIMUTH_ANGLE_B2': 214.843650682452, 'MEAN_INCIDENCE_AZIMUTH_ANGLE_B3': 212.279805049908, 'MEAN_INCIDENCE_ZENITH_ANGLE_B5': 3.06136808394084, 'MEAN_INCIDENCE_AZIMUTH_ANGLE_B1': 208.582954277108, 'MEAN_INCIDENCE_ZENITH_ANGLE_B4': 2.98981065751067, 'MEAN_INCIDENCE_ZENITH_ANGLE_B3': 2.86786398790311, 'MEAN_INCIDENCE_ZENITH_ANGLE_B2': 2.76200493395829, 'MEAN_INCIDENCE_ZENITH_ANGLE_B9': 3.48609032714947, 'MEAN_INCIDENCE_ZENITH_ANGLE_B8': 2.81158576783645, 'MEAN_INCIDENCE_ZENITH_ANGLE_B7': 3.22007891008981, 'MEAN_INCIDENCE_ZENITH_ANGLE_B6': 3.14010673871507, 'MEAN_SOLAR_ZENITH_ANGLE': 24.1976883877637, 'MEAN_INCIDENCE_ZENITH_ANGLE_B8A': 3.30053207072662, 'MGRS_TILE': '49QGF', 'CLOUDY_PIXEL_PERCENTAGE': 21.745, 'PRODUCT_ID': 'S2A_MSIL1C_20200906T025551_N0209_R032_T49QGF_20200906T055134', 'MEAN_INCIDENCE_ZENITH_ANGLE_B10': 2.96058282405475, 'SOLAR_IRRADIANCE_B9': 812.92, 'DEGRADED_MSI_DATA_PERCENTAGE': 0, 'MEAN_INCIDENCE_ZENITH_ANGLE_B11': 3.13184203669986, 'MEAN_INCIDENCE_ZENITH_ANGLE_B12': 3.32765169230935, 'SOLAR_IRRADIANCE_B6': 1287.61, 'MEAN_INCIDENCE_AZIMUTH_ANGLE_B10': 211.243681877663, 'SOLAR_IRRADIANCE_B5': 1424.64, 'MEAN_INCIDENCE_AZIMUTH_ANGLE_B11': 209.795228821972, 'SOLAR_IRRADIANCE_B8': 1041.63, 'MEAN_INCIDENCE_AZIMUTH_ANGLE_B12': 208.965350763882, 'SOLAR_IRRADIANCE_B7': 1162.08, 'SOLAR_IRRADIANCE_B2': 1959.66, 'SOLAR_IRRADIANCE_B1': 1884.69, 'SOLAR_IRRADIANCE_B4': 1512.06, 'GEOMETRIC_QUALITY': 'PASSED', 'SOLAR_IRRADIANCE_B3': 1823.24, 'system:asset_size': 1371607865, 'system:index': '20200906T025551_20200906T031003_T49QGF'}}, {'type': 'Image', 'bands': [{'id': 'B1', 'data_type': {'type': 'PixelType', 'precision': 'int', 'min': 0, 'max': 65535}, 'dimensions': [1830, 1830], 'crs': 'EPSG:32649', 'crs_transform': [60, 0, 799980, 0, -60, 2600040]}, {'id': 'B2', 'data_type': {'type': 'PixelType', 'precision': 'int', 'min': 0, 'max': 65535}, 'dimensions': [10980, 10980], 'crs': 'EPSG:32649', 'crs_transform': [10, 0, 799980, 0, -10, 2600040]}, {'id': 'B3', 'data_type': {'type': 'PixelType', 'precision': 'int', 'min': 0, 'max': 65535}, 'dimensions': [10980, 10980], 'crs': 'EPSG:32649', 'crs_transform': [10, 0, 799980, 0, -10, 2600040]}, {'id': 'B4', 'data_type': {'type': 'PixelType', 'precision': 'int', 'min': 0, 'max': 65535}, 'dimensions': [10980, 10980], 'crs': 'EPSG:32649', 'crs_transform': [10, 0, 799980, 0, -10, 2600040]}, {'id': 'B5', 'data_type': {'type': 'PixelType', 'precision': 'int', 'min': 0, 'max': 65535}, 'dimensions': [5490, 5490], 'crs': 'EPSG:32649', 'crs_transform': [20, 0, 799980, 0, -20, 2600040]}, {'id': 'B6', 'data_type': {'type': 'PixelType', 'precision': 'int', 'min': 0, 'max': 65535}, 'dimensions': [5490, 5490], 'crs': 'EPSG:32649', 'crs_transform': [20, 0, 799980, 0, -20, 2600040]}, {'id': 'B7', 'data_type': {'type': 'PixelType', 'precision': 'int', 'min': 0, 'max': 65535}, 'dimensions': [5490, 5490], 'crs': 'EPSG:32649', 'crs_transform': [20, 0, 799980, 0, -20, 2600040]}, {'id': 'B8', 'data_type': {'type': 'PixelType', 'precision': 'int', 'min': 0, 'max': 65535}, 'dimensions': [10980, 10980], 'crs': 'EPSG:32649', 'crs_transform': [10, 0, 799980, 0, -10, 2600040]}, {'id': 'B8A', 'data_type': {'type': 'PixelType', 'precision': 'int', 'min': 0, 'max': 65535}, 'dimensions': [5490, 5490], 'crs': 'EPSG:32649', 'crs_transform': [20, 0, 799980, 0, -20, 2600040]}, {'id': 'B9', 'data_type': {'type': 'PixelType', 'precision': 'int', 'min': 0, 'max': 65535}, 'dimensions': [1830, 1830], 'crs': 'EPSG:32649', 'crs_transform': [60, 0, 799980, 0, -60, 2600040]}, {'id': 'B10', 'data_type': {'type': 'PixelType', 'precision': 'int', 'min': 0, 'max': 65535}, 'dimensions': [1830, 1830], 'crs': 'EPSG:32649', 'crs_transform': [60, 0, 799980, 0, -60, 2600040]}, {'id': 'B11', 'data_type': {'type': 'PixelType', 'precision': 'int', 'min': 0, 'max': 65535}, 'dimensions': [5490, 5490], 'crs': 'EPSG:32649', 'crs_transform': [20, 0, 799980, 0, -20, 2600040]}, {'id': 'B12', 'data_type': {'type': 'PixelType', 'precision': 'int', 'min': 0, 'max': 65535}, 'dimensions': [5490, 5490], 'crs': 'EPSG:32649', 'crs_transform': [20, 0, 799980, 0, -20, 2600040]}, {'id': 'QA10', 'data_type': {'type': 'PixelType', 'precision': 'int', 'min': 0, 'max': 65535}, 'dimensions': [10980, 10980], 'crs': 'EPSG:32649', 'crs_transform': [10, 0, 799980, 0, -10, 2600040]}, {'id': 'QA20', 'data_type': {'type': 'PixelType', 'precision': 'int', 'min': 0, 'max': 4294967295}, 'dimensions': [5490, 5490], 'crs': 'EPSG:32649', 'crs_transform': [20, 0, 799980, 0, -20, 2600040]}, {'id': 'QA60', 'data_type': {'type': 'PixelType', 'precision': 'int', 'min': 0, 'max': 65535}, 'dimensions': [1830, 1830], 'crs': 'EPSG:32649', 'crs_transform': [60, 0, 799980, 0, -60, 2600040]}], 'id': 'COPERNICUS/S2/20200906T025551_20200906T031003_T49QHF', 'version': 1599419113436216, 'properties': {'DATATAKE_IDENTIFIER': 'GS2A_20200906T025551_027199_N02.09', 'SPACECRAFT_NAME': 'Sentinel-2A', 'MEAN_INCIDENCE_AZIMUTH_ANGLE_B8A': 285.624222947531, 'MEAN_SOLAR_AZIMUTH_ANGLE': 132.510698393092, 'system:footprint': {'type': 'LinearRing', 'coordinates': [[114.60797608622856, 22.478962885255452], [114.60819011923127, 22.479684403129426], [114.61379317374208, 22.501030750685512], [114.61897235039314, 22.520941510399258], [114.63778431167607, 22.593948243361805], [114.65597197507142, 22.6644385300615], [114.67527112370675, 22.739228618672314], [114.74554247693403, 23.010721543550446], [114.84564315512421, 23.396681112818413], [114.8585453301786, 23.446529073631783], [114.86003844907236, 23.452389893963534], [114.8624010392622, 23.46211467166378], [114.86241960234274, 23.46275405935139], [113.93673502350941, 23.482959058881033], [113.93128350574837, 23.235283896158176], [113.9259083472351, 22.987689844938267], [113.92060700931303, 22.740086826716407], [113.9153770439323, 22.49238502669865], [114.60774302390482, 22.478361833869656], [114.60797608622856, 22.478962885255452]]}, 'SOLAR_IRRADIANCE_B12': 85.25, 'SOLAR_IRRADIANCE_B10': 367.15, 'SENSOR_QUALITY': 'PASSED', 'SOLAR_IRRADIANCE_B11': 245.59, 'GENERATION_TIME': 1599371494000, 'SOLAR_IRRADIANCE_B8A': 955.32, 'FORMAT_CORRECTNESS': 'PASSED', 'CLOUD_COVERAGE_ASSESSMENT': 41.8903, 'system:time_end': 1599361894602, 'system:time_start': 1599361894602, 'DATASTRIP_ID': 'S2A_OPER_MSI_L1C_DS_EPAE_20200906T055134_S20200906T031003_N02.09', 'PROCESSING_BASELINE': '02.09', 'SENSING_ORBIT_NUMBER': 32, 'SENSING_ORBIT_DIRECTION': 'DESCENDING', 'GENERAL_QUALITY': 'PASSED', 'GRANULE_ID': 'L1C_T49QHF_A027199_20200906T031003', 'REFLECTANCE_CONVERSION_CORRECTION': 0.982986807991233, 'MEAN_INCIDENCE_AZIMUTH_ANGLE_B8': 284.555746971904, 'DATATAKE_TYPE': 'INS-NOBS', 'MEAN_INCIDENCE_AZIMUTH_ANGLE_B9': 285.929242907972, 'MEAN_INCIDENCE_AZIMUTH_ANGLE_B6': 285.291617399913, 'MEAN_INCIDENCE_AZIMUTH_ANGLE_B7': 285.461790567646, 'MEAN_INCIDENCE_AZIMUTH_ANGLE_B4': 284.987781004617, 'MEAN_INCIDENCE_ZENITH_ANGLE_B1': 8.64976030056276, 'MEAN_INCIDENCE_AZIMUTH_ANGLE_B5': 285.132100543288, 'RADIOMETRIC_QUALITY': 'PASSED', 'MEAN_INCIDENCE_AZIMUTH_ANGLE_B2': 284.408466211825, 'MEAN_INCIDENCE_AZIMUTH_ANGLE_B3': 284.709297818345, 'MEAN_INCIDENCE_ZENITH_ANGLE_B5': 8.54726906423042, 'MEAN_INCIDENCE_AZIMUTH_ANGLE_B1': 285.76375672245, 'MEAN_INCIDENCE_ZENITH_ANGLE_B4': 8.52657914075241, 'MEAN_INCIDENCE_ZENITH_ANGLE_B3': 8.49480332585084, 'MEAN_INCIDENCE_ZENITH_ANGLE_B2': 8.46666414700623, 'MEAN_INCIDENCE_ZENITH_ANGLE_B9': 8.68325498745539, 'MEAN_INCIDENCE_ZENITH_ANGLE_B8': 8.47795020012977, 'MEAN_INCIDENCE_ZENITH_ANGLE_B7': 8.5945348306722, 'MEAN_INCIDENCE_ZENITH_ANGLE_B6': 8.5704656648534, 'MEAN_SOLAR_ZENITH_ANGLE': 23.5223631495766, 'MEAN_INCIDENCE_ZENITH_ANGLE_B8A': 8.62248287779532, 'MGRS_TILE': '49QHF', 'CLOUDY_PIXEL_PERCENTAGE': 41.8903, 'PRODUCT_ID': 'S2A_MSIL1C_20200906T025551_N0209_R032_T49QHF_20200906T055134', 'MEAN_INCIDENCE_ZENITH_ANGLE_B10': 8.52357016738337, 'SOLAR_IRRADIANCE_B9': 812.92, 'DEGRADED_MSI_DATA_PERCENTAGE': 0, 'MEAN_INCIDENCE_ZENITH_ANGLE_B11': 8.57291837360489, 'MEAN_INCIDENCE_ZENITH_ANGLE_B12': 8.63676920232716, 'SOLAR_IRRADIANCE_B6': 1287.61, 'MEAN_INCIDENCE_AZIMUTH_ANGLE_B10': 284.859952258228, 'SOLAR_IRRADIANCE_B5': 1424.64, 'MEAN_INCIDENCE_AZIMUTH_ANGLE_B11': 285.210328917562, 'SOLAR_IRRADIANCE_B8': 1041.63, 'MEAN_INCIDENCE_AZIMUTH_ANGLE_B12': 285.573949070314, 'SOLAR_IRRADIANCE_B7': 1162.08, 'SOLAR_IRRADIANCE_B2': 1959.66, 'SOLAR_IRRADIANCE_B1': 1884.69, 'SOLAR_IRRADIANCE_B4': 1512.06, 'GEOMETRIC_QUALITY': 'PASSED', 'SOLAR_IRRADIANCE_B3': 1823.24, 'system:asset_size': 1051392560, 'system:index': '20200906T025551_20200906T031003_T49QHF'}}, {'type': 'Image', 'bands': [{'id': 'B1', 'data_type': {'type': 'PixelType', 'precision': 'int', 'min': 0, 'max': 65535}, 'dimensions': [1830, 1830], 'crs': 'EPSG:32649', 'crs_transform': [60, 0, 699960, 0, -60, 2600040]}, {'id': 'B2', 'data_type': {'type': 'PixelType', 'precision': 'int', 'min': 0, 'max': 65535}, 'dimensions': [10980, 10980], 'crs': 'EPSG:32649', 'crs_transform': [10, 0, 699960, 0, -10, 2600040]}, {'id': 'B3', 'data_type': {'type': 'PixelType', 'precision': 'int', 'min': 0, 'max': 65535}, 'dimensions': [10980, 10980], 'crs': 'EPSG:32649', 'crs_transform': [10, 0, 699960, 0, -10, 2600040]}, {'id': 'B4', 'data_type': {'type': 'PixelType', 'precision': 'int', 'min': 0, 'max': 65535}, 'dimensions': [10980, 10980], 'crs': 'EPSG:32649', 'crs_transform': [10, 0, 699960, 0, -10, 2600040]}, {'id': 'B5', 'data_type': {'type': 'PixelType', 'precision': 'int', 'min': 0, 'max': 65535}, 'dimensions': [5490, 5490], 'crs': 'EPSG:32649', 'crs_transform': [20, 0, 699960, 0, -20, 2600040]}, {'id': 'B6', 'data_type': {'type': 'PixelType', 'precision': 'int', 'min': 0, 'max': 65535}, 'dimensions': [5490, 5490], 'crs': 'EPSG:32649', 'crs_transform': [20, 0, 699960, 0, -20, 2600040]}, {'id': 'B7', 'data_type': {'type': 'PixelType', 'precision': 'int', 'min': 0, 'max': 65535}, 'dimensions': [5490, 5490], 'crs': 'EPSG:32649', 'crs_transform': [20, 0, 699960, 0, -20, 2600040]}, {'id': 'B8', 'data_type': {'type': 'PixelType', 'precision': 'int', 'min': 0, 'max': 65535}, 'dimensions': [10980, 10980], 'crs': 'EPSG:32649', 'crs_transform': [10, 0, 699960, 0, -10, 2600040]}, {'id': 'B8A', 'data_type': {'type': 'PixelType', 'precision': 'int', 'min': 0, 'max': 65535}, 'dimensions': [5490, 5490], 'crs': 'EPSG:32649', 'crs_transform': [20, 0, 699960, 0, -20, 2600040]}, {'id': 'B9', 'data_type': {'type': 'PixelType', 'precision': 'int', 'min': 0, 'max': 65535}, 'dimensions': [1830, 1830], 'crs': 'EPSG:32649', 'crs_transform': [60, 0, 699960, 0, -60, 2600040]}, {'id': 'B10', 'data_type': {'type': 'PixelType', 'precision': 'int', 'min': 0, 'max': 65535}, 'dimensions': [1830, 1830], 'crs': 'EPSG:32649', 'crs_transform': [60, 0, 699960, 0, -60, 2600040]}, {'id': 'B11', 'data_type': {'type': 'PixelType', 'precision': 'int', 'min': 0, 'max': 65535}, 'dimensions': [5490, 5490], 'crs': 'EPSG:32649', 'crs_transform': [20, 0, 699960, 0, -20, 2600040]}, {'id': 'B12', 'data_type': {'type': 'PixelType', 'precision': 'int', 'min': 0, 'max': 65535}, 'dimensions': [5490, 5490], 'crs': 'EPSG:32649', 'crs_transform': [20, 0, 699960, 0, -20, 2600040]}, {'id': 'QA10', 'data_type': {'type': 'PixelType', 'precision': 'int', 'min': 0, 'max': 65535}, 'dimensions': [10980, 10980], 'crs': 'EPSG:32649', 'crs_transform': [10, 0, 699960, 0, -10, 2600040]}, {'id': 'QA20', 'data_type': {'type': 'PixelType', 'precision': 'int', 'min': 0, 'max': 4294967295}, 'dimensions': [5490, 5490], 'crs': 'EPSG:32649', 'crs_transform': [20, 0, 699960, 0, -20, 2600040]}, {'id': 'QA60', 'data_type': {'type': 'PixelType', 'precision': 'int', 'min': 0, 'max': 65535}, 'dimensions': [1830, 1830], 'crs': 'EPSG:32649', 'crs_transform': [60, 0, 699960, 0, -60, 2600040]}], 'id': 'COPERNICUS/S2/20200911T025549_20200911T030838_T49QGF', 'version': 1599860048495355, 'properties': {'DATATAKE_IDENTIFIER': 'GS2B_20200911T025549_018362_N02.09', 'SPACECRAFT_NAME': 'Sentinel-2B', 'MEAN_INCIDENCE_AZIMUTH_ANGLE_B8A': 207.041038548151, 'MEAN_SOLAR_AZIMUTH_ANGLE': 134.632525335417, 'system:footprint': {'type': 'LinearRing', 'coordinates': [[112.95808619639885, 23.498269702702277], [112.9580829239082, 23.498254963961223], [112.95085832436516, 23.002707086948035], [112.94383110670462, 22.507133719484973], [112.94387010454163, 22.50709170808302], [112.94390310271002, 22.507045623167862], [112.94391910182149, 22.507042628021676], [114.0102320095038, 22.490639772249658], [114.01027765391636, 22.490675540506757], [114.01032774479744, 22.490705665529802], [114.01033119308252, 22.49072037824906], [114.01572899875023, 22.73831844697336], [114.02120233081058, 22.985900060711128], [114.02675191240965, 23.233472739809304], [114.03237837587005, 23.481036282343336], [114.03233944837257, 23.481078563175256], [114.03230660045843, 23.481124877716457], [114.03229053946087, 23.481128005920702], [112.95818228035506, 23.49833618674529], [112.9581364654899, 23.498300115930657], [112.95808619639885, 23.498269702702277]]}, 'SOLAR_IRRADIANCE_B12': 87.75, 'SOLAR_IRRADIANCE_B10': 365.41, 'SENSOR_QUALITY': 'PASSED', 'SOLAR_IRRADIANCE_B11': 247.08, 'GENERATION_TIME': 1599803022000, 'SOLAR_IRRADIANCE_B8A': 953.93, 'FORMAT_CORRECTNESS': 'PASSED', 'CLOUD_COVERAGE_ASSESSMENT': 27.6155, 'system:time_end': 1599793896236, 'system:time_start': 1599793896236, 'DATASTRIP_ID': 'S2B_OPER_MSI_L1C_DS_EPAE_20200911T054342_S20200911T030838_N02.09', 'PROCESSING_BASELINE': '02.09', 'SENSING_ORBIT_NUMBER': 32, 'SENSING_ORBIT_DIRECTION': 'DESCENDING', 'GENERAL_QUALITY': 'PASSED', 'GRANULE_ID': 'L1C_T49QGF_A018362_20200911T030838', 'REFLECTANCE_CONVERSION_CORRECTION': 0.985454403275468, 'MEAN_INCIDENCE_AZIMUTH_ANGLE_B8': 212.049066651801, 'DATATAKE_TYPE': 'INS-NOBS', 'MEAN_INCIDENCE_AZIMUTH_ANGLE_B9': 206.824252238217, 'MEAN_INCIDENCE_AZIMUTH_ANGLE_B6': 207.819370200628, 'MEAN_INCIDENCE_AZIMUTH_ANGLE_B7': 207.389530637904, 'MEAN_INCIDENCE_AZIMUTH_ANGLE_B4': 209.130800218088, 'MEAN_INCIDENCE_ZENITH_ANGLE_B1': 3.37681941607045, 'MEAN_INCIDENCE_AZIMUTH_ANGLE_B5': 208.489272412511, 'RADIOMETRIC_QUALITY': 'PASSED', 'MEAN_INCIDENCE_AZIMUTH_ANGLE_B2': 213.526825976481, 'MEAN_INCIDENCE_AZIMUTH_ANGLE_B3': 210.880364469127, 'MEAN_INCIDENCE_ZENITH_ANGLE_B5': 3.05171343868396, 'MEAN_INCIDENCE_AZIMUTH_ANGLE_B1': 207.070303320891, 'MEAN_INCIDENCE_ZENITH_ANGLE_B4': 2.98057804659155, 'MEAN_INCIDENCE_ZENITH_ANGLE_B3': 2.86152226848995, 'MEAN_INCIDENCE_ZENITH_ANGLE_B2': 2.75729636166099, 'MEAN_INCIDENCE_ZENITH_ANGLE_B9': 3.46915353316894, 'MEAN_INCIDENCE_ZENITH_ANGLE_B8': 2.80596231965121, 'MEAN_INCIDENCE_ZENITH_ANGLE_B7': 3.2021715158839, 'MEAN_INCIDENCE_ZENITH_ANGLE_B6': 3.12237329353806, 'MEAN_SOLAR_ZENITH_ANGLE': 25.2939549144887, 'MEAN_INCIDENCE_ZENITH_ANGLE_B8A': 3.28555832836296, 'MGRS_TILE': '49QGF', 'CLOUDY_PIXEL_PERCENTAGE': 27.6155, 'PRODUCT_ID': 'S2B_MSIL1C_20200911T025549_N0209_R032_T49QGF_20200911T054342', 'MEAN_INCIDENCE_ZENITH_ANGLE_B10': 2.94332092928519, 'SOLAR_IRRADIANCE_B9': 817.58, 'DEGRADED_MSI_DATA_PERCENTAGE': 0, 'MEAN_INCIDENCE_ZENITH_ANGLE_B11': 3.11113548111071, 'MEAN_INCIDENCE_ZENITH_ANGLE_B12': 3.30443610791627, 'SOLAR_IRRADIANCE_B6': 1291.13, 'MEAN_INCIDENCE_AZIMUTH_ANGLE_B10': 209.331944909342, 'SOLAR_IRRADIANCE_B5': 1425.78, 'MEAN_INCIDENCE_AZIMUTH_ANGLE_B11': 207.85175849414, 'SOLAR_IRRADIANCE_B8': 1041.28, 'MEAN_INCIDENCE_AZIMUTH_ANGLE_B12': 206.821566600795, 'SOLAR_IRRADIANCE_B7': 1175.57, 'SOLAR_IRRADIANCE_B2': 1959.75, 'SOLAR_IRRADIANCE_B1': 1874.3, 'SOLAR_IRRADIANCE_B4': 1512.79, 'GEOMETRIC_QUALITY': 'PASSED', 'SOLAR_IRRADIANCE_B3': 1824.93, 'system:asset_size': 1444778310, 'system:index': '20200911T025549_20200911T030838_T49QGF'}}, {'type': 'Image', 'bands': [{'id': 'B1', 'data_type': {'type': 'PixelType', 'precision': 'int', 'min': 0, 'max': 65535}, 'dimensions': [1830, 1830], 'crs': 'EPSG:32649', 'crs_transform': [60, 0, 799980, 0, -60, 2600040]}, {'id': 'B2', 'data_type': {'type': 'PixelType', 'precision': 'int', 'min': 0, 'max': 65535}, 'dimensions': [10980, 10980], 'crs': 'EPSG:32649', 'crs_transform': [10, 0, 799980, 0, -10, 2600040]}, {'id': 'B3', 'data_type': {'type': 'PixelType', 'precision': 'int', 'min': 0, 'max': 65535}, 'dimensions': [10980, 10980], 'crs': 'EPSG:32649', 'crs_transform': [10, 0, 799980, 0, -10, 2600040]}, {'id': 'B4', 'data_type': {'type': 'PixelType', 'precision': 'int', 'min': 0, 'max': 65535}, 'dimensions': [10980, 10980], 'crs': 'EPSG:32649', 'crs_transform': [10, 0, 799980, 0, -10, 2600040]}, {'id': 'B5', 'data_type': {'type': 'PixelType', 'precision': 'int', 'min': 0, 'max': 65535}, 'dimensions': [5490, 5490], 'crs': 'EPSG:32649', 'crs_transform': [20, 0, 799980, 0, -20, 2600040]}, {'id': 'B6', 'data_type': {'type': 'PixelType', 'precision': 'int', 'min': 0, 'max': 65535}, 'dimensions': [5490, 5490], 'crs': 'EPSG:32649', 'crs_transform': [20, 0, 799980, 0, -20, 2600040]}, {'id': 'B7', 'data_type': {'type': 'PixelType', 'precision': 'int', 'min': 0, 'max': 65535}, 'dimensions': [5490, 5490], 'crs': 'EPSG:32649', 'crs_transform': [20, 0, 799980, 0, -20, 2600040]}, {'id': 'B8', 'data_type': {'type': 'PixelType', 'precision': 'int', 'min': 0, 'max': 65535}, 'dimensions': [10980, 10980], 'crs': 'EPSG:32649', 'crs_transform': [10, 0, 799980, 0, -10, 2600040]}, {'id': 'B8A', 'data_type': {'type': 'PixelType', 'precision': 'int', 'min': 0, 'max': 65535}, 'dimensions': [5490, 5490], 'crs': 'EPSG:32649', 'crs_transform': [20, 0, 799980, 0, -20, 2600040]}, {'id': 'B9', 'data_type': {'type': 'PixelType', 'precision': 'int', 'min': 0, 'max': 65535}, 'dimensions': [1830, 1830], 'crs': 'EPSG:32649', 'crs_transform': [60, 0, 799980, 0, -60, 2600040]}, {'id': 'B10', 'data_type': {'type': 'PixelType', 'precision': 'int', 'min': 0, 'max': 65535}, 'dimensions': [1830, 1830], 'crs': 'EPSG:32649', 'crs_transform': [60, 0, 799980, 0, -60, 2600040]}, {'id': 'B11', 'data_type': {'type': 'PixelType', 'precision': 'int', 'min': 0, 'max': 65535}, 'dimensions': [5490, 5490], 'crs': 'EPSG:32649', 'crs_transform': [20, 0, 799980, 0, -20, 2600040]}, {'id': 'B12', 'data_type': {'type': 'PixelType', 'precision': 'int', 'min': 0, 'max': 65535}, 'dimensions': [5490, 5490], 'crs': 'EPSG:32649', 'crs_transform': [20, 0, 799980, 0, -20, 2600040]}, {'id': 'QA10', 'data_type': {'type': 'PixelType', 'precision': 'int', 'min': 0, 'max': 65535}, 'dimensions': [10980, 10980], 'crs': 'EPSG:32649', 'crs_transform': [10, 0, 799980, 0, -10, 2600040]}, {'id': 'QA20', 'data_type': {'type': 'PixelType', 'precision': 'int', 'min': 0, 'max': 4294967295}, 'dimensions': [5490, 5490], 'crs': 'EPSG:32649', 'crs_transform': [20, 0, 799980, 0, -20, 2600040]}, {'id': 'QA60', 'data_type': {'type': 'PixelType', 'precision': 'int', 'min': 0, 'max': 65535}, 'dimensions': [1830, 1830], 'crs': 'EPSG:32649', 'crs_transform': [60, 0, 799980, 0, -60, 2600040]}], 'id': 'COPERNICUS/S2/20200911T025549_20200911T030838_T49QHF', 'version': 1599856830400620.0, 'properties': {'DATATAKE_IDENTIFIER': 'GS2B_20200911T025549_018362_N02.09', 'SPACECRAFT_NAME': 'Sentinel-2B', 'MEAN_INCIDENCE_AZIMUTH_ANGLE_B8A': 284.683081825083, 'MEAN_SOLAR_AZIMUTH_ANGLE': 136.340724011362, 'system:footprint': {'type': 'LinearRing', 'coordinates': [[114.85975909533524, 23.43186732177053], [114.86152630956535, 23.438858545653517], [114.86351554675439, 23.446746213758654], [114.86736332294946, 23.462631330667094], [113.93673502350941, 23.482959058881033], [113.93128350574837, 23.235283896158176], [113.9259083472351, 22.987689844938267], [113.92060700931303, 22.740086826716407], [113.9153770439323, 22.49238502669865], [114.61297184948093, 22.47824455998629], [114.6132083519063, 22.478658924785723], [114.61448827146286, 22.482971435748862], [114.61837557572025, 22.498041270071315], [114.6371871138699, 22.571228855675095], [114.67749396022111, 22.72781152834782], [114.69508773447716, 22.796141269638763], [114.77290473431533, 23.097381934854578], [114.85116874556893, 23.398529104078268], [114.85975909533524, 23.43186732177053]]}, 'SOLAR_IRRADIANCE_B12': 87.75, 'SOLAR_IRRADIANCE_B10': 365.41, 'SENSOR_QUALITY': 'PASSED', 'SOLAR_IRRADIANCE_B11': 247.08, 'GENERATION_TIME': 1599803022000, 'SOLAR_IRRADIANCE_B8A': 953.93, 'FORMAT_CORRECTNESS': 'PASSED', 'CLOUD_COVERAGE_ASSESSMENT': 32.5373, 'system:time_end': 1599793892663, 'system:time_start': 1599793892663, 'DATASTRIP_ID': 'S2B_OPER_MSI_L1C_DS_EPAE_20200911T054342_S20200911T030838_N02.09', 'PROCESSING_BASELINE': '02.09', 'SENSING_ORBIT_NUMBER': 32, 'SENSING_ORBIT_DIRECTION': 'DESCENDING', 'GENERAL_QUALITY': 'PASSED', 'GRANULE_ID': 'L1C_T49QHF_A018362_20200911T030838', 'REFLECTANCE_CONVERSION_CORRECTION': 0.985454403275468, 'MEAN_INCIDENCE_AZIMUTH_ANGLE_B8': 283.669173387686, 'DATATAKE_TYPE': 'INS-NOBS', 'MEAN_INCIDENCE_AZIMUTH_ANGLE_B9': 284.956544217395, 'MEAN_INCIDENCE_AZIMUTH_ANGLE_B6': 284.39732952137, 'MEAN_INCIDENCE_AZIMUTH_ANGLE_B7': 284.528248709151, 'MEAN_INCIDENCE_AZIMUTH_ANGLE_B4': 284.085133851002, 'MEAN_INCIDENCE_ZENITH_ANGLE_B1': 8.62965701412569, 'MEAN_INCIDENCE_AZIMUTH_ANGLE_B5': 284.223038639653, 'RADIOMETRIC_QUALITY': 'PASSED', 'MEAN_INCIDENCE_AZIMUTH_ANGLE_B2': 283.532172151225, 'MEAN_INCIDENCE_AZIMUTH_ANGLE_B3': 283.820234978532, 'MEAN_INCIDENCE_ZENITH_ANGLE_B5': 8.52143178985511, 'MEAN_INCIDENCE_AZIMUTH_ANGLE_B1': 284.819382261103, 'MEAN_INCIDENCE_ZENITH_ANGLE_B4': 8.50091849135503, 'MEAN_INCIDENCE_ZENITH_ANGLE_B3': 8.46952987674832, 'MEAN_INCIDENCE_ZENITH_ANGLE_B2': 8.43678792355513, 'MEAN_INCIDENCE_ZENITH_ANGLE_B9': 8.66003631698337, 'MEAN_INCIDENCE_ZENITH_ANGLE_B8': 8.44783863464882, 'MEAN_INCIDENCE_ZENITH_ANGLE_B7': 8.57473727485572, 'MEAN_INCIDENCE_ZENITH_ANGLE_B6': 8.54297451073564, 'MEAN_SOLAR_ZENITH_ANGLE': 24.6585037653728, 'MEAN_INCIDENCE_ZENITH_ANGLE_B8A': 8.60246716688268, 'MGRS_TILE': '49QHF', 'CLOUDY_PIXEL_PERCENTAGE': 32.5373, 'PRODUCT_ID': 'S2B_MSIL1C_20200911T025549_N0209_R032_T49QHF_20200911T054342', 'MEAN_INCIDENCE_ZENITH_ANGLE_B10': 8.48266391686138, 'SOLAR_IRRADIANCE_B9': 817.58, 'DEGRADED_MSI_DATA_PERCENTAGE': 0, 'MEAN_INCIDENCE_ZENITH_ANGLE_B11': 8.53916709241292, 'MEAN_INCIDENCE_ZENITH_ANGLE_B12': 8.60886393932176, 'SOLAR_IRRADIANCE_B6': 1291.13, 'MEAN_INCIDENCE_AZIMUTH_ANGLE_B10': 283.900482027268, 'SOLAR_IRRADIANCE_B5': 1425.78, 'MEAN_INCIDENCE_AZIMUTH_ANGLE_B11': 284.298987902607, 'SOLAR_IRRADIANCE_B8': 1041.28, 'MEAN_INCIDENCE_AZIMUTH_ANGLE_B12': 284.642466910262, 'SOLAR_IRRADIANCE_B7': 1175.57, 'SOLAR_IRRADIANCE_B2': 1959.75, 'SOLAR_IRRADIANCE_B1': 1874.3, 'SOLAR_IRRADIANCE_B4': 1512.79, 'GEOMETRIC_QUALITY': 'PASSED', 'SOLAR_IRRADIANCE_B3': 1824.93, 'system:asset_size': 1088424421, 'system:index': '20200911T025549_20200911T030838_T49QHF'}}, {'type': 'Image', 'bands': [{'id': 'B1', 'data_type': {'type': 'PixelType', 'precision': 'int', 'min': 0, 'max': 65535}, 'dimensions': [1830, 1830], 'crs': 'EPSG:32649', 'crs_transform': [60, 0, 699960, 0, -60, 2600040]}, {'id': 'B2', 'data_type': {'type': 'PixelType', 'precision': 'int', 'min': 0, 'max': 65535}, 'dimensions': [10980, 10980], 'crs': 'EPSG:32649', 'crs_transform': [10, 0, 699960, 0, -10, 2600040]}, {'id': 'B3', 'data_type': {'type': 'PixelType', 'precision': 'int', 'min': 0, 'max': 65535}, 'dimensions': [10980, 10980], 'crs': 'EPSG:32649', 'crs_transform': [10, 0, 699960, 0, -10, 2600040]}, {'id': 'B4', 'data_type': {'type': 'PixelType', 'precision': 'int', 'min': 0, 'max': 65535}, 'dimensions': [10980, 10980], 'crs': 'EPSG:32649', 'crs_transform': [10, 0, 699960, 0, -10, 2600040]}, {'id': 'B5', 'data_type': {'type': 'PixelType', 'precision': 'int', 'min': 0, 'max': 65535}, 'dimensions': [5490, 5490], 'crs': 'EPSG:32649', 'crs_transform': [20, 0, 699960, 0, -20, 2600040]}, {'id': 'B6', 'data_type': {'type': 'PixelType', 'precision': 'int', 'min': 0, 'max': 65535}, 'dimensions': [5490, 5490], 'crs': 'EPSG:32649', 'crs_transform': [20, 0, 699960, 0, -20, 2600040]}, {'id': 'B7', 'data_type': {'type': 'PixelType', 'precision': 'int', 'min': 0, 'max': 65535}, 'dimensions': [5490, 5490], 'crs': 'EPSG:32649', 'crs_transform': [20, 0, 699960, 0, -20, 2600040]}, {'id': 'B8', 'data_type': {'type': 'PixelType', 'precision': 'int', 'min': 0, 'max': 65535}, 'dimensions': [10980, 10980], 'crs': 'EPSG:32649', 'crs_transform': [10, 0, 699960, 0, -10, 2600040]}, {'id': 'B8A', 'data_type': {'type': 'PixelType', 'precision': 'int', 'min': 0, 'max': 65535}, 'dimensions': [5490, 5490], 'crs': 'EPSG:32649', 'crs_transform': [20, 0, 699960, 0, -20, 2600040]}, {'id': 'B9', 'data_type': {'type': 'PixelType', 'precision': 'int', 'min': 0, 'max': 65535}, 'dimensions': [1830, 1830], 'crs': 'EPSG:32649', 'crs_transform': [60, 0, 699960, 0, -60, 2600040]}, {'id': 'B10', 'data_type': {'type': 'PixelType', 'precision': 'int', 'min': 0, 'max': 65535}, 'dimensions': [1830, 1830], 'crs': 'EPSG:32649', 'crs_transform': [60, 0, 699960, 0, -60, 2600040]}, {'id': 'B11', 'data_type': {'type': 'PixelType', 'precision': 'int', 'min': 0, 'max': 65535}, 'dimensions': [5490, 5490], 'crs': 'EPSG:32649', 'crs_transform': [20, 0, 699960, 0, -20, 2600040]}, {'id': 'B12', 'data_type': {'type': 'PixelType', 'precision': 'int', 'min': 0, 'max': 65535}, 'dimensions': [5490, 5490], 'crs': 'EPSG:32649', 'crs_transform': [20, 0, 699960, 0, -20, 2600040]}, {'id': 'QA10', 'data_type': {'type': 'PixelType', 'precision': 'int', 'min': 0, 'max': 65535}, 'dimensions': [10980, 10980], 'crs': 'EPSG:32649', 'crs_transform': [10, 0, 699960, 0, -10, 2600040]}, {'id': 'QA20', 'data_type': {'type': 'PixelType', 'precision': 'int', 'min': 0, 'max': 4294967295}, 'dimensions': [5490, 5490], 'crs': 'EPSG:32649', 'crs_transform': [20, 0, 699960, 0, -20, 2600040]}, {'id': 'QA60', 'data_type': {'type': 'PixelType', 'precision': 'int', 'min': 0, 'max': 65535}, 'dimensions': [1830, 1830], 'crs': 'EPSG:32649', 'crs_transform': [60, 0, 699960, 0, -60, 2600040]}], 'id': 'COPERNICUS/S2/20200916T025551_20200916T030959_T49QGF', 'version': 1601159415481352, 'properties': {'DATATAKE_IDENTIFIER': 'GS2A_20200916T025551_027342_N02.09', 'SPACECRAFT_NAME': 'Sentinel-2A', 'MEAN_INCIDENCE_AZIMUTH_ANGLE_B8A': 209.047602158228, 'MEAN_SOLAR_AZIMUTH_ANGLE': 138.222426835985, 'system:footprint': {'type': 'LinearRing', 'coordinates': [[112.95808619639885, 23.498269702702277], [112.9580829239082, 23.498254963961223], [112.95085832436516, 23.002707086948035], [112.94383110670462, 22.507133719484973], [112.94387010454163, 22.50709170808302], [112.94390310271002, 22.507045623167862], [112.94391910182149, 22.507042628021676], [114.0102320095038, 22.490639772249658], [114.01027765391636, 22.490675540506757], [114.01032774479744, 22.490705665529802], [114.01033119308252, 22.49072037824906], [114.01572899875023, 22.73831844697336], [114.02120233081058, 22.985900060711128], [114.02675191240965, 23.233472739809304], [114.03237837587005, 23.481036282343336], [114.03233944837257, 23.481078563175256], [114.03230660045843, 23.481124877716457], [114.03229053946087, 23.481128005920702], [112.95818228035506, 23.49833618674529], [112.9581364654899, 23.498300115930657], [112.95808619639885, 23.498269702702277]]}, 'SOLAR_IRRADIANCE_B12': 85.25, 'SOLAR_IRRADIANCE_B10': 367.15, 'SENSOR_QUALITY': 'PASSED', 'SOLAR_IRRADIANCE_B11': 245.59, 'GENERATION_TIME': 1600235972000, 'SOLAR_IRRADIANCE_B8A': 955.32, 'FORMAT_CORRECTNESS': 'PASSED', 'CLOUD_COVERAGE_ASSESSMENT': 48.3018, 'system:time_end': 1600225898290, 'system:time_start': 1600225898290, 'DATASTRIP_ID': 'S2A_OPER_MSI_L1C_DS_EPAE_20200916T055932_S20200916T030959_N02.09', 'PROCESSING_BASELINE': '02.09', 'SENSING_ORBIT_NUMBER': 32, 'SENSING_ORBIT_DIRECTION': 'DESCENDING', 'GENERAL_QUALITY': 'PASSED', 'GRANULE_ID': 'L1C_T49QGF_A027342_20200916T030959', 'REFLECTANCE_CONVERSION_CORRECTION': 0.988038072291803, 'MEAN_INCIDENCE_AZIMUTH_ANGLE_B8': 213.669162796538, 'DATATAKE_TYPE': 'INS-NOBS', 'MEAN_INCIDENCE_AZIMUTH_ANGLE_B9': 208.197861338879, 'MEAN_INCIDENCE_AZIMUTH_ANGLE_B6': 209.828879751627, 'MEAN_INCIDENCE_AZIMUTH_ANGLE_B7': 209.395656005381, 'MEAN_INCIDENCE_AZIMUTH_ANGLE_B4': 210.977053164868, 'MEAN_INCIDENCE_ZENITH_ANGLE_B1': 3.38857394238561, 'MEAN_INCIDENCE_AZIMUTH_ANGLE_B5': 210.340339775709, 'RADIOMETRIC_QUALITY': 'PASSED', 'MEAN_INCIDENCE_AZIMUTH_ANGLE_B2': 215.092748792026, 'MEAN_INCIDENCE_AZIMUTH_ANGLE_B3': 212.530522203189, 'MEAN_INCIDENCE_ZENITH_ANGLE_B5': 3.0593989421916, 'MEAN_INCIDENCE_AZIMUTH_ANGLE_B1': 208.452726437721, 'MEAN_INCIDENCE_ZENITH_ANGLE_B4': 2.98805438546011, 'MEAN_INCIDENCE_ZENITH_ANGLE_B3': 2.87010851713453, 'MEAN_INCIDENCE_ZENITH_ANGLE_B2': 2.76494276859037, 'MEAN_INCIDENCE_ZENITH_ANGLE_B9': 3.48058071329989, 'MEAN_INCIDENCE_ZENITH_ANGLE_B8': 2.81416473803636, 'MEAN_INCIDENCE_ZENITH_ANGLE_B7': 3.21483807077153, 'MEAN_INCIDENCE_ZENITH_ANGLE_B6': 3.13492635109784, 'MEAN_SOLAR_ZENITH_ANGLE': 26.4878903206161, 'MEAN_INCIDENCE_ZENITH_ANGLE_B8A': 3.29805251800863, 'MGRS_TILE': '49QGF', 'CLOUDY_PIXEL_PERCENTAGE': 48.3018, 'PRODUCT_ID': 'S2A_MSIL1C_20200916T025551_N0209_R032_T49QGF_20200916T055932', 'MEAN_INCIDENCE_ZENITH_ANGLE_B10': 2.94804297393579, 'SOLAR_IRRADIANCE_B9': 812.92, 'DEGRADED_MSI_DATA_PERCENTAGE': 0, 'MEAN_INCIDENCE_ZENITH_ANGLE_B11': 3.12344755684722, 'MEAN_INCIDENCE_ZENITH_ANGLE_B12': 3.31292645793743, 'SOLAR_IRRADIANCE_B6': 1287.61, 'MEAN_INCIDENCE_AZIMUTH_ANGLE_B10': 210.833125806031, 'SOLAR_IRRADIANCE_B5': 1424.64, 'MEAN_INCIDENCE_AZIMUTH_ANGLE_B11': 209.254760424418, 'SOLAR_IRRADIANCE_B8': 1041.63, 'MEAN_INCIDENCE_AZIMUTH_ANGLE_B12': 208.227108792262, 'SOLAR_IRRADIANCE_B7': 1162.08, 'SOLAR_IRRADIANCE_B2': 1959.66, 'SOLAR_IRRADIANCE_B1': 1884.69, 'SOLAR_IRRADIANCE_B4': 1512.06, 'GEOMETRIC_QUALITY': 'PASSED', 'SOLAR_IRRADIANCE_B3': 1823.24, 'system:asset_size': 1473970795, 'system:index': '20200916T025551_20200916T030959_T49QGF'}}, {'type': 'Image', 'bands': [{'id': 'B1', 'data_type': {'type': 'PixelType', 'precision': 'int', 'min': 0, 'max': 65535}, 'dimensions': [1830, 1830], 'crs': 'EPSG:32649', 'crs_transform': [60, 0, 799980, 0, -60, 2600040]}, {'id': 'B2', 'data_type': {'type': 'PixelType', 'precision': 'int', 'min': 0, 'max': 65535}, 'dimensions': [10980, 10980], 'crs': 'EPSG:32649', 'crs_transform': [10, 0, 799980, 0, -10, 2600040]}, {'id': 'B3', 'data_type': {'type': 'PixelType', 'precision': 'int', 'min': 0, 'max': 65535}, 'dimensions': [10980, 10980], 'crs': 'EPSG:32649', 'crs_transform': [10, 0, 799980, 0, -10, 2600040]}, {'id': 'B4', 'data_type': {'type': 'PixelType', 'precision': 'int', 'min': 0, 'max': 65535}, 'dimensions': [10980, 10980], 'crs': 'EPSG:32649', 'crs_transform': [10, 0, 799980, 0, -10, 2600040]}, {'id': 'B5', 'data_type': {'type': 'PixelType', 'precision': 'int', 'min': 0, 'max': 65535}, 'dimensions': [5490, 5490], 'crs': 'EPSG:32649', 'crs_transform': [20, 0, 799980, 0, -20, 2600040]}, {'id': 'B6', 'data_type': {'type': 'PixelType', 'precision': 'int', 'min': 0, 'max': 65535}, 'dimensions': [5490, 5490], 'crs': 'EPSG:32649', 'crs_transform': [20, 0, 799980, 0, -20, 2600040]}, {'id': 'B7', 'data_type': {'type': 'PixelType', 'precision': 'int', 'min': 0, 'max': 65535}, 'dimensions': [5490, 5490], 'crs': 'EPSG:32649', 'crs_transform': [20, 0, 799980, 0, -20, 2600040]}, {'id': 'B8', 'data_type': {'type': 'PixelType', 'precision': 'int', 'min': 0, 'max': 65535}, 'dimensions': [10980, 10980], 'crs': 'EPSG:32649', 'crs_transform': [10, 0, 799980, 0, -10, 2600040]}, {'id': 'B8A', 'data_type': {'type': 'PixelType', 'precision': 'int', 'min': 0, 'max': 65535}, 'dimensions': [5490, 5490], 'crs': 'EPSG:32649', 'crs_transform': [20, 0, 799980, 0, -20, 2600040]}, {'id': 'B9', 'data_type': {'type': 'PixelType', 'precision': 'int', 'min': 0, 'max': 65535}, 'dimensions': [1830, 1830], 'crs': 'EPSG:32649', 'crs_transform': [60, 0, 799980, 0, -60, 2600040]}, {'id': 'B10', 'data_type': {'type': 'PixelType', 'precision': 'int', 'min': 0, 'max': 65535}, 'dimensions': [1830, 1830], 'crs': 'EPSG:32649', 'crs_transform': [60, 0, 799980, 0, -60, 2600040]}, {'id': 'B11', 'data_type': {'type': 'PixelType', 'precision': 'int', 'min': 0, 'max': 65535}, 'dimensions': [5490, 5490], 'crs': 'EPSG:32649', 'crs_transform': [20, 0, 799980, 0, -20, 2600040]}, {'id': 'B12', 'data_type': {'type': 'PixelType', 'precision': 'int', 'min': 0, 'max': 65535}, 'dimensions': [5490, 5490], 'crs': 'EPSG:32649', 'crs_transform': [20, 0, 799980, 0, -20, 2600040]}, {'id': 'QA10', 'data_type': {'type': 'PixelType', 'precision': 'int', 'min': 0, 'max': 65535}, 'dimensions': [10980, 10980], 'crs': 'EPSG:32649', 'crs_transform': [10, 0, 799980, 0, -10, 2600040]}, {'id': 'QA20', 'data_type': {'type': 'PixelType', 'precision': 'int', 'min': 0, 'max': 4294967295}, 'dimensions': [5490, 5490], 'crs': 'EPSG:32649', 'crs_transform': [20, 0, 799980, 0, -20, 2600040]}, {'id': 'QA60', 'data_type': {'type': 'PixelType', 'precision': 'int', 'min': 0, 'max': 65535}, 'dimensions': [1830, 1830], 'crs': 'EPSG:32649', 'crs_transform': [60, 0, 799980, 0, -60, 2600040]}], 'id': 'COPERNICUS/S2/20200916T025551_20200916T030959_T49QHF', 'version': 1601136279731669, 'properties': {'DATATAKE_IDENTIFIER': 'GS2A_20200916T025551_027342_N02.09', 'SPACECRAFT_NAME': 'Sentinel-2A', 'MEAN_INCIDENCE_AZIMUTH_ANGLE_B8A': 285.587393520249, 'MEAN_SOLAR_AZIMUTH_ANGLE': 139.938641709112, 'system:footprint': {'type': 'LinearRing', 'coordinates': [[114.86495612480574, 23.462589551316977], [114.8648897509527, 23.462692756184452], [113.93673502350941, 23.482959058881033], [113.93128350574837, 23.235283896158176], [113.9259083472351, 22.987689844938267], [113.92060700931303, 22.740086826716407], [113.9153770439323, 22.49238502669865], [114.61064351596654, 22.47829680949903], [114.61088056353798, 22.47871220033001], [114.61131370053556, 22.480337425569523], [114.62185372757892, 22.521077955607847], [114.65369781819095, 22.644644584027734], [114.6714719313031, 22.713516980573562], [114.68818504147481, 22.778260219081268], [114.69100898904244, 22.78919982435132], [114.74303734775934, 22.990576155302318], [114.76115711229848, 23.060681540164552], [114.84885126638379, 23.399488128614184], [114.85739087296358, 23.432467888707684], [114.85920310376301, 23.439637606536984], [114.86495612480574, 23.462589551316977]]}, 'SOLAR_IRRADIANCE_B12': 85.25, 'SOLAR_IRRADIANCE_B10': 367.15, 'SENSOR_QUALITY': 'PASSED', 'SOLAR_IRRADIANCE_B11': 245.59, 'GENERATION_TIME': 1600235972000, 'SOLAR_IRRADIANCE_B8A': 955.32, 'FORMAT_CORRECTNESS': 'PASSED', 'CLOUD_COVERAGE_ASSESSMENT': 39.5775, 'system:time_end': 1600225894718, 'system:time_start': 1600225894718, 'DATASTRIP_ID': 'S2A_OPER_MSI_L1C_DS_EPAE_20200916T055932_S20200916T030959_N02.09', 'PROCESSING_BASELINE': '02.09', 'SENSING_ORBIT_NUMBER': 32, 'SENSING_ORBIT_DIRECTION': 'DESCENDING', 'GENERAL_QUALITY': 'PASSED', 'GRANULE_ID': 'L1C_T49QHF_A027342_20200916T030959', 'REFLECTANCE_CONVERSION_CORRECTION': 0.988038072291803, 'MEAN_INCIDENCE_AZIMUTH_ANGLE_B8': 284.520780869799, 'DATATAKE_TYPE': 'INS-NOBS', 'MEAN_INCIDENCE_AZIMUTH_ANGLE_B9': 285.856215885567, 'MEAN_INCIDENCE_AZIMUTH_ANGLE_B6': 285.24267440904, 'MEAN_INCIDENCE_AZIMUTH_ANGLE_B7': 285.386593478318, 'MEAN_INCIDENCE_AZIMUTH_ANGLE_B4': 284.94299410084, 'MEAN_INCIDENCE_ZENITH_ANGLE_B1': 8.6415698734166, 'MEAN_INCIDENCE_AZIMUTH_ANGLE_B5': 285.087000890505, 'RADIOMETRIC_QUALITY': 'PASSED', 'MEAN_INCIDENCE_AZIMUTH_ANGLE_B2': 284.37901035698, 'MEAN_INCIDENCE_AZIMUTH_ANGLE_B3': 284.663651008863, 'MEAN_INCIDENCE_ZENITH_ANGLE_B5': 8.52807661917308, 'MEAN_INCIDENCE_AZIMUTH_ANGLE_B1': 285.695241831261, 'MEAN_INCIDENCE_ZENITH_ANGLE_B4': 8.5135258221187, 'MEAN_INCIDENCE_ZENITH_ANGLE_B3': 8.47354600899155, 'MEAN_INCIDENCE_ZENITH_ANGLE_B2': 8.44841824885319, 'MEAN_INCIDENCE_ZENITH_ANGLE_B9': 8.6751128057078, 'MEAN_INCIDENCE_ZENITH_ANGLE_B8': 8.45973223690625, 'MEAN_INCIDENCE_ZENITH_ANGLE_B7': 8.57697583583653, 'MEAN_INCIDENCE_ZENITH_ANGLE_B6': 8.55134070320024, 'MEAN_SOLAR_ZENITH_ANGLE': 25.8925527680576, 'MEAN_INCIDENCE_ZENITH_ANGLE_B8A': 8.61115437986099, 'MGRS_TILE': '49QHF', 'CLOUDY_PIXEL_PERCENTAGE': 39.5775, 'PRODUCT_ID': 'S2A_MSIL1C_20200916T025551_N0209_R032_T49QHF_20200916T055932', 'MEAN_INCIDENCE_ZENITH_ANGLE_B10': 8.51006050992763, 'SOLAR_IRRADIANCE_B9': 812.92, 'DEGRADED_MSI_DATA_PERCENTAGE': 0, 'MEAN_INCIDENCE_ZENITH_ANGLE_B11': 8.56427195911678, 'MEAN_INCIDENCE_ZENITH_ANGLE_B12': 8.62519360655871, 'SOLAR_IRRADIANCE_B6': 1287.61, 'MEAN_INCIDENCE_AZIMUTH_ANGLE_B10': 284.780996505063, 'SOLAR_IRRADIANCE_B5': 1424.64, 'MEAN_INCIDENCE_AZIMUTH_ANGLE_B11': 285.165240379733, 'SOLAR_IRRADIANCE_B8': 1041.63, 'MEAN_INCIDENCE_AZIMUTH_ANGLE_B12': 285.499393007648, 'SOLAR_IRRADIANCE_B7': 1162.08, 'SOLAR_IRRADIANCE_B2': 1959.66, 'SOLAR_IRRADIANCE_B1': 1884.69, 'SOLAR_IRRADIANCE_B4': 1512.06, 'GEOMETRIC_QUALITY': 'PASSED', 'SOLAR_IRRADIANCE_B3': 1823.24, 'system:asset_size': 1113794865, 'system:index': '20200916T025551_20200916T030959_T49QHF'}}, {'type': 'Image', 'bands': [{'id': 'B1', 'data_type': {'type': 'PixelType', 'precision': 'int', 'min': 0, 'max': 65535}, 'dimensions': [1830, 1830], 'crs': 'EPSG:32649', 'crs_transform': [60, 0, 699960, 0, -60, 2600040]}, {'id': 'B2', 'data_type': {'type': 'PixelType', 'precision': 'int', 'min': 0, 'max': 65535}, 'dimensions': [10980, 10980], 'crs': 'EPSG:32649', 'crs_transform': [10, 0, 699960, 0, -10, 2600040]}, {'id': 'B3', 'data_type': {'type': 'PixelType', 'precision': 'int', 'min': 0, 'max': 65535}, 'dimensions': [10980, 10980], 'crs': 'EPSG:32649', 'crs_transform': [10, 0, 699960, 0, -10, 2600040]}, {'id': 'B4', 'data_type': {'type': 'PixelType', 'precision': 'int', 'min': 0, 'max': 65535}, 'dimensions': [10980, 10980], 'crs': 'EPSG:32649', 'crs_transform': [10, 0, 699960, 0, -10, 2600040]}, {'id': 'B5', 'data_type': {'type': 'PixelType', 'precision': 'int', 'min': 0, 'max': 65535}, 'dimensions': [5490, 5490], 'crs': 'EPSG:32649', 'crs_transform': [20, 0, 699960, 0, -20, 2600040]}, {'id': 'B6', 'data_type': {'type': 'PixelType', 'precision': 'int', 'min': 0, 'max': 65535}, 'dimensions': [5490, 5490], 'crs': 'EPSG:32649', 'crs_transform': [20, 0, 699960, 0, -20, 2600040]}, {'id': 'B7', 'data_type': {'type': 'PixelType', 'precision': 'int', 'min': 0, 'max': 65535}, 'dimensions': [5490, 5490], 'crs': 'EPSG:32649', 'crs_transform': [20, 0, 699960, 0, -20, 2600040]}, {'id': 'B8', 'data_type': {'type': 'PixelType', 'precision': 'int', 'min': 0, 'max': 65535}, 'dimensions': [10980, 10980], 'crs': 'EPSG:32649', 'crs_transform': [10, 0, 699960, 0, -10, 2600040]}, {'id': 'B8A', 'data_type': {'type': 'PixelType', 'precision': 'int', 'min': 0, 'max': 65535}, 'dimensions': [5490, 5490], 'crs': 'EPSG:32649', 'crs_transform': [20, 0, 699960, 0, -20, 2600040]}, {'id': 'B9', 'data_type': {'type': 'PixelType', 'precision': 'int', 'min': 0, 'max': 65535}, 'dimensions': [1830, 1830], 'crs': 'EPSG:32649', 'crs_transform': [60, 0, 699960, 0, -60, 2600040]}, {'id': 'B10', 'data_type': {'type': 'PixelType', 'precision': 'int', 'min': 0, 'max': 65535}, 'dimensions': [1830, 1830], 'crs': 'EPSG:32649', 'crs_transform': [60, 0, 699960, 0, -60, 2600040]}, {'id': 'B11', 'data_type': {'type': 'PixelType', 'precision': 'int', 'min': 0, 'max': 65535}, 'dimensions': [5490, 5490], 'crs': 'EPSG:32649', 'crs_transform': [20, 0, 699960, 0, -20, 2600040]}, {'id': 'B12', 'data_type': {'type': 'PixelType', 'precision': 'int', 'min': 0, 'max': 65535}, 'dimensions': [5490, 5490], 'crs': 'EPSG:32649', 'crs_transform': [20, 0, 699960, 0, -20, 2600040]}, {'id': 'QA10', 'data_type': {'type': 'PixelType', 'precision': 'int', 'min': 0, 'max': 65535}, 'dimensions': [10980, 10980], 'crs': 'EPSG:32649', 'crs_transform': [10, 0, 699960, 0, -10, 2600040]}, {'id': 'QA20', 'data_type': {'type': 'PixelType', 'precision': 'int', 'min': 0, 'max': 4294967295}, 'dimensions': [5490, 5490], 'crs': 'EPSG:32649', 'crs_transform': [20, 0, 699960, 0, -20, 2600040]}, {'id': 'QA60', 'data_type': {'type': 'PixelType', 'precision': 'int', 'min': 0, 'max': 65535}, 'dimensions': [1830, 1830], 'crs': 'EPSG:32649', 'crs_transform': [60, 0, 699960, 0, -60, 2600040]}], 'id': 'COPERNICUS/S2/20200921T025549_20200921T030950_T49QGF', 'version': 1600725696078108, 'properties': {'DATATAKE_IDENTIFIER': 'GS2B_20200921T025549_018505_N02.09', 'SPACECRAFT_NAME': 'Sentinel-2B', 'MEAN_INCIDENCE_AZIMUTH_ANGLE_B8A': 206.982755143078, 'MEAN_SOLAR_AZIMUTH_ANGLE': 141.511130236923, 'system:footprint': {'type': 'LinearRing', 'coordinates': [[112.95808619639885, 23.498269702702277], [112.9580829239082, 23.498254963961223], [112.95085832436516, 23.002707086948035], [112.94383110670462, 22.507133719484973], [112.94387010454163, 22.50709170808302], [112.94390310271002, 22.507045623167862], [112.94391910182149, 22.507042628021676], [114.0102320095038, 22.490639772249658], [114.01027765391636, 22.490675540506757], [114.01032774479744, 22.490705665529802], [114.01033119308252, 22.49072037824906], [114.01572899875023, 22.73831844697336], [114.02120233081058, 22.985900060711128], [114.02675191240965, 23.233472739809304], [114.03237837587005, 23.481036282343336], [114.03233944837257, 23.481078563175256], [114.03230660045843, 23.481124877716457], [114.03229053946087, 23.481128005920702], [112.95818228035506, 23.49833618674529], [112.9581364654899, 23.498300115930657], [112.95808619639885, 23.498269702702277]]}, 'SOLAR_IRRADIANCE_B12': 87.75, 'SOLAR_IRRADIANCE_B10': 365.41, 'SENSOR_QUALITY': 'PASSED', 'SOLAR_IRRADIANCE_B11': 247.08, 'GENERATION_TIME': 1600667405000, 'SOLAR_IRRADIANCE_B8A': 953.93, 'FORMAT_CORRECTNESS': 'PASSED', 'CLOUD_COVERAGE_ASSESSMENT': 38.9794, 'system:time_end': 1600657896005, 'system:time_start': 1600657896005, 'DATASTRIP_ID': 'S2B_OPER_MSI_L1C_DS_EPAE_20200921T055005_S20200921T030950_N02.09', 'PROCESSING_BASELINE': '02.09', 'SENSING_ORBIT_NUMBER': 32, 'SENSING_ORBIT_DIRECTION': 'DESCENDING', 'GENERAL_QUALITY': 'PASSED', 'GRANULE_ID': 'L1C_T49QGF_A018505_20200921T030950', 'REFLECTANCE_CONVERSION_CORRECTION': 0.990719863265283, 'MEAN_INCIDENCE_AZIMUTH_ANGLE_B8': 211.642052063398, 'DATATAKE_TYPE': 'INS-NOBS', 'MEAN_INCIDENCE_AZIMUTH_ANGLE_B9': 206.475379351944, 'MEAN_INCIDENCE_AZIMUTH_ANGLE_B6': 207.748340410302, 'MEAN_INCIDENCE_AZIMUTH_ANGLE_B7': 207.325289011652, 'MEAN_INCIDENCE_AZIMUTH_ANGLE_B4': 208.894712346438, 'MEAN_INCIDENCE_ZENITH_ANGLE_B1': 3.36894975056996, 'MEAN_INCIDENCE_AZIMUTH_ANGLE_B5': 208.258118900427, 'RADIOMETRIC_QUALITY': 'PASSED', 'MEAN_INCIDENCE_AZIMUTH_ANGLE_B2': 213.122663720009, 'MEAN_INCIDENCE_AZIMUTH_ANGLE_B3': 210.471016913405, 'MEAN_INCIDENCE_ZENITH_ANGLE_B5': 3.03941712127498, 'MEAN_INCIDENCE_AZIMUTH_ANGLE_B1': 206.716814984682, 'MEAN_INCIDENCE_ZENITH_ANGLE_B4': 2.96810949392065, 'MEAN_INCIDENCE_ZENITH_ANGLE_B3': 2.85036374252505, 'MEAN_INCIDENCE_ZENITH_ANGLE_B2': 2.74580248243017, 'MEAN_INCIDENCE_ZENITH_ANGLE_B9': 3.46143794395465, 'MEAN_INCIDENCE_ZENITH_ANGLE_B8': 2.79463347477371, 'MEAN_INCIDENCE_ZENITH_ANGLE_B7': 3.19505552209237, 'MEAN_INCIDENCE_ZENITH_ANGLE_B6': 3.11516136280793, 'MEAN_SOLAR_ZENITH_ANGLE': 27.7905404135599, 'MEAN_INCIDENCE_ZENITH_ANGLE_B8A': 3.27853028872671, 'MGRS_TILE': '49QGF', 'CLOUDY_PIXEL_PERCENTAGE': 38.9794, 'PRODUCT_ID': 'S2B_MSIL1C_20200921T025549_N0209_R032_T49QGF_20200921T055005', 'MEAN_INCIDENCE_ZENITH_ANGLE_B10': 2.93507705230153, 'SOLAR_IRRADIANCE_B9': 817.58, 'DEGRADED_MSI_DATA_PERCENTAGE': 0, 'MEAN_INCIDENCE_ZENITH_ANGLE_B11': 3.10212183969703, 'MEAN_INCIDENCE_ZENITH_ANGLE_B12': 3.29705219900122, 'SOLAR_IRRADIANCE_B6': 1291.13, 'MEAN_INCIDENCE_AZIMUTH_ANGLE_B10': 209.303771621304, 'SOLAR_IRRADIANCE_B5': 1425.78, 'MEAN_INCIDENCE_AZIMUTH_ANGLE_B11': 207.239318035348, 'SOLAR_IRRADIANCE_B8': 1041.28, 'MEAN_INCIDENCE_AZIMUTH_ANGLE_B12': 206.318601269094, 'SOLAR_IRRADIANCE_B7': 1175.57, 'SOLAR_IRRADIANCE_B2': 1959.75, 'SOLAR_IRRADIANCE_B1': 1874.3, 'SOLAR_IRRADIANCE_B4': 1512.79, 'GEOMETRIC_QUALITY': 'PASSED', 'SOLAR_IRRADIANCE_B3': 1824.93, 'system:asset_size': 1482392280, 'system:index': '20200921T025549_20200921T030950_T49QGF'}}, {'type': 'Image', 'bands': [{'id': 'B1', 'data_type': {'type': 'PixelType', 'precision': 'int', 'min': 0, 'max': 65535}, 'dimensions': [1830, 1830], 'crs': 'EPSG:32649', 'crs_transform': [60, 0, 799980, 0, -60, 2600040]}, {'id': 'B2', 'data_type': {'type': 'PixelType', 'precision': 'int', 'min': 0, 'max': 65535}, 'dimensions': [10980, 10980], 'crs': 'EPSG:32649', 'crs_transform': [10, 0, 799980, 0, -10, 2600040]}, {'id': 'B3', 'data_type': {'type': 'PixelType', 'precision': 'int', 'min': 0, 'max': 65535}, 'dimensions': [10980, 10980], 'crs': 'EPSG:32649', 'crs_transform': [10, 0, 799980, 0, -10, 2600040]}, {'id': 'B4', 'data_type': {'type': 'PixelType', 'precision': 'int', 'min': 0, 'max': 65535}, 'dimensions': [10980, 10980], 'crs': 'EPSG:32649', 'crs_transform': [10, 0, 799980, 0, -10, 2600040]}, {'id': 'B5', 'data_type': {'type': 'PixelType', 'precision': 'int', 'min': 0, 'max': 65535}, 'dimensions': [5490, 5490], 'crs': 'EPSG:32649', 'crs_transform': [20, 0, 799980, 0, -20, 2600040]}, {'id': 'B6', 'data_type': {'type': 'PixelType', 'precision': 'int', 'min': 0, 'max': 65535}, 'dimensions': [5490, 5490], 'crs': 'EPSG:32649', 'crs_transform': [20, 0, 799980, 0, -20, 2600040]}, {'id': 'B7', 'data_type': {'type': 'PixelType', 'precision': 'int', 'min': 0, 'max': 65535}, 'dimensions': [5490, 5490], 'crs': 'EPSG:32649', 'crs_transform': [20, 0, 799980, 0, -20, 2600040]}, {'id': 'B8', 'data_type': {'type': 'PixelType', 'precision': 'int', 'min': 0, 'max': 65535}, 'dimensions': [10980, 10980], 'crs': 'EPSG:32649', 'crs_transform': [10, 0, 799980, 0, -10, 2600040]}, {'id': 'B8A', 'data_type': {'type': 'PixelType', 'precision': 'int', 'min': 0, 'max': 65535}, 'dimensions': [5490, 5490], 'crs': 'EPSG:32649', 'crs_transform': [20, 0, 799980, 0, -20, 2600040]}, {'id': 'B9', 'data_type': {'type': 'PixelType', 'precision': 'int', 'min': 0, 'max': 65535}, 'dimensions': [1830, 1830], 'crs': 'EPSG:32649', 'crs_transform': [60, 0, 799980, 0, -60, 2600040]}, {'id': 'B10', 'data_type': {'type': 'PixelType', 'precision': 'int', 'min': 0, 'max': 65535}, 'dimensions': [1830, 1830], 'crs': 'EPSG:32649', 'crs_transform': [60, 0, 799980, 0, -60, 2600040]}, {'id': 'B11', 'data_type': {'type': 'PixelType', 'precision': 'int', 'min': 0, 'max': 65535}, 'dimensions': [5490, 5490], 'crs': 'EPSG:32649', 'crs_transform': [20, 0, 799980, 0, -20, 2600040]}, {'id': 'B12', 'data_type': {'type': 'PixelType', 'precision': 'int', 'min': 0, 'max': 65535}, 'dimensions': [5490, 5490], 'crs': 'EPSG:32649', 'crs_transform': [20, 0, 799980, 0, -20, 2600040]}, {'id': 'QA10', 'data_type': {'type': 'PixelType', 'precision': 'int', 'min': 0, 'max': 65535}, 'dimensions': [10980, 10980], 'crs': 'EPSG:32649', 'crs_transform': [10, 0, 799980, 0, -10, 2600040]}, {'id': 'QA20', 'data_type': {'type': 'PixelType', 'precision': 'int', 'min': 0, 'max': 4294967295}, 'dimensions': [5490, 5490], 'crs': 'EPSG:32649', 'crs_transform': [20, 0, 799980, 0, -20, 2600040]}, {'id': 'QA60', 'data_type': {'type': 'PixelType', 'precision': 'int', 'min': 0, 'max': 65535}, 'dimensions': [1830, 1830], 'crs': 'EPSG:32649', 'crs_transform': [60, 0, 799980, 0, -60, 2600040]}], 'id': 'COPERNICUS/S2/20200921T025549_20200921T030950_T49QHF', 'version': 1600723678512139, 'properties': {'DATATAKE_IDENTIFIER': 'GS2B_20200921T025549_018505_N02.09', 'SPACECRAFT_NAME': 'Sentinel-2B', 'MEAN_INCIDENCE_AZIMUTH_ANGLE_B8A': 284.686942375086, 'MEAN_SOLAR_AZIMUTH_ANGLE': 143.216122081962, 'system:footprint': {'type': 'LinearRing', 'coordinates': [[113.91537894993958, 22.49247494522125], [113.91545237659571, 22.4923836217733], [114.61528032428461, 22.478192762735684], [114.61552597721268, 22.478410278747084], [114.61616262621769, 22.48022215040567], [114.6193135970707, 22.48935621104962], [114.66718979770481, 22.669593826585334], [114.75970524225086, 23.022472212248896], [114.84676242498821, 23.367793439361666], [114.86468347578703, 23.439862891387445], [114.87026381883834, 23.462430611894078], [114.87015914352092, 23.46256191570516], [113.93683313320744, 23.482957200563867], [113.93673348061854, 23.482889441884655], [113.93128350574837, 23.235283896158176], [113.9259083472351, 22.987689844938267], [113.92060700931303, 22.740086826716407], [113.91537894993958, 22.49247494522125]]}, 'SOLAR_IRRADIANCE_B12': 87.75, 'SOLAR_IRRADIANCE_B10': 365.41, 'SENSOR_QUALITY': 'PASSED', 'SOLAR_IRRADIANCE_B11': 247.08, 'GENERATION_TIME': 1600667405000, 'SOLAR_IRRADIANCE_B8A': 953.93, 'FORMAT_CORRECTNESS': 'PASSED', 'CLOUD_COVERAGE_ASSESSMENT': 62.5256, 'system:time_end': 1600657892426, 'system:time_start': 1600657892426, 'DATASTRIP_ID': 'S2B_OPER_MSI_L1C_DS_EPAE_20200921T055005_S20200921T030950_N02.09', 'PROCESSING_BASELINE': '02.09', 'SENSING_ORBIT_NUMBER': 32, 'SENSING_ORBIT_DIRECTION': 'DESCENDING', 'GENERAL_QUALITY': 'PASSED', 'GRANULE_ID': 'L1C_T49QHF_A018505_20200921T030950', 'REFLECTANCE_CONVERSION_CORRECTION': 0.990719863265283, 'MEAN_INCIDENCE_AZIMUTH_ANGLE_B8': 283.67602475673, 'DATATAKE_TYPE': 'INS-NOBS', 'MEAN_INCIDENCE_AZIMUTH_ANGLE_B9': 284.951049361382, 'MEAN_INCIDENCE_AZIMUTH_ANGLE_B6': 284.390687336094, 'MEAN_INCIDENCE_AZIMUTH_ANGLE_B7': 284.533299663452, 'MEAN_INCIDENCE_AZIMUTH_ANGLE_B4': 284.083462063467, 'MEAN_INCIDENCE_ZENITH_ANGLE_B1': 8.6222941068033, 'MEAN_INCIDENCE_AZIMUTH_ANGLE_B5': 284.218418006179, 'RADIOMETRIC_QUALITY': 'PASSED', 'MEAN_INCIDENCE_AZIMUTH_ANGLE_B2': 283.541992041874, 'MEAN_INCIDENCE_AZIMUTH_ANGLE_B3': 283.813740344573, 'MEAN_INCIDENCE_ZENITH_ANGLE_B5': 8.51892451479631, 'MEAN_INCIDENCE_AZIMUTH_ANGLE_B1': 284.793574985228, 'MEAN_INCIDENCE_ZENITH_ANGLE_B4': 8.49840119530248, 'MEAN_INCIDENCE_ZENITH_ANGLE_B3': 8.45885009753538, 'MEAN_INCIDENCE_ZENITH_ANGLE_B2': 8.4342402894516, 'MEAN_INCIDENCE_ZENITH_ANGLE_B9': 8.65566785323005, 'MEAN_INCIDENCE_ZENITH_ANGLE_B8': 8.44530495689052, 'MEAN_INCIDENCE_ZENITH_ANGLE_B7': 8.56415486988771, 'MEAN_INCIDENCE_ZENITH_ANGLE_B6': 8.53869903701305, 'MEAN_SOLAR_ZENITH_ANGLE': 27.2339215049565, 'MEAN_INCIDENCE_ZENITH_ANGLE_B8A': 8.59192080533894, 'MGRS_TILE': '49QHF', 'CLOUDY_PIXEL_PERCENTAGE': 62.5256, 'PRODUCT_ID': 'S2B_MSIL1C_20200921T025549_N0209_R032_T49QHF_20200921T055005', 'MEAN_INCIDENCE_ZENITH_ANGLE_B10': 8.47687896953159, 'SOLAR_IRRADIANCE_B9': 817.58, 'DEGRADED_MSI_DATA_PERCENTAGE': 0, 'MEAN_INCIDENCE_ZENITH_ANGLE_B11': 8.53489164614902, 'MEAN_INCIDENCE_ZENITH_ANGLE_B12': 8.5983284121887, 'SOLAR_IRRADIANCE_B6': 1291.13, 'MEAN_INCIDENCE_AZIMUTH_ANGLE_B10': 283.916002605196, 'SOLAR_IRRADIANCE_B5': 1425.78, 'MEAN_INCIDENCE_AZIMUTH_ANGLE_B11': 284.292722550512, 'SOLAR_IRRADIANCE_B8': 1041.28, 'MEAN_INCIDENCE_AZIMUTH_ANGLE_B12': 284.645959637859, 'SOLAR_IRRADIANCE_B7': 1175.57, 'SOLAR_IRRADIANCE_B2': 1959.75, 'SOLAR_IRRADIANCE_B1': 1874.3, 'SOLAR_IRRADIANCE_B4': 1512.79, 'GEOMETRIC_QUALITY': 'PASSED', 'SOLAR_IRRADIANCE_B3': 1824.93, 'system:asset_size': 1140595493, 'system:index': '20200921T025549_20200921T030950_T49QHF'}}, {'type': 'Image', 'bands': [{'id': 'B1', 'data_type': {'type': 'PixelType', 'precision': 'int', 'min': 0, 'max': 65535}, 'dimensions': [1830, 1830], 'crs': 'EPSG:32649', 'crs_transform': [60, 0, 699960, 0, -60, 2600040]}, {'id': 'B2', 'data_type': {'type': 'PixelType', 'precision': 'int', 'min': 0, 'max': 65535}, 'dimensions': [10980, 10980], 'crs': 'EPSG:32649', 'crs_transform': [10, 0, 699960, 0, -10, 2600040]}, {'id': 'B3', 'data_type': {'type': 'PixelType', 'precision': 'int', 'min': 0, 'max': 65535}, 'dimensions': [10980, 10980], 'crs': 'EPSG:32649', 'crs_transform': [10, 0, 699960, 0, -10, 2600040]}, {'id': 'B4', 'data_type': {'type': 'PixelType', 'precision': 'int', 'min': 0, 'max': 65535}, 'dimensions': [10980, 10980], 'crs': 'EPSG:32649', 'crs_transform': [10, 0, 699960, 0, -10, 2600040]}, {'id': 'B5', 'data_type': {'type': 'PixelType', 'precision': 'int', 'min': 0, 'max': 65535}, 'dimensions': [5490, 5490], 'crs': 'EPSG:32649', 'crs_transform': [20, 0, 699960, 0, -20, 2600040]}, {'id': 'B6', 'data_type': {'type': 'PixelType', 'precision': 'int', 'min': 0, 'max': 65535}, 'dimensions': [5490, 5490], 'crs': 'EPSG:32649', 'crs_transform': [20, 0, 699960, 0, -20, 2600040]}, {'id': 'B7', 'data_type': {'type': 'PixelType', 'precision': 'int', 'min': 0, 'max': 65535}, 'dimensions': [5490, 5490], 'crs': 'EPSG:32649', 'crs_transform': [20, 0, 699960, 0, -20, 2600040]}, {'id': 'B8', 'data_type': {'type': 'PixelType', 'precision': 'int', 'min': 0, 'max': 65535}, 'dimensions': [10980, 10980], 'crs': 'EPSG:32649', 'crs_transform': [10, 0, 699960, 0, -10, 2600040]}, {'id': 'B8A', 'data_type': {'type': 'PixelType', 'precision': 'int', 'min': 0, 'max': 65535}, 'dimensions': [5490, 5490], 'crs': 'EPSG:32649', 'crs_transform': [20, 0, 699960, 0, -20, 2600040]}, {'id': 'B9', 'data_type': {'type': 'PixelType', 'precision': 'int', 'min': 0, 'max': 65535}, 'dimensions': [1830, 1830], 'crs': 'EPSG:32649', 'crs_transform': [60, 0, 699960, 0, -60, 2600040]}, {'id': 'B10', 'data_type': {'type': 'PixelType', 'precision': 'int', 'min': 0, 'max': 65535}, 'dimensions': [1830, 1830], 'crs': 'EPSG:32649', 'crs_transform': [60, 0, 699960, 0, -60, 2600040]}, {'id': 'B11', 'data_type': {'type': 'PixelType', 'precision': 'int', 'min': 0, 'max': 65535}, 'dimensions': [5490, 5490], 'crs': 'EPSG:32649', 'crs_transform': [20, 0, 699960, 0, -20, 2600040]}, {'id': 'B12', 'data_type': {'type': 'PixelType', 'precision': 'int', 'min': 0, 'max': 65535}, 'dimensions': [5490, 5490], 'crs': 'EPSG:32649', 'crs_transform': [20, 0, 699960, 0, -20, 2600040]}, {'id': 'QA10', 'data_type': {'type': 'PixelType', 'precision': 'int', 'min': 0, 'max': 65535}, 'dimensions': [10980, 10980], 'crs': 'EPSG:32649', 'crs_transform': [10, 0, 699960, 0, -10, 2600040]}, {'id': 'QA20', 'data_type': {'type': 'PixelType', 'precision': 'int', 'min': 0, 'max': 4294967295}, 'dimensions': [5490, 5490], 'crs': 'EPSG:32649', 'crs_transform': [20, 0, 699960, 0, -20, 2600040]}, {'id': 'QA60', 'data_type': {'type': 'PixelType', 'precision': 'int', 'min': 0, 'max': 65535}, 'dimensions': [1830, 1830], 'crs': 'EPSG:32649', 'crs_transform': [60, 0, 699960, 0, -60, 2600040]}], 'id': 'COPERNICUS/S2/20200926T025551_20200926T030132_T49QGF', 'version': 1601176620546907, 'properties': {'DATATAKE_IDENTIFIER': 'GS2A_20200926T025551_027485_N02.09', 'SPACECRAFT_NAME': 'Sentinel-2A', 'MEAN_INCIDENCE_AZIMUTH_ANGLE_B8A': 209.295742726872, 'MEAN_SOLAR_AZIMUTH_ANGLE': 144.556927143085, 'system:footprint': {'type': 'LinearRing', 'coordinates': [[112.95808619639885, 23.498269702702277], [112.9580829239082, 23.498254963961223], [112.95085832436516, 23.002707086948035], [112.94383110670462, 22.507133719484973], [112.94387010454163, 22.50709170808302], [112.94390310271002, 22.507045623167862], [112.94391910182149, 22.507042628021676], [114.0102320095038, 22.490639772249658], [114.01027765391636, 22.490675540506757], [114.01032774479744, 22.490705665529802], [114.01033119308252, 22.49072037824906], [114.01572899875023, 22.73831844697336], [114.02120233081058, 22.985900060711128], [114.02675191240965, 23.233472739809304], [114.03237837587005, 23.481036282343336], [114.03233944837257, 23.481078563175256], [114.03230660045843, 23.481124877716457], [114.03229053946087, 23.481128005920702], [112.95818228035506, 23.49833618674529], [112.9581364654899, 23.498300115930657], [112.95808619639885, 23.498269702702277]]}, 'SOLAR_IRRADIANCE_B12': 85.25, 'SOLAR_IRRADIANCE_B10': 367.15, 'SENSOR_QUALITY': 'PASSED', 'SOLAR_IRRADIANCE_B11': 245.59, 'GENERATION_TIME': 1601096926000, 'SOLAR_IRRADIANCE_B8A': 955.32, 'FORMAT_CORRECTNESS': 'PASSED', 'CLOUD_COVERAGE_ASSESSMENT': 91.2658, 'system:time_end': 1601089899250, 'system:time_start': 1601089899250, 'DATASTRIP_ID': 'S2A_OPER_MSI_L1C_DS_VGS1_20200926T050846_S20200926T030132_N02.09', 'PROCESSING_BASELINE': '02.09', 'SENSING_ORBIT_NUMBER': 32, 'SENSING_ORBIT_DIRECTION': 'DESCENDING', 'GENERAL_QUALITY': 'PASSED', 'GRANULE_ID': 'L1C_T49QGF_A027485_20200926T030132', 'REFLECTANCE_CONVERSION_CORRECTION': 0.993481009788506, 'MEAN_INCIDENCE_AZIMUTH_ANGLE_B8': 213.416668166691, 'DATATAKE_TYPE': 'INS-NOBS', 'MEAN_INCIDENCE_AZIMUTH_ANGLE_B9': 208.42435561558, 'MEAN_INCIDENCE_AZIMUTH_ANGLE_B6': 209.725853517269, 'MEAN_INCIDENCE_AZIMUTH_ANGLE_B7': 209.644138826723, 'MEAN_INCIDENCE_AZIMUTH_ANGLE_B4': 210.871914232747, 'MEAN_INCIDENCE_ZENITH_ANGLE_B1': 3.3911215638785, 'MEAN_INCIDENCE_AZIMUTH_ANGLE_B5': 210.236398814488, 'RADIOMETRIC_QUALITY': 'PASSED', 'MEAN_INCIDENCE_AZIMUTH_ANGLE_B2': 214.841329273289, 'MEAN_INCIDENCE_AZIMUTH_ANGLE_B3': 212.275829165382, 'MEAN_INCIDENCE_ZENITH_ANGLE_B5': 3.06108065725194, 'MEAN_INCIDENCE_AZIMUTH_ANGLE_B1': 208.899999226029, 'MEAN_INCIDENCE_ZENITH_ANGLE_B4': 2.98945849944392, 'MEAN_INCIDENCE_ZENITH_ANGLE_B3': 2.86896360617094, 'MEAN_INCIDENCE_ZENITH_ANGLE_B2': 2.76301149771512, 'MEAN_INCIDENCE_ZENITH_ANGLE_B9': 3.48482555566125, 'MEAN_INCIDENCE_ZENITH_ANGLE_B8': 2.81263530284242, 'MEAN_INCIDENCE_ZENITH_ANGLE_B7': 3.2201843560685, 'MEAN_INCIDENCE_ZENITH_ANGLE_B6': 3.1368709147345, 'MEAN_SOLAR_ZENITH_ANGLE': 29.163233020877, 'MEAN_INCIDENCE_ZENITH_ANGLE_B8A': 3.30352524400914, 'MGRS_TILE': '49QGF', 'CLOUDY_PIXEL_PERCENTAGE': 91.2658, 'PRODUCT_ID': 'S2A_MSIL1C_20200926T025551_N0209_R032_T49QGF_20200926T050846', 'MEAN_INCIDENCE_ZENITH_ANGLE_B10': 2.96176013816847, 'SOLAR_IRRADIANCE_B9': 812.92, 'DEGRADED_MSI_DATA_PERCENTAGE': 0, 'MEAN_INCIDENCE_ZENITH_ANGLE_B11': 3.13480121340938, 'MEAN_INCIDENCE_ZENITH_ANGLE_B12': 3.32915272239391, 'SOLAR_IRRADIANCE_B6': 1287.61, 'MEAN_INCIDENCE_AZIMUTH_ANGLE_B10': 211.238982307186, 'SOLAR_IRRADIANCE_B5': 1424.64, 'MEAN_INCIDENCE_AZIMUTH_ANGLE_B11': 209.885656997303, 'SOLAR_IRRADIANCE_B8': 1041.63, 'MEAN_INCIDENCE_AZIMUTH_ANGLE_B12': 208.962354744523, 'SOLAR_IRRADIANCE_B7': 1162.08, 'SOLAR_IRRADIANCE_B2': 1959.66, 'SOLAR_IRRADIANCE_B1': 1884.69, 'SOLAR_IRRADIANCE_B4': 1512.06, 'GEOMETRIC_QUALITY': 'PASSED', 'SOLAR_IRRADIANCE_B3': 1823.24, 'system:asset_size': 1390938237, 'system:index': '20200926T025551_20200926T030132_T49QGF'}}, {'type': 'Image', 'bands': [{'id': 'B1', 'data_type': {'type': 'PixelType', 'precision': 'int', 'min': 0, 'max': 65535}, 'dimensions': [1830, 1830], 'crs': 'EPSG:32649', 'crs_transform': [60, 0, 799980, 0, -60, 2600040]}, {'id': 'B2', 'data_type': {'type': 'PixelType', 'precision': 'int', 'min': 0, 'max': 65535}, 'dimensions': [10980, 10980], 'crs': 'EPSG:32649', 'crs_transform': [10, 0, 799980, 0, -10, 2600040]}, {'id': 'B3', 'data_type': {'type': 'PixelType', 'precision': 'int', 'min': 0, 'max': 65535}, 'dimensions': [10980, 10980], 'crs': 'EPSG:32649', 'crs_transform': [10, 0, 799980, 0, -10, 2600040]}, {'id': 'B4', 'data_type': {'type': 'PixelType', 'precision': 'int', 'min': 0, 'max': 65535}, 'dimensions': [10980, 10980], 'crs': 'EPSG:32649', 'crs_transform': [10, 0, 799980, 0, -10, 2600040]}, {'id': 'B5', 'data_type': {'type': 'PixelType', 'precision': 'int', 'min': 0, 'max': 65535}, 'dimensions': [5490, 5490], 'crs': 'EPSG:32649', 'crs_transform': [20, 0, 799980, 0, -20, 2600040]}, {'id': 'B6', 'data_type': {'type': 'PixelType', 'precision': 'int', 'min': 0, 'max': 65535}, 'dimensions': [5490, 5490], 'crs': 'EPSG:32649', 'crs_transform': [20, 0, 799980, 0, -20, 2600040]}, {'id': 'B7', 'data_type': {'type': 'PixelType', 'precision': 'int', 'min': 0, 'max': 65535}, 'dimensions': [5490, 5490], 'crs': 'EPSG:32649', 'crs_transform': [20, 0, 799980, 0, -20, 2600040]}, {'id': 'B8', 'data_type': {'type': 'PixelType', 'precision': 'int', 'min': 0, 'max': 65535}, 'dimensions': [10980, 10980], 'crs': 'EPSG:32649', 'crs_transform': [10, 0, 799980, 0, -10, 2600040]}, {'id': 'B8A', 'data_type': {'type': 'PixelType', 'precision': 'int', 'min': 0, 'max': 65535}, 'dimensions': [5490, 5490], 'crs': 'EPSG:32649', 'crs_transform': [20, 0, 799980, 0, -20, 2600040]}, {'id': 'B9', 'data_type': {'type': 'PixelType', 'precision': 'int', 'min': 0, 'max': 65535}, 'dimensions': [1830, 1830], 'crs': 'EPSG:32649', 'crs_transform': [60, 0, 799980, 0, -60, 2600040]}, {'id': 'B10', 'data_type': {'type': 'PixelType', 'precision': 'int', 'min': 0, 'max': 65535}, 'dimensions': [1830, 1830], 'crs': 'EPSG:32649', 'crs_transform': [60, 0, 799980, 0, -60, 2600040]}, {'id': 'B11', 'data_type': {'type': 'PixelType', 'precision': 'int', 'min': 0, 'max': 65535}, 'dimensions': [5490, 5490], 'crs': 'EPSG:32649', 'crs_transform': [20, 0, 799980, 0, -20, 2600040]}, {'id': 'B12', 'data_type': {'type': 'PixelType', 'precision': 'int', 'min': 0, 'max': 65535}, 'dimensions': [5490, 5490], 'crs': 'EPSG:32649', 'crs_transform': [20, 0, 799980, 0, -20, 2600040]}, {'id': 'QA10', 'data_type': {'type': 'PixelType', 'precision': 'int', 'min': 0, 'max': 65535}, 'dimensions': [10980, 10980], 'crs': 'EPSG:32649', 'crs_transform': [10, 0, 799980, 0, -10, 2600040]}, {'id': 'QA20', 'data_type': {'type': 'PixelType', 'precision': 'int', 'min': 0, 'max': 4294967295}, 'dimensions': [5490, 5490], 'crs': 'EPSG:32649', 'crs_transform': [20, 0, 799980, 0, -20, 2600040]}, {'id': 'QA60', 'data_type': {'type': 'PixelType', 'precision': 'int', 'min': 0, 'max': 65535}, 'dimensions': [1830, 1830], 'crs': 'EPSG:32649', 'crs_transform': [60, 0, 799980, 0, -60, 2600040]}], 'id': 'COPERNICUS/S2/20200926T025551_20200926T030132_T49QHF', 'version': 1601178370642222, 'properties': {'DATATAKE_IDENTIFIER': 'GS2A_20200926T025551_027485_N02.09', 'SPACECRAFT_NAME': 'Sentinel-2A', 'MEAN_INCIDENCE_AZIMUTH_ANGLE_B8A': 285.629935137432, 'MEAN_SOLAR_AZIMUTH_ANGLE': 146.238298955049, 'system:footprint': {'type': 'LinearRing', 'coordinates': [[114.86225362120213, 23.462628808136245], [114.86214849071702, 23.462760781135163], [113.93673502350941, 23.482959058881033], [113.93128350574837, 23.235283896158176], [113.9259083472351, 22.987689844938267], [113.92060700931303, 22.740086826716407], [113.9153770439323, 22.49238502669865], [114.6077132114899, 22.478362495505802], [114.60796059103185, 22.478581540611422], [114.60818078587255, 22.479323807091358], [114.60925901381782, 22.48345091942919], [114.61401082799607, 22.501928289722557], [114.64191093967291, 22.610453186051398], [114.66032708258284, 22.682019722763012], [114.68072549762168, 22.761293641016998], [114.76557301115086, 23.089710036622847], [114.85142057762339, 23.41981414199048], [114.85403659573693, 23.430024724117683], [114.85536048957752, 23.4352231150674], [114.86225362120213, 23.462628808136245]]}, 'SOLAR_IRRADIANCE_B12': 85.25, 'SOLAR_IRRADIANCE_B10': 367.15, 'SENSOR_QUALITY': 'PASSED', 'SOLAR_IRRADIANCE_B11': 245.59, 'GENERATION_TIME': 1601096926000, 'SOLAR_IRRADIANCE_B8A': 955.32, 'FORMAT_CORRECTNESS': 'PASSED', 'CLOUD_COVERAGE_ASSESSMENT': 74.8554, 'system:time_end': 1601089895677, 'system:time_start': 1601089895677, 'DATASTRIP_ID': 'S2A_OPER_MSI_L1C_DS_VGS1_20200926T050846_S20200926T030132_N02.09', 'PROCESSING_BASELINE': '02.09', 'SENSING_ORBIT_NUMBER': 32, 'SENSING_ORBIT_DIRECTION': 'DESCENDING', 'GENERAL_QUALITY': 'PASSED', 'GRANULE_ID': 'L1C_T49QHF_A027485_20200926T030132', 'REFLECTANCE_CONVERSION_CORRECTION': 0.993481009788506, 'MEAN_INCIDENCE_AZIMUTH_ANGLE_B8': 284.572080460359, 'DATATAKE_TYPE': 'INS-NOBS', 'MEAN_INCIDENCE_AZIMUTH_ANGLE_B9': 285.93505361266, 'MEAN_INCIDENCE_AZIMUTH_ANGLE_B6': 285.297298263155, 'MEAN_INCIDENCE_AZIMUTH_ANGLE_B7': 285.46746226205, 'MEAN_INCIDENCE_AZIMUTH_ANGLE_B4': 284.993362179816, 'MEAN_INCIDENCE_ZENITH_ANGLE_B1': 8.65355204317173, 'MEAN_INCIDENCE_AZIMUTH_ANGLE_B5': 285.13771865922, 'RADIOMETRIC_QUALITY': 'PASSED', 'MEAN_INCIDENCE_AZIMUTH_ANGLE_B2': 284.422358391863, 'MEAN_INCIDENCE_AZIMUTH_ANGLE_B3': 284.705143306693, 'MEAN_INCIDENCE_ZENITH_ANGLE_B5': 8.54941424819065, 'MEAN_INCIDENCE_AZIMUTH_ANGLE_B1': 285.742955818584, 'MEAN_INCIDENCE_ZENITH_ANGLE_B4': 8.52869117596065, 'MEAN_INCIDENCE_ZENITH_ANGLE_B3': 8.48870635695602, 'MEAN_INCIDENCE_ZENITH_ANGLE_B2': 8.46544907556672, 'MEAN_INCIDENCE_ZENITH_ANGLE_B9': 8.6856145609757, 'MEAN_INCIDENCE_ZENITH_ANGLE_B8': 8.47676078958687, 'MEAN_INCIDENCE_ZENITH_ANGLE_B7': 8.59675638190695, 'MEAN_INCIDENCE_ZENITH_ANGLE_B6': 8.57264769847557, 'MEAN_SOLAR_ZENITH_ANGLE': 28.6440022117585, 'MEAN_INCIDENCE_ZENITH_ANGLE_B8A': 8.62474841941962, 'MGRS_TILE': '49QHF', 'CLOUDY_PIXEL_PERCENTAGE': 74.8554, 'PRODUCT_ID': 'S2A_MSIL1C_20200926T025551_N0209_R032_T49QHF_20200926T050846', 'MEAN_INCIDENCE_ZENITH_ANGLE_B10': 8.52717381985813, 'SOLAR_IRRADIANCE_B9': 812.92, 'DEGRADED_MSI_DATA_PERCENTAGE': 0, 'MEAN_INCIDENCE_ZENITH_ANGLE_B11': 8.5780973801583, 'MEAN_INCIDENCE_ZENITH_ANGLE_B12': 8.63904591337573, 'SOLAR_IRRADIANCE_B6': 1287.61, 'MEAN_INCIDENCE_AZIMUTH_ANGLE_B10': 284.850465892101, 'SOLAR_IRRADIANCE_B5': 1424.64, 'MEAN_INCIDENCE_AZIMUTH_ANGLE_B11': 285.23278184562, 'SOLAR_IRRADIANCE_B8': 1041.63, 'MEAN_INCIDENCE_AZIMUTH_ANGLE_B12': 285.579755363208, 'SOLAR_IRRADIANCE_B7': 1162.08, 'SOLAR_IRRADIANCE_B2': 1959.66, 'SOLAR_IRRADIANCE_B1': 1884.69, 'SOLAR_IRRADIANCE_B4': 1512.06, 'GEOMETRIC_QUALITY': 'PASSED', 'SOLAR_IRRADIANCE_B3': 1823.24, 'system:asset_size': 1046523769, 'system:index': '20200926T025551_20200926T030132_T49QHF'}}]}\n"
     ]
    }
   ]
  },
  {
   "cell_type": "markdown",
   "source": [
    "*2.* 从图像集合中筛选像素覆盖率为100%的图像\n",
    "\n"
   ],
   "metadata": {
    "id": "pCWj2HTcFsek"
   }
  },
  {
   "cell_type": "code",
   "source": [
    "# 求图像集合的中图像的geometry，与自己定义的region区域进行计算，求region是否包含在图像的geometry中。\n",
    "# 如果包含则表示该图像能够百分百覆盖region区域，否则不能包含region区域，该图像将被筛除。\n",
    "collectionList = collection.toList(collection.size().getInfo())\n",
    "# print(collectionList.size().getInfo()) # 12\n",
    "# print(type(collectionList.getInfo()[0])) # <class 'dict'>\n",
    "# print(type(collectionList.get(1))) # <class 'ee.computedobject.ComputedObject'>\n",
    "# print(collectionList.get(1).getInfo()) # {'type': 'Image', 'bands': [...], ......}\n",
    "\n",
    "# 遍历imageList，计算图像是否百分百覆盖region\n",
    "def isFullCovered(image):\n",
    "  image_geometry = ee.Image(image).geometry()\n",
    "  isContainedIn = region.containedIn(image_geometry) # 小范围是否包含在大范围中\n",
    "  return isContainedIn\n",
    "\n",
    "isFullCoveredList = collectionList.map(isFullCovered)\n",
    "# print(isFullCoveredList.getInfo()) # [False, True, False, True, False, True, False, True, False, True, False, True]\n",
    "# print(type(isFullCoveredList)) # <class 'ee.ee_list.List'>\n",
    "\n",
    "isFullCoveredList = isFullCoveredList.getInfo()\n",
    "print(isFullCoveredList) # [False, True, False, True, False, True, False, True, False, True, False, True]\n",
    "print(type(isFullCoveredList)) # <class 'list'>"
   ],
   "metadata": {
    "id": "HE_BMMMCoWdC",
    "colab": {
     "base_uri": "https://localhost:8080/"
    },
    "outputId": "ae2602d4-9bdf-4dad-afd3-5a0e43ea5d79"
   },
   "execution_count": 6,
   "outputs": [
    {
     "output_type": "stream",
     "name": "stdout",
     "text": [
      "[False, True, False, True, False, True, False, True, False, True, False, True]\n",
      "<class 'list'>\n"
     ]
    }
   ]
  },
  {
   "cell_type": "code",
   "source": [
    "# 获取图像集合中每个图像的'system:time_start'属性\n",
    "def getTimeStart(image):\n",
    "  # image_time_start = ee.Image(image).get('system:time_start')\n",
    "  # isContainedIn = region.containedIn(image_geometry) # 小范围是否包含在大范围中\n",
    "  return ee.Date(ee.Image(image).get('system:time_start')).format('YYYY-MM-dd')\n",
    "timeStartList = collectionList.map(getTimeStart)\n",
    "# print(timeStartList.getInfo()) # ['2020-09-01', '2020-09-01', '2020-09-06', '2020-09-06', '2020-09-11', '2020-09-11', '2020-09-16', '2020-09-16', '2020-09-21', '2020-09-21', '2020-09-26', '2020-09-26']\n",
    "# print(type(timeStartList)) # <class 'ee.ee_list.List'>\n",
    "\n",
    "timeStartList = timeStartList.getInfo()\n",
    "# print(type(timeStartList)) # <class 'list'>"
   ],
   "metadata": {
    "id": "xi1oVuNjVV24"
   },
   "execution_count": 7,
   "outputs": []
  },
  {
   "cell_type": "code",
   "source": [
    "# 获取图像集合中每个图像的 id\n",
    "def getImageId(image):\n",
    "  # image_time_start = ee.Image(image).get('system:time_start')\n",
    "  # isContainedIn = region.containedIn(image_geometry) # 小范围是否包含在大范围中\n",
    "  return ee.Image(image).id()\n",
    "imageIdList = collectionList.map(getImageId)\n",
    "# print(imageIdList.getInfo()) # ['20200901T025549_20200901T030025_T49QGF', '20200901T025549_20200901T030025_T49QHF', '20200906T025551_20200906T031003_T49QGF', '20200906T025551_20200906T031003_T49QHF', '20200911T025549_20200911T030838_T49QGF', '20200911T025549_20200911T030838_T49QHF', '20200916T025551_20200916T030959_T49QGF', '20200916T025551_20200916T030959_T49QHF', '20200921T025549_20200921T030950_T49QGF', '20200921T025549_20200921T030950_T49QHF', '20200926T025551_20200926T030132_T49QGF', '20200926T025551_20200926T030132_T49QHF']\n",
    "# print(type(imageIdList)) # <class 'ee.ee_list.List'>\n",
    "\n",
    "imageIdList = imageIdList.getInfo()\n",
    "# print(type(imageIdList)) # <class 'list'>"
   ],
   "metadata": {
    "id": "7DarWNeRYj9p"
   },
   "execution_count": 8,
   "outputs": []
  },
  {
   "cell_type": "code",
   "source": [
    "# 根据 isFullCoveredList、timeStartList、imageIdList筛选出覆盖率为100%且时间不重叠的图像，并保存在字典中，字典的键表示时间，值表示图像id\n",
    "validImageDict = {}\n",
    "validImageList = []\n",
    "for i in range(len(imageIdList)):\n",
    "  if isFullCoveredList[i]: # 覆盖率为100%\n",
    "    time_start = timeStartList[i]\n",
    "    if time_start not in validImageDict: # 未存在该时间的图像\n",
    "      validImageDict[time_start] = imageIdList[i]\n",
    "      validImageList.append(ee.Image(collectionList.get(i)))\n",
    "\n",
    "# print(validImageDict) # {'2020-09-01': '20200901T025549_20200901T030025_T49QHF', '2020-09-06': '20200906T025551_20200906T031003_T49QHF', '2020-09-11': '20200911T025549_20200911T030838_T49QHF', '2020-09-16': '20200916T025551_20200916T030959_T49QHF', '2020-09-21': '20200921T025549_20200921T030950_T49QHF', '2020-09-26': '20200926T025551_20200926T030132_T49QHF'}\n",
    "# print(len(validImageDict)) # 6\n",
    "# print(validImageList) # [<ee.image.Image object at 0x7a46c1db84f0>, <ee.image.Image object at 0x7a46c1dbb220>, <ee.image.Image object at 0x7a46c1dba200>, <ee.image.Image object at 0x7a46c1db9d80>, <ee.image.Image object at 0x7a46c1dbb7f0>, <ee.image.Image object at 0x7a46c1dbb670>]\n",
    "# print(len(validImageList)) # 6\n"
   ],
   "metadata": {
    "id": "f7EVDjClY8hs"
   },
   "execution_count": 9,
   "outputs": []
  },
  {
   "cell_type": "markdown",
   "source": [
    "*3.* 根据 QA60 波段计算云掩膜，并将云掩膜作为一个波段添加到原始图像的最后\n",
    "\n",
    "> **注意：这里的云掩膜与模型中需要的云掩膜相反。**\n",
    "*   这里的得到的云掩膜，值为0处，是黑色，表示无效的有云区域，值为1处，是白色，表示有效的无云区域。\n",
    "*   模型中需要的云掩膜，值为0处，是黑色，表示无云覆盖的无云区域，值为1处，是白色，表示有云覆盖的有云区域。\n"
   ],
   "metadata": {
    "id": "si1UwSSSGLi8"
   }
  },
  {
   "cell_type": "code",
   "source": [
    "# validImageList = ee.List(validImageList)\n",
    "# print(validImageList.getInfo()) # [{'type': 'Image', 'bands': [......], ......}]\n",
    "# print(type(validImageList)) # <class 'ee.ee_list.List'>\n",
    "# print(validImageList.get(1).getInfo()) # {'type': 'Image', 'bands': [......], ......}\n",
    "\n",
    "# QA10和QA20波段是空的，使用QA60波段计算的云掩膜，包含不透明的云和卷云的标记，Bit10标记不透明的云（0为无云，1为有云），Bit11标记卷云（0为无云，1为有云）。\n",
    "# 使用QA60波段计算的云掩膜，由于只包含不透明的云和卷云的标记，效果比较差，存在识别不完全的情况，对薄一点的云/雾去识别不出来。\n",
    "def getCloudMaskByQA60(image):\n",
    "  qa = ee.Image(image).select(['QA60'],['cloud_mask'])\n",
    "\n",
    "  # Bits 10 and 11 are clouds and cirrus, respectively.\n",
    "  cloudBitMask = 1 << 10\n",
    "  cirrusBitMask = 1 << 11\n",
    "\n",
    "  # Both flags should be set to zero, indicating clear conditions.\n",
    "  # .eq(0)为True表示有效位置（无云区域），为False表示无效位置（有云区域）\n",
    "  # 使用这个方法得到的云掩膜对薄云识别不佳，效果不好\n",
    "  mask = ee.Image(qa.bitwiseAnd(cloudBitMask).eq(0))\\\n",
    "        .And(ee.Image(qa.bitwiseAnd(cirrusBitMask).eq(0)))\n",
    "  # return image.updateMask(mask)\\\n",
    "  #     .select(\"B.*\")\\\n",
    "  #     .copyProperties(image, [\"system:time_start\"])\n",
    "\n",
    "  # 注意：\n",
    "  # 返回的结果黑色是有云的区域，是0，表示无效区域，白色是1，表示有效区域。\n",
    "  # 返回的结果和模型中需要的云掩膜相反，模型中需要的云掩膜是黑色，值为0，表示未被云覆盖区域，白色，值为1，表示云覆盖区域。\n",
    "  return mask\n",
    "\n",
    "def addCloudMask(i):\n",
    "  image = ee.List(validImageList).get(i)\n",
    "  cloud_mask = ee.Image(cloudMaskList.get(i)).int16()\n",
    "  image = ee.Image(image).addBands(cloud_mask,['cloud_mask'])\n",
    "  return image\n",
    "# 将云掩膜作为一个波段，添加云掩膜波段到原始图像的最后\n",
    "cloudMaskList = ee.List(validImageList).map(getCloudMaskByQA60)\n",
    "# print(type(cloudMaskList)) # <class 'ee.ee_list.List'>\n",
    "# print(cloudMaskList.size().getInfo()) # 6\n",
    "# print(cloudMaskList.getInfo()) # [{'type': 'Image', 'bands': [......], ......}]\n",
    "\n",
    "imageAddCloudMaskList = ee.List.sequence(0,len(validImageList)-1).map(addCloudMask)\n",
    "# print(imageAddCloudMaskList.size().getInfo()) # 6\n",
    "# print(len(imageAddCloudMaskList.get(0).getInfo()['bands'])) # 17\n",
    "# print(imageAddCloudMaskList.get(0).getInfo()['bands'][-1]) # {'id': 'cloud_mask', 'data_type': {'type': 'PixelType', 'precision': 'int', 'min': 0, 'max': 1}, 'dimensions': [1830, 1830], 'crs': 'EPSG:32649', 'crs_transform': [60, 0, 799980, 0, -60, 2600040]}\n"
   ],
   "metadata": {
    "id": "WfEePKb0NtKq"
   },
   "execution_count": 10,
   "outputs": []
  },
  {
   "cell_type": "code",
   "source": [
    "# # 将云掩膜叠加到原始图像中的最后一层\n",
    "# # for循环很慢\n",
    "# isContainedInList = []\n",
    "# coveredList = []\n",
    "# for i in range(imageList.size().getInfo()):\n",
    "#   image = imageList.get(i)\n",
    "#   image_geometry = ee.Image(image).geometry()\n",
    "#   isContainedIn = region.containedIn(image_geometry).getInfo() # 小范围是否包含在大范围中\n",
    "#   isContainedInList.append(isContainedIn)\n",
    "#   if isContainedIn:\n",
    "#     coveredList.append(ee.Image(image))\n",
    "# # print(isContainedInList) # [False, True, False, True, False, True, False, True, False, True, False, True]\n",
    "# # print(len(coveredList)) # 6"
   ],
   "metadata": {
    "id": "gKa-sxzKxU8D"
   },
   "execution_count": null,
   "outputs": []
  },
  {
   "cell_type": "markdown",
   "source": [
    "显示一个图像的掩膜结果"
   ],
   "metadata": {
    "id": "iEu4IU_ruQmS"
   }
  },
  {
   "cell_type": "code",
   "source": [
    "# !pip install geemap\n",
    "img = ee.Image('COPERNICUS/S2/20200901T025549_20200901T030025_T49QHF')\n",
    "image_mask = getCloudMaskByQA60(img)\n",
    "\n",
    "import geemap\n",
    "m = geemap.Map()\n",
    "m.addLayer(img, {'bands': ['B4', 'B3', 'B2'], 'min': 0, 'max': 3000}, 'img')\n",
    "m.addLayer(ee.Image(image_mask), {'min': 0, 'max': 1}, 'image_mask') # 黑色区域是云\n",
    "m.addLayer(img.updateMask(image_mask), {'bands': ['B4', 'B3', 'B2'], 'min': 0, 'max': 3000}, 'image_masked') # 有云的地方是空白\n",
    "display(m)"
   ],
   "metadata": {
    "id": "UNEO_tl30VNI",
    "colab": {
     "base_uri": "https://localhost:8080/",
     "height": 621,
     "referenced_widgets": [
      "7fd33751130c4fb4ad9587921473952b",
      "34b162181d1044638ff02fdd0e4cc431",
      "11e6e29caaad495f9f61203a23b2fa24",
      "7752a0bfff4a4de38d49b76ce588b13b",
      "2ab666f803214ce9a44db30f66e4f25f",
      "97dac04128f2490a88fbc782537b80f8",
      "a530b1a0bebe436bb775ce4f074261cf",
      "f3c6f866c587448fb2277d174bb4afca",
      "2ed29e998927477fa2bd2153d14e1830",
      "ca796b7b63ca414f839d135db6630847",
      "965f060e60ac49929e17a58b32c4efc0",
      "6d574e139dc84aa29868473f665ad261",
      "13d679c2f1584fb189caf2bcf0348902",
      "74df2946184e4f30bf2b3807d8c0b6a2",
      "73ad82e476c7430cbee46a0e68b63b30",
      "7afd83b674af4d6d819175bf2f193913",
      "591f2a3055224be4a698e3acd0cd60d8",
      "d0ce6d511a864c0ca0cea75e33bd84b3",
      "ff20a2411b514e4296850f3087333d16",
      "8fe517cbf1f546f5a9db9795127b1bb9",
      "1c32cd7d406b4158a9ac69664951842f",
      "c99c991f9b514185bd1b88d3145ca45e",
      "33c72ae5d08f4d92a6453e841f28e82d",
      "edd627dbf19347f18669a753b8acb511",
      "0e552014c58f4021bafd74c586c99fce",
      "71b177d08f59466196b5e71609c1688a",
      "b73b002e3e5d41498547d846db1101ba"
     ]
    },
    "outputId": "4f50826c-866c-451c-8c9a-9422d7837fe2"
   },
   "execution_count": 11,
   "outputs": [
    {
     "output_type": "display_data",
     "data": {
      "text/plain": [
       "Map(center=[0, 0], controls=(WidgetControl(options=['position', 'transparent_bg'], widget=SearchDataGUI(childr…"
      ],
      "application/vnd.jupyter.widget-view+json": {
       "version_major": 2,
       "version_minor": 0,
       "model_id": "7fd33751130c4fb4ad9587921473952b"
      }
     },
     "metadata": {
      "application/vnd.jupyter.widget-view+json": {
       "colab": {
        "custom_widget_manager": {
         "url": "https://ssl.gstatic.com/colaboratory-static/widgets/colab-cdn-widget-manager/b3e629b1971e1542/manager.min.js"
        }
       }
      }
     }
    }
   ]
  },
  {
   "cell_type": "markdown",
   "source": [
    "*4.* 将包含云掩膜的有效时间序列图像上传到 Cloud Storage\n",
    "\n",
    "现在有的数据：\n",
    "\n",
    "1. region（ee.Geometry 类型）：图像位置\n",
    "\n",
    "2. collectionList（ee.List 类型）：根据日期、位置筛选的原始图像列表\n",
    "\n",
    "3. isFullCoveredList（list 类型）：原始图像的像素覆盖率是否百分百覆盖的布尔列表\n",
    "\n",
    "4. timeStartList（list 类型）：与原始图像列表的对应的开始时间列表\n",
    "\n",
    "5. imageIdList（list 类型）：与原始图像列表的对应的图像 id 列表\n",
    "\n",
    "6. validImageDict（dict 类型）：有效时间序列图像的“日期 -- 图像 id”字典\n",
    "\n",
    "7. validImageList（list 类型）：有效时间序列原始图像列表\n",
    "\n",
    "8. cloudMaskList（ee.List 类型）：有效时间序列原始图像对应的云掩膜列表\n",
    "\n",
    "9. imageAddCloudMaskList（ee.List 类型）：包含云掩膜的有效时间序列图像列表\n",
    "\n"
   ],
   "metadata": {
    "id": "esMcIhTIfhpz"
   }
  },
  {
   "cell_type": "code",
   "source": [
    "BUCKET = 'u-tilise'\n",
    "FOLDER = 'shenzhen_test'\n",
    "KERNEL_SIZE = 256\n",
    "KERNEL_SHAPE = [KERNEL_SIZE, KERNEL_SIZE]\n",
    "kernel_buffer = [128, 128]\n",
    "\n",
    "buffer_region = region.buffer(distance=10*KERNEL_SIZE).getInfo()['coordinates'] # 10 是导出时的分辨率 scale\n",
    "regionInfo = region.getInfo()['coordinates']"
   ],
   "metadata": {
    "id": "cjX-kgyJ3foC",
    "colab": {
     "base_uri": "https://localhost:8080/",
     "height": 17
    },
    "outputId": "79db7253-b7cc-4331-d813-ba1fed8ea35b"
   },
   "execution_count": 12,
   "outputs": [
    {
     "output_type": "display_data",
     "data": {
      "text/plain": [
       "<IPython.core.display.HTML object>"
      ],
      "text/html": [
       "\n",
       "            <style>\n",
       "                .geemap-dark {\n",
       "                    --jp-widgets-color: white;\n",
       "                    --jp-widgets-label-color: white;\n",
       "                    --jp-ui-font-color1: white;\n",
       "                    --jp-layout-color2: #454545;\n",
       "                    background-color: #383838;\n",
       "                }\n",
       "                    \n",
       "                .geemap-dark .jupyter-button {\n",
       "                    --jp-layout-color3: #383838;\n",
       "                }\n",
       "                \n",
       "                .geemap-colab {\n",
       "                    background-color: var(--colab-primary-surface-color, white);\n",
       "                }\n",
       "                    \n",
       "                .geemap-colab .jupyter-button {\n",
       "                    --jp-layout-color3: var(--colab-primary-surface-color, white);\n",
       "                }\n",
       "            </style>\n",
       "            "
      ]
     },
     "metadata": {}
    }
   ]
  },
  {
   "cell_type": "code",
   "source": [
    "image_size = collection.first().clip(region).getInfo()['bands'][1]['dimensions']\n",
    "print(image_size) # [808, 1076]"
   ],
   "metadata": {
    "colab": {
     "base_uri": "https://localhost:8080/",
     "height": 35
    },
    "id": "MXtfxk1FYWsY",
    "outputId": "3caeff17-04fc-4093-a6b4-327ab964f949"
   },
   "execution_count": null,
   "outputs": [
    {
     "output_type": "display_data",
     "data": {
      "text/plain": [
       "<IPython.core.display.HTML object>"
      ],
      "text/html": [
       "\n",
       "            <style>\n",
       "                .geemap-dark {\n",
       "                    --jp-widgets-color: white;\n",
       "                    --jp-widgets-label-color: white;\n",
       "                    --jp-ui-font-color1: white;\n",
       "                    --jp-layout-color2: #454545;\n",
       "                    background-color: #383838;\n",
       "                }\n",
       "                    \n",
       "                .geemap-dark .jupyter-button {\n",
       "                    --jp-layout-color3: #383838;\n",
       "                }\n",
       "                \n",
       "                .geemap-colab {\n",
       "                    background-color: var(--colab-primary-surface-color, white);\n",
       "                }\n",
       "                    \n",
       "                .geemap-colab .jupyter-button {\n",
       "                    --jp-layout-color3: var(--colab-primary-surface-color, white);\n",
       "                }\n",
       "            </style>\n",
       "            "
      ]
     },
     "metadata": {}
    },
    {
     "output_type": "stream",
     "name": "stdout",
     "text": [
      "[808, 1076]\n"
     ]
    }
   ]
  },
  {
   "cell_type": "markdown",
   "source": [
    "上传数据"
   ],
   "metadata": {
    "id": "DVQIR2-kK1LJ"
   }
  },
  {
   "cell_type": "code",
   "source": [
    "# 上传数据到 Cloud Storage，不采用 kernel_buffer，直接把原图的所有波段导出\n",
    "def exportImageToCloudStorage(out_image_base, image):\n",
    "  task = ee.batch.Export.image.toCloudStorage(\n",
    "    image = image.int16(),\n",
    "    # image = s2image.select(BANDS),\n",
    "    description = out_image_base,\n",
    "    bucket = BUCKET,\n",
    "    fileNamePrefix = FOLDER + '/shenzhen_tif_202009/' + out_image_base,\n",
    "    region = regionInfo,\n",
    "    # scale = 30,\n",
    "    scale = 10,\n",
    "    # fileFormat = 'TFRecord', # 默认为tif格式\n",
    "    maxPixels = 1e10,\n",
    "    # formatOptions = {\n",
    "    #   'patchDimensions': KERNEL_SHAPE,\n",
    "    #   # 'kernelSize': kernel_buffer,\n",
    "    #   'compressed': True,\n",
    "    #   'maxFileSize': 104857600\n",
    "    # }\n",
    "  )\n",
    "\n",
    "  task.start()\n",
    "\n",
    "# 由于上传时需要传递参数，参数要通过.getInfo()方法来获得具体的值，而使用.map()方法批量上传时不能使用.getInfo()方法，这里使用for循环上传数据\n",
    "for index, (key, value) in enumerate(validImageDict.items()):\n",
    "  out_image_base = value\n",
    "  image = ee.Image(imageAddCloudMaskList.get(index))\n",
    "  exportImageToCloudStorage(out_image_base, image)\n",
    "\n",
    "  # print(index, key, value)\n",
    "  # 0 2020-09-01 20200901T025549_20200901T030025_T49QHF\n",
    "  # 1 2020-09-06 20200906T025551_20200906T031003_T49QHF\n",
    "  # 2 2020-09-11 20200911T025549_20200911T030838_T49QHF\n",
    "  # 3 2020-09-16 20200916T025551_20200916T030959_T49QHF\n",
    "  # 4 2020-09-21 20200921T025549_20200921T030950_T49QHF\n",
    "  # 5 2020-09-26 20200926T025551_20200926T030132_T49QHF\n",
    "\n"
   ],
   "metadata": {
    "colab": {
     "base_uri": "https://localhost:8080/",
     "height": 17
    },
    "id": "ZMEOqFguYeQV",
    "outputId": "32a52691-a341-47d6-a656-bdb1b4e71979"
   },
   "execution_count": 13,
   "outputs": [
    {
     "output_type": "display_data",
     "data": {
      "text/plain": [
       "<IPython.core.display.HTML object>"
      ],
      "text/html": [
       "\n",
       "            <style>\n",
       "                .geemap-dark {\n",
       "                    --jp-widgets-color: white;\n",
       "                    --jp-widgets-label-color: white;\n",
       "                    --jp-ui-font-color1: white;\n",
       "                    --jp-layout-color2: #454545;\n",
       "                    background-color: #383838;\n",
       "                }\n",
       "                    \n",
       "                .geemap-dark .jupyter-button {\n",
       "                    --jp-layout-color3: #383838;\n",
       "                }\n",
       "                \n",
       "                .geemap-colab {\n",
       "                    background-color: var(--colab-primary-surface-color, white);\n",
       "                }\n",
       "                    \n",
       "                .geemap-colab .jupyter-button {\n",
       "                    --jp-layout-color3: var(--colab-primary-surface-color, white);\n",
       "                }\n",
       "            </style>\n",
       "            "
      ]
     },
     "metadata": {}
    }
   ]
  },
  {
   "cell_type": "markdown",
   "source": [
    "*5.* 获取时间序列数据集"
   ],
   "metadata": {
    "id": "LYnsGebwzeb7"
   }
  },
  {
   "cell_type": "code",
   "source": [
    "!gcloud auth login"
   ],
   "metadata": {
    "colab": {
     "base_uri": "https://localhost:8080/",
     "height": 198
    },
    "id": "e02DP7jxOTaT",
    "outputId": "66600a68-1650-49c0-a16b-35f545443fd1"
   },
   "execution_count": 14,
   "outputs": [
    {
     "output_type": "display_data",
     "data": {
      "text/plain": [
       "<IPython.core.display.HTML object>"
      ],
      "text/html": [
       "\n",
       "            <style>\n",
       "                .geemap-dark {\n",
       "                    --jp-widgets-color: white;\n",
       "                    --jp-widgets-label-color: white;\n",
       "                    --jp-ui-font-color1: white;\n",
       "                    --jp-layout-color2: #454545;\n",
       "                    background-color: #383838;\n",
       "                }\n",
       "                    \n",
       "                .geemap-dark .jupyter-button {\n",
       "                    --jp-layout-color3: #383838;\n",
       "                }\n",
       "                \n",
       "                .geemap-colab {\n",
       "                    background-color: var(--colab-primary-surface-color, white);\n",
       "                }\n",
       "                    \n",
       "                .geemap-colab .jupyter-button {\n",
       "                    --jp-layout-color3: var(--colab-primary-surface-color, white);\n",
       "                }\n",
       "            </style>\n",
       "            "
      ]
     },
     "metadata": {}
    },
    {
     "output_type": "stream",
     "name": "stdout",
     "text": [
      "Go to the following link in your browser:\n",
      "\n",
      "    https://accounts.google.com/o/oauth2/auth?response_type=code&client_id=32555940559.apps.googleusercontent.com&redirect_uri=https%3A%2F%2Fsdk.cloud.google.com%2Fauthcode.html&scope=openid+https%3A%2F%2Fwww.googleapis.com%2Fauth%2Fuserinfo.email+https%3A%2F%2Fwww.googleapis.com%2Fauth%2Fcloud-platform+https%3A%2F%2Fwww.googleapis.com%2Fauth%2Fappengine.admin+https%3A%2F%2Fwww.googleapis.com%2Fauth%2Fsqlservice.login+https%3A%2F%2Fwww.googleapis.com%2Fauth%2Fcompute+https%3A%2F%2Fwww.googleapis.com%2Fauth%2Faccounts.reauth&state=olYh0qLgqsmculXf1u8V721Pedn43r&prompt=consent&access_type=offline&code_challenge=otMkt4qCKnjwtfEUDbrBJyoig81UP8Ft4eumyf8Mw7A&code_challenge_method=S256\n",
      "\n",
      "Enter authorization code: 4/0AfJohXkPRzAtKltxH54JCJfgvapj7wnwYjm8VgnoKbexZXh6fpjIGqc__FirOQq5M2SltA\n",
      "\n",
      "You are now logged in as [2200271008@email.szu.edu.cn].\n",
      "Your current project is [None].  You can change this setting by running:\n",
      "  $ gcloud config set project PROJECT_ID\n"
     ]
    }
   ]
  },
  {
   "cell_type": "code",
   "execution_count": 15,
   "metadata": {
    "id": "YqqGmUorZ2-k",
    "colab": {
     "base_uri": "https://localhost:8080/",
     "height": 17
    },
    "outputId": "1eb05c1b-df5b-48c9-d0d5-0637869356be"
   },
   "outputs": [
    {
     "output_type": "display_data",
     "data": {
      "text/plain": [
       "<IPython.core.display.HTML object>"
      ],
      "text/html": [
       "\n",
       "            <style>\n",
       "                .geemap-dark {\n",
       "                    --jp-widgets-color: white;\n",
       "                    --jp-widgets-label-color: white;\n",
       "                    --jp-ui-font-color1: white;\n",
       "                    --jp-layout-color2: #454545;\n",
       "                    background-color: #383838;\n",
       "                }\n",
       "                    \n",
       "                .geemap-dark .jupyter-button {\n",
       "                    --jp-layout-color3: #383838;\n",
       "                }\n",
       "                \n",
       "                .geemap-colab {\n",
       "                    background-color: var(--colab-primary-surface-color, white);\n",
       "                }\n",
       "                    \n",
       "                .geemap-colab .jupyter-button {\n",
       "                    --jp-layout-color3: var(--colab-primary-surface-color, white);\n",
       "                }\n",
       "            </style>\n",
       "            "
      ]
     },
     "metadata": {}
    }
   ],
   "source": [
    "from google.colab import auth\n",
    "auth.authenticate_user()"
   ]
  },
  {
   "cell_type": "code",
   "source": [
    "# # KERNEL_SHAPE = [256, 256]\n",
    "# # kernel_buffer = [64, 64]\n",
    "# BANDS = ['B2','B3','B4','B8','cloud_mask']\n",
    "\n",
    "# # 1.获取TFRecoder数据和json文件\n",
    "# filesList1 = !gsutil ls 'gs://u-tilise/test'\n",
    "# filesList1 = !gsutil ls 'gs://'{BUCKET}'/'{FOLDER}\n",
    "# exportFilesList1 = [s for s in filesList1 if '20200901' in s]\n",
    "# imageFilesList1 = []\n",
    "# jsonFile1 = None\n",
    "# for f in exportFilesList1:\n",
    "#   if f.endswith('.tfrecord.gz'):\n",
    "#     imageFilesList1.append(f)\n",
    "#   elif f.endswith('.json'):\n",
    "#     jsonFile1 = f\n",
    "\n",
    "# # Make sure the files are in the right order.\n",
    "# imageFilesList1.sort()\n",
    "\n",
    "# from pprint import pprint\n",
    "# pprint(imageFilesList1)\n",
    "# print(jsonFile1)\n",
    "\n",
    "# import json\n",
    "# # Load the contents of the mixer file to a JSON object.\n",
    "# # TODO:\n",
    "# jsonText1 = !gsutil cat {jsonFile1}\n",
    "# # 读取并打印JSON文件内容\n",
    "# # with open(json_file_path, 'r') as json_file:\n",
    "# # with open(user_folder+'/fcnn-demo/prediction/'+jsonFile, 'r') as json_file:\n",
    "# # with open(jsonFile, 'r') as json_file:\n",
    "# #     jsonText = json_file.read()\n",
    "# #     print(jsonText)\n",
    "# # Get a single string w/ newlines from the IPython.utils.text.SList\n",
    "# mixer1 = json.loads(jsonText1.nlstr)\n",
    "# # mixer = json.loads(jsonText)\n",
    "# pprint(mixer1)\n",
    "# patches = mixer1['totalPatches']"
   ],
   "metadata": {
    "id": "FStb2C3kZI9H"
   },
   "execution_count": null,
   "outputs": []
  },
  {
   "cell_type": "code",
   "source": [
    "# !pip install rasterio\n",
    "# import rasterio\n",
    "\n",
    "from datetime import datetime"
   ],
   "metadata": {
    "id": "EZZj2qimXYiU",
    "colab": {
     "base_uri": "https://localhost:8080/",
     "height": 17
    },
    "outputId": "3f9e4de6-fdea-4440-b1cf-8b09eca12929"
   },
   "execution_count": 16,
   "outputs": [
    {
     "output_type": "display_data",
     "data": {
      "text/plain": [
       "<IPython.core.display.HTML object>"
      ],
      "text/html": [
       "\n",
       "            <style>\n",
       "                .geemap-dark {\n",
       "                    --jp-widgets-color: white;\n",
       "                    --jp-widgets-label-color: white;\n",
       "                    --jp-ui-font-color1: white;\n",
       "                    --jp-layout-color2: #454545;\n",
       "                    background-color: #383838;\n",
       "                }\n",
       "                    \n",
       "                .geemap-dark .jupyter-button {\n",
       "                    --jp-layout-color3: #383838;\n",
       "                }\n",
       "                \n",
       "                .geemap-colab {\n",
       "                    background-color: var(--colab-primary-surface-color, white);\n",
       "                }\n",
       "                    \n",
       "                .geemap-colab .jupyter-button {\n",
       "                    --jp-layout-color3: var(--colab-primary-surface-color, white);\n",
       "                }\n",
       "            </style>\n",
       "            "
      ]
     },
     "metadata": {}
    }
   ]
  },
  {
   "cell_type": "code",
   "source": [
    "# 获取tif文件的数据，构建时间序列data_torch_tensor\n",
    "filesList = !gsutil ls 'gs://'{BUCKET}'/'{FOLDER}'/shenzhen_tif_202009'\n",
    "exportFilesList = [s for s in filesList if '202009' in s]\n",
    "exportFilesList.sort()\n",
    "imageFilesList = []\n",
    "imageNumpyList = []\n",
    "metadataDict = None\n",
    "for f in exportFilesList:\n",
    "  if f.endswith('.tif'):\n",
    "    imageFilesList.append(f)\n",
    "    # 打开 TIFF 文件\n",
    "    with rasterio.open(f, 'r') as src:\n",
    "      # 读取 TIFF 文件中的数据，并添加到 imageNumpyList 中\n",
    "      tiff_data = src.read()\n",
    "      imageNumpyList.append(tiff_data)\n",
    "\n",
    "      # 获取元数据信息，每个tif的metadata都是一样的，只记录一个就行了\n",
    "      if metadataDict is None:\n",
    "        metadataDict = src.meta\n",
    "\n",
    "      # # 打印数据维度和元数据\n",
    "      # print(\"Data Type:\", type(tiff_data)) # Data Type: <class 'numpy.ndarray'>\n",
    "      # print(\"Data Shape:\", tiff_data.shape) # Data Shape: (17, 1076, 1102)\n",
    "      # # 每个tif的metadata都是一样的\n",
    "      # print(\"Metadata Type:\", type(metadata)) # Metadata Type: <class 'dict'>\n",
    "      # print(\"Metadata:\", metadata) # Metadata: {'driver': 'GTiff', 'dtype': 'int16', 'nodata': None, 'width': 1102, 'height': 1076, 'count': 17, 'crs': CRS.from_epsg(32649), 'transform': Affine(10.0, 0.0, 801680.0, 0.0, -10.0, 2512970.0)}\n",
    "\n",
    "# # Make sure the files are in the right order.\n",
    "imageFilesList.sort()\n",
    "\n",
    "from pprint import pprint\n",
    "pprint(imageFilesList)\n",
    "\n",
    "data_np = np.stack(imageNumpyList, axis=0)\n",
    "# print(data_np.shape) # (6, 17, 1076, 1102)\n",
    "# print(type(image_np_data)) # <class 'numpy.ndarray'>\n",
    "# print(len(imageNumpyList)) # 6\n",
    "\n",
    "# 将numpy.array转为torch.tensor，并构建成(B,T,C,H,W)的形式\n",
    "data_torch_tensor = torch.from_numpy(data_np).unsqueeze(0)\n",
    "# print(type(data_torch_tensor)) # <class 'torch.Tensor'>\n",
    "# print(data_torch_tensor.shape) # torch.Size([1, 6, 17, 1076, 1102])\n",
    "# print(data_torch_tensor.dtype) # torch.int16\n",
    "\n",
    "# 将数据缩小为0到1之间，先除以10000，再将大于1的部分设为1，小于0的部分设为0\n",
    "data_torch_tensor = torch.clamp(data_torch_tensor / 10000.0, min=0, max=1)\n",
    "print(data_torch_tensor.min(), data_torch_tensor.max()) # tensor(0.) tensor(1.)"
   ],
   "metadata": {
    "id": "kGXeaiEvRNnQ"
   },
   "execution_count": null,
   "outputs": []
  },
  {
   "cell_type": "code",
   "source": [
    "# 保存data_np为npy文件，以后不用再请求 Cloud Storage\n",
    "np.save('/content/drive/MyDrive/U-TILISE/shenzhen_tif_202009.npy',data_np)"
   ],
   "metadata": {
    "id": "o8_83GtAkgxU"
   },
   "execution_count": null,
   "outputs": []
  },
  {
   "cell_type": "code",
   "source": [
    "# 读取npy文件，得到data_np数据\n",
    "data_np = np.load('/content/drive/MyDrive/U-TILISE/shenzhen_tif_202009.npy')\n",
    "print(data_np.shape)\n",
    "\n",
    "data_torch_tensor = torch.from_numpy(data_np).unsqueeze(0)\n",
    "data_torch_tensor = torch.clamp(data_torch_tensor / 10000.0, min=0, max=1)\n",
    "print(data_torch_tensor.shape)"
   ],
   "metadata": {
    "colab": {
     "base_uri": "https://localhost:8080/",
     "height": 53
    },
    "id": "eWj5q4JnCFEU",
    "outputId": "8ba2ee47-4c77-4139-c4e5-58564243a293"
   },
   "execution_count": 17,
   "outputs": [
    {
     "output_type": "display_data",
     "data": {
      "text/plain": [
       "<IPython.core.display.HTML object>"
      ],
      "text/html": [
       "\n",
       "            <style>\n",
       "                .geemap-dark {\n",
       "                    --jp-widgets-color: white;\n",
       "                    --jp-widgets-label-color: white;\n",
       "                    --jp-ui-font-color1: white;\n",
       "                    --jp-layout-color2: #454545;\n",
       "                    background-color: #383838;\n",
       "                }\n",
       "                    \n",
       "                .geemap-dark .jupyter-button {\n",
       "                    --jp-layout-color3: #383838;\n",
       "                }\n",
       "                \n",
       "                .geemap-colab {\n",
       "                    background-color: var(--colab-primary-surface-color, white);\n",
       "                }\n",
       "                    \n",
       "                .geemap-colab .jupyter-button {\n",
       "                    --jp-layout-color3: var(--colab-primary-surface-color, white);\n",
       "                }\n",
       "            </style>\n",
       "            "
      ]
     },
     "metadata": {}
    },
    {
     "output_type": "stream",
     "name": "stdout",
     "text": [
      "(6, 17, 1076, 1102)\n",
      "torch.Size([1, 6, 17, 1076, 1102])\n"
     ]
    }
   ]
  },
  {
   "cell_type": "markdown",
   "source": [
    "*6.* 构建 batch 字典的相关参数，以便在模型中使用"
   ],
   "metadata": {
    "id": "QfIbDhqojTCM"
   }
  },
  {
   "cell_type": "markdown",
   "source": [
    "需要构建：\n",
    "\n",
    "1. x：时间序列数据，4 个通道\n",
    "2. y：与 x 对应的 GT，没有则为 x\n",
    "3. position_days：时间序列图像中每张图像是当年的第几天\n",
    "4. days：时间序列图像中每张图像与第一张图像相差的天数\n",
    "5. cloud_mask：与 x 对应的云掩膜，1 个通道\n",
    "6. masks：与 cloud_mask 一样\n",
    "7. masks_valid_obs：表示时间序列中的图像是否可用，0为不可用，1为可用\n",
    "\n",
    "其他参数暂时不需要构建先。\n",
    "\n"
   ],
   "metadata": {
    "id": "aSxMYs6aET3y"
   }
  },
  {
   "cell_type": "code",
   "source": [
    "# x\n",
    "data_bgr = data_torch_tensor[:, :, 1:4, :, :]\n",
    "data_nir = data_torch_tensor[:, :, 7, :, :].unsqueeze(2)\n",
    "x = torch.cat([data_bgr,data_nir],dim=2)\n",
    "print(data_bgr.shape, data_nir.shape, x.shape) # torch.Size([1, 6, 3, 1076, 1102]) torch.Size([1, 6, 1, 1076, 1102]) torch.Size([1, 6, 4, 1076, 1102])\n",
    "\n",
    "\n",
    "# position_days\n",
    "dateList = list(validImageDict.keys())\n",
    "print(dateList) # ['2020-09-01', '2020-09-06', '2020-09-11', '2020-09-16', '2020-09-21', '2020-09-26']\n",
    "\n",
    "dates = [float(datetime.strptime(str_date, \"%Y-%m-%d\").timetuple().tm_yday) for str_date in dateList]\n",
    "position_days = torch.tensor(np.array(dates)).unsqueeze(0)\n",
    "# print(position_days) # tensor([[245., 250., 255., 260., 265., 270.]], dtype=torch.float64)\n",
    "\n",
    "\n",
    "# days\n",
    "days = [datetime.strptime(str_date, \"%Y-%m-%d\") for str_date in dateList] # 获取datetime格式的时间，以便进行减法运算\n",
    "days = [day - days[0] for day in days] # 获得时间间隔\n",
    "days = [td.days + td.seconds / (24 * 3600) for td in days] # 将时间间隔转为float\n",
    "# print(days) # [0.0, 5.0, 10.0, 15.0, 20.0, 25.0]\n",
    "\n",
    "days = torch.tensor(np.array(days)).unsqueeze(0) # 将列表转化为torch.tensor,并构建成(B,T)形式\n",
    "# print(days) # tensor([[ 0.,  5., 10., 15., 20., 25.]], dtype=torch.float64)\n",
    "\n",
    "\n",
    "# cloud_mask、maks、maks_valid_obs\n",
    "cloud_mask = data_torch_tensor[:, :, -1, :, :].unsqueeze(2)\n",
    "maks = cloud_mask\n",
    "maks_valid_obs = torch.ones(cloud_mask.shape)\n",
    "print(cloud_mask.shape, maks_valid_obs.shape) # torch.Size([1, 6, 1, 1076, 1102]) torch.Size([1, 6, 1, 1076, 1102])"
   ],
   "metadata": {
    "colab": {
     "base_uri": "https://localhost:8080/",
     "height": 71
    },
    "id": "TJTUEw9zehwl",
    "outputId": "a415c496-2efa-477c-d07f-27cda269f4ef"
   },
   "execution_count": 18,
   "outputs": [
    {
     "output_type": "display_data",
     "data": {
      "text/plain": [
       "<IPython.core.display.HTML object>"
      ],
      "text/html": [
       "\n",
       "            <style>\n",
       "                .geemap-dark {\n",
       "                    --jp-widgets-color: white;\n",
       "                    --jp-widgets-label-color: white;\n",
       "                    --jp-ui-font-color1: white;\n",
       "                    --jp-layout-color2: #454545;\n",
       "                    background-color: #383838;\n",
       "                }\n",
       "                    \n",
       "                .geemap-dark .jupyter-button {\n",
       "                    --jp-layout-color3: #383838;\n",
       "                }\n",
       "                \n",
       "                .geemap-colab {\n",
       "                    background-color: var(--colab-primary-surface-color, white);\n",
       "                }\n",
       "                    \n",
       "                .geemap-colab .jupyter-button {\n",
       "                    --jp-layout-color3: var(--colab-primary-surface-color, white);\n",
       "                }\n",
       "            </style>\n",
       "            "
      ]
     },
     "metadata": {}
    },
    {
     "output_type": "stream",
     "name": "stdout",
     "text": [
      "torch.Size([1, 6, 3, 1076, 1102]) torch.Size([1, 6, 1, 1076, 1102]) torch.Size([1, 6, 4, 1076, 1102])\n",
      "['2020-09-01', '2020-09-06', '2020-09-11', '2020-09-16', '2020-09-21', '2020-09-26']\n",
      "torch.Size([1, 6, 1, 1076, 1102]) torch.Size([1, 6, 1, 1076, 1102])\n"
     ]
    }
   ]
  },
  {
   "cell_type": "code",
   "source": [
    "my_batch ={}\n",
    "my_batch['x'] = x\n",
    "my_batch['y'] = x\n",
    "my_batch['position_days'] = position_days\n",
    "my_batch['days'] = days\n",
    "my_batch['cloud_mask'] = cloud_mask\n",
    "my_batch['maks'] = maks\n",
    "my_batch['maks_valid_obs'] = maks_valid_obs\n",
    "print(my_batch)"
   ],
   "metadata": {
    "id": "pEIZCW6q-Zvy"
   },
   "execution_count": null,
   "outputs": []
  },
  {
   "cell_type": "code",
   "source": [
    "# 保存构建好的my_batch\n",
    "np.save('/content/drive/MyDrive/U-TILISE/my_batch.npy', my_batch)"
   ],
   "metadata": {
    "colab": {
     "base_uri": "https://localhost:8080/",
     "height": 17
    },
    "id": "GUIzDNURMG2w",
    "outputId": "bb4bb52a-301a-4e76-87b1-3bc5be53f7ba"
   },
   "execution_count": 25,
   "outputs": [
    {
     "output_type": "display_data",
     "data": {
      "text/plain": [
       "<IPython.core.display.HTML object>"
      ],
      "text/html": [
       "\n",
       "            <style>\n",
       "                .geemap-dark {\n",
       "                    --jp-widgets-color: white;\n",
       "                    --jp-widgets-label-color: white;\n",
       "                    --jp-ui-font-color1: white;\n",
       "                    --jp-layout-color2: #454545;\n",
       "                    background-color: #383838;\n",
       "                }\n",
       "                    \n",
       "                .geemap-dark .jupyter-button {\n",
       "                    --jp-layout-color3: #383838;\n",
       "                }\n",
       "                \n",
       "                .geemap-colab {\n",
       "                    background-color: var(--colab-primary-surface-color, white);\n",
       "                }\n",
       "                    \n",
       "                .geemap-colab .jupyter-button {\n",
       "                    --jp-layout-color3: var(--colab-primary-surface-color, white);\n",
       "                }\n",
       "            </style>\n",
       "            "
      ]
     },
     "metadata": {}
    }
   ]
  },
  {
   "cell_type": "markdown",
   "source": [
    "*7.* 使用模型做预测"
   ],
   "metadata": {
    "id": "uE5ROM0lQH60"
   }
  },
  {
   "cell_type": "code",
   "source": [
    "# 初始化模型u-tilise\n",
    "config_file_test = 'configs/config_earthnet2021_test.yaml'\n",
    "dataloader = get_dataloader_testdata(config_file_train, config_file_test)\n",
    "utilise = Imputation(config_file_train, method='utilise', checkpoint=checkpoint)\n",
    "\n",
    "# 获取原始batch\n",
    "batch = get_sample(dataloader, sample_index=294)\n",
    "\n",
    "# 将batch中的部分信息用my_batch中的替换\n",
    "batch['x'] = x.to(torch.float)\n",
    "batch['y'] = x.to(torch.float)\n",
    "batch['position_days'] = position_days.to(torch.float)\n",
    "batch['days'] = days.to(torch.float)\n",
    "batch['cloud_mask'] = cloud_mask.to(torch.float)\n",
    "batch['maks'] = maks.to(torch.float)\n",
    "batch['maks_valid_obs'] = maks_valid_obs.to(torch.float)\n"
   ],
   "metadata": {
    "colab": {
     "base_uri": "https://localhost:8080/",
     "height": 253
    },
    "id": "sjAJhWjaQOF7",
    "outputId": "e9a8b050-01a6-4a4c-ab2b-a1396ff0453b"
   },
   "execution_count": 19,
   "outputs": [
    {
     "output_type": "display_data",
     "data": {
      "text/plain": [
       "<IPython.core.display.HTML object>"
      ],
      "text/html": [
       "\n",
       "            <style>\n",
       "                .geemap-dark {\n",
       "                    --jp-widgets-color: white;\n",
       "                    --jp-widgets-label-color: white;\n",
       "                    --jp-ui-font-color1: white;\n",
       "                    --jp-layout-color2: #454545;\n",
       "                    background-color: #383838;\n",
       "                }\n",
       "                    \n",
       "                .geemap-dark .jupyter-button {\n",
       "                    --jp-layout-color3: #383838;\n",
       "                }\n",
       "                \n",
       "                .geemap-colab {\n",
       "                    background-color: var(--colab-primary-surface-color, white);\n",
       "                }\n",
       "                    \n",
       "                .geemap-colab .jupyter-button {\n",
       "                    --jp-layout-color3: var(--colab-primary-surface-color, white);\n",
       "                }\n",
       "            </style>\n",
       "            "
      ]
     },
     "metadata": {}
    },
    {
     "output_type": "error",
     "ename": "NameError",
     "evalue": "ignored",
     "traceback": [
      "\u001B[0;31m---------------------------------------------------------------------------\u001B[0m",
      "\u001B[0;31mNameError\u001B[0m                                 Traceback (most recent call last)",
      "\u001B[0;32m<ipython-input-19-3a7604d2dd80>\u001B[0m in \u001B[0;36m<cell line: 3>\u001B[0;34m()\u001B[0m\n\u001B[1;32m      1\u001B[0m \u001B[0;31m# 初始化模型u-tilise\u001B[0m\u001B[0;34m\u001B[0m\u001B[0;34m\u001B[0m\u001B[0m\n\u001B[1;32m      2\u001B[0m \u001B[0mconfig_file_test\u001B[0m \u001B[0;34m=\u001B[0m \u001B[0;34m'configs/config_earthnet2021_test.yaml'\u001B[0m\u001B[0;34m\u001B[0m\u001B[0;34m\u001B[0m\u001B[0m\n\u001B[0;32m----> 3\u001B[0;31m \u001B[0mdataloader\u001B[0m \u001B[0;34m=\u001B[0m \u001B[0mget_dataloader_testdata\u001B[0m\u001B[0;34m(\u001B[0m\u001B[0mconfig_file_train\u001B[0m\u001B[0;34m,\u001B[0m \u001B[0mconfig_file_test\u001B[0m\u001B[0;34m)\u001B[0m\u001B[0;34m\u001B[0m\u001B[0;34m\u001B[0m\u001B[0m\n\u001B[0m\u001B[1;32m      4\u001B[0m \u001B[0mutilise\u001B[0m \u001B[0;34m=\u001B[0m \u001B[0mImputation\u001B[0m\u001B[0;34m(\u001B[0m\u001B[0mconfig_file_train\u001B[0m\u001B[0;34m,\u001B[0m \u001B[0mmethod\u001B[0m\u001B[0;34m=\u001B[0m\u001B[0;34m'utilise'\u001B[0m\u001B[0;34m,\u001B[0m \u001B[0mcheckpoint\u001B[0m\u001B[0;34m=\u001B[0m\u001B[0mcheckpoint\u001B[0m\u001B[0;34m)\u001B[0m\u001B[0;34m\u001B[0m\u001B[0;34m\u001B[0m\u001B[0m\n\u001B[1;32m      5\u001B[0m \u001B[0;34m\u001B[0m\u001B[0m\n",
      "\u001B[0;31mNameError\u001B[0m: name 'get_dataloader_testdata' is not defined"
     ]
    }
   ]
  },
  {
   "cell_type": "code",
   "source": [
    "# 使用模型预测\n",
    "_, y_pred = utilise.impute_sample(batch)"
   ],
   "metadata": {
    "id": "1FiTy7iCLEw2"
   },
   "execution_count": null,
   "outputs": []
  },
  {
   "cell_type": "markdown",
   "source": [
    "# ee.Image.toArray画图测试"
   ],
   "metadata": {
    "id": "UNR0fakIDpRi"
   }
  },
  {
   "cell_type": "code",
   "source": [
    "import geemap\n",
    "# A function to print arrays for a selected pixel in the following examples.\n",
    "def samp_arr_img(arr_img):\n",
    "  point = ee.Geometry.Point([-121, 42])\n",
    "  return arr_img.sample(point, 500).first().get('array')\n",
    "\n",
    "\n",
    "# A 3-band image of constants.\n",
    "# img = ee.Image([1, 2, 3])\n",
    "img = collection.first().select(['B4','B3','B2'])\n",
    "display('3-band image', img)\n",
    "\n",
    "# Convert the 3-band image to an array image. The resulting array image has a\n",
    "# single band named \"array\". The \"array\" band stores the per-pixel band values\n",
    "# from the input ee.Image as a 1D array.\n",
    "array_img_1_d = img.toArray()\n",
    "display('1D array image', array_img_1_d)\n",
    "\n",
    "# Sample a single pixel to see its 1D array using the `samp_arr_img` function\n",
    "# defined above. Similar arrays are present for all pixels in a given array\n",
    "# image looking at just one helps conceptualize the structure.\n",
    "display('1D array image (pixel)', samp_arr_img(array_img_1_d))\n",
    "# [0, 1, 2]\n",
    "\n",
    "# Array images can be displayed to the Code Editor map and queried with the\n",
    "# inspector tool. Per-pixel, the first element in the array is shown.\n",
    "# Single-band grayscale is used to represent the data. Style parameters `min`\n",
    "# and `max` are valid. Styling the layer with the Code Editor's layer\n",
    "# visualization tool is invalid.\n",
    "m = geemap.Map()\n",
    "m.add_layer(array_img_1_d, {'min': 0, 'max': 3000}, 'Image array')\n",
    "# display(m)\n",
    "\n",
    "# Create a 2D array image by concatenating the values in a 1D array image\n",
    "# along the 1-axis using `toArray(1)`. For a 3D array, apply `toArray(2)` to\n",
    "# the result.\n",
    "array_img_2_d = array_img_1_d.toArray(1)\n",
    "display('2D array image (pixel)', samp_arr_img(array_img_2_d))\n",
    "# [[0],\n",
    "#  [1],\n",
    "#  [2]]\n",
    "m.add_layer(array_img_2_d, {'min': 0, 'max': 3000}, 'Image array2')\n",
    "display(m)"
   ],
   "metadata": {
    "colab": {
     "base_uri": "https://localhost:8080/",
     "height": 828,
     "referenced_widgets": [
      "aea08d41cacd4b1d9e7cef00374b8d71",
      "fdc972dd1e0849c2bf348b803120f211",
      "9111b5d325724199af03e828875a89cf",
      "b62b831863be43b29680c5fbf7ba4855",
      "0b188f2ef5db403a996455b8b4e935dd",
      "e0b4d37041fa4610a9b829494140558c",
      "b4636a5bfb214f0b8b593a01a331ef3e",
      "21650799ada84ca594cdfa2e48def052",
      "3eb37a4e4e084fff82a28e211dede80f",
      "c0551f7717bd499eab45ca15a9e19401",
      "b8679cb2b9f04ca3a50ae4ca94486692",
      "1fff0abee7074af59c2581b9a8eda6db",
      "baa5d414b54a46c1998d1966c76e2619",
      "2a1996313a9e46bb889813046352fa5a",
      "29976d3647f24c919479048086aff1da",
      "300866e1ea684494b5693e93ad5e0a2b",
      "3a21d0645f8d46e7891fd8038f797fe7",
      "35660d90cb7743e1a8c476b29e266ff2",
      "1008aef2d86446a7892d2e9e20c1ecc1",
      "aac0e7032f854bb291566d4947754b16",
      "9a46db3f5afe46ed98e3024779279caf",
      "b2848e05c567434e985d073490ecf9ec",
      "c9dd1a0b3fad49268fd14710c7b46362",
      "92fe8788e5724ac797adb3d1dfddb6b5",
      "c00d7244bb774c96a9e78a511a6bdad8",
      "1120401042284d5486f9a5ee41a1c38e"
     ]
    },
    "id": "t5vFVOeDAQj8",
    "outputId": "11bf2290-2ab7-4893-c823-14dea8340f2f"
   },
   "execution_count": null,
   "outputs": [
    {
     "output_type": "display_data",
     "data": {
      "text/plain": [
       "<IPython.core.display.HTML object>"
      ],
      "text/html": [
       "\n",
       "            <style>\n",
       "                .geemap-dark {\n",
       "                    --jp-widgets-color: white;\n",
       "                    --jp-widgets-label-color: white;\n",
       "                    --jp-ui-font-color1: white;\n",
       "                    --jp-layout-color2: #454545;\n",
       "                    background-color: #383838;\n",
       "                }\n",
       "                    \n",
       "                .geemap-dark .jupyter-button {\n",
       "                    --jp-layout-color3: #383838;\n",
       "                }\n",
       "                \n",
       "                .geemap-colab {\n",
       "                    background-color: var(--colab-primary-surface-color, white);\n",
       "                }\n",
       "                    \n",
       "                .geemap-colab .jupyter-button {\n",
       "                    --jp-layout-color3: var(--colab-primary-surface-color, white);\n",
       "                }\n",
       "            </style>\n",
       "            "
      ]
     },
     "metadata": {}
    },
    {
     "output_type": "display_data",
     "data": {
      "text/plain": [
       "'3-band image'"
      ],
      "application/vnd.google.colaboratory.intrinsic+json": {
       "type": "string"
      }
     },
     "metadata": {}
    },
    {
     "output_type": "display_data",
     "data": {
      "text/plain": [
       "<ee.image.Image at 0x7a46c23fb0a0>"
      ],
      "text/html": [
       "<div><style>:root {\n",
       "  --font-color-primary: var(--jp-content-font-color0, rgba(0, 0, 0, 1));\n",
       "  --font-color-secondary: var(--jp-content-font-color2, rgba(0, 0, 0, 0.6));\n",
       "  --font-color-accent: rgba(123, 31, 162, 1);\n",
       "  --border-color: var(--jp-border-color2, #e0e0e0);\n",
       "  --background-color: var(--jp-layout-color0, white);\n",
       "  --background-color-row-even: var(--jp-layout-color1, white);\n",
       "  --background-color-row-odd: var(--jp-layout-color2, #eeeeee);\n",
       "}\n",
       "\n",
       "html[theme=\"dark\"],\n",
       "body[data-theme=\"dark\"],\n",
       "body.vscode-dark {\n",
       "  --font-color-primary: rgba(255, 255, 255, 1);\n",
       "  --font-color-secondary: rgba(255, 255, 255, 0.6);\n",
       "  --font-color-accent: rgb(173, 132, 190);\n",
       "  --border-color: #2e2e2e;\n",
       "  --background-color: #111111;\n",
       "  --background-color-row-even: #111111;\n",
       "  --background-color-row-odd: #313131;\n",
       "}\n",
       "\n",
       ".ee {\n",
       "  padding: 1em;\n",
       "  line-height: 1.5em;\n",
       "  min-width: 300px;\n",
       "  max-width: 1200px;\n",
       "  overflow-y: scroll;\n",
       "  max-height: 600px;\n",
       "  border: 1px solid var(--border-color);\n",
       "  font-family: monospace;\n",
       "}\n",
       "\n",
       ".ee li {\n",
       "  list-style-type: none;\n",
       "}\n",
       "\n",
       ".ee ul {\n",
       "  padding-left: 1.5em !important;\n",
       "  margin: 0;\n",
       "}\n",
       "\n",
       ".ee > ul {\n",
       "  padding-left: 0 !important;\n",
       "}\n",
       "\n",
       ".ee-open,\n",
       ".ee-shut {\n",
       "  color: var(--font-color-secondary);\n",
       "  cursor: pointer;\n",
       "  margin: 0;\n",
       "}\n",
       "\n",
       ".ee-open:hover,\n",
       ".ee-shut:hover {\n",
       "  color: var(--font-color-primary);\n",
       "}\n",
       "\n",
       ".ee-k {\n",
       "  color: var(--font-color-accent);\n",
       "  margin-right: 6px;\n",
       "}\n",
       "\n",
       ".ee-v {\n",
       "  color: var(--font-color-primary);\n",
       "}\n",
       "\n",
       ".ee-toggle {\n",
       "  display: none;\n",
       "}\n",
       "\n",
       ".ee-shut + ul {\n",
       "  display: none;\n",
       "}\n",
       "\n",
       ".ee-open + ul {\n",
       "  display: block;\n",
       "}\n",
       "\n",
       ".ee-shut::before {\n",
       "  display: inline-block;\n",
       "  content: \"▼\";\n",
       "  margin-right: 6px;\n",
       "  transform: rotate(-90deg);\n",
       "  transition: transform 0.2s;\n",
       "}\n",
       "\n",
       ".ee-open::before {\n",
       "  transform: rotate(0deg);\n",
       "  display: inline-block;\n",
       "  content: \"▼\";\n",
       "  margin-right: 6px;\n",
       "  transition: transform 0.2s;\n",
       "}\n",
       "</style><div class='ee'><ul><li><label class='ee-shut'>Image COPERNICUS/S2/20200901T025549_20200901T030025_T49QGF (3 bands)<input type='checkbox' class='ee-toggle'></label><ul><li><span class='ee-k'>type:</span><span class='ee-v'>Image</span></li><li><span class='ee-k'>id:</span><span class='ee-v'>COPERNICUS/S2/20200901T025549_20200901T030025_T49QGF</span></li><li><span class='ee-k'>version:</span><span class='ee-v'>1599047506551390.0</span></li><li><label class='ee-shut'>bands: List (3 elements)<input type='checkbox' class='ee-toggle'></label><ul><li><label class='ee-shut'>0: \"B4\", unsigned int16, EPSG:32649, 10980x10980 px<input type='checkbox' class='ee-toggle'></label><ul><li><span class='ee-k'>id:</span><span class='ee-v'>B4</span></li><li><span class='ee-k'>crs:</span><span class='ee-v'>EPSG:32649</span></li><li><label class='ee-shut'>crs_transform: [10, 0, 699960, 0, -10, 2600040]<input type='checkbox' class='ee-toggle'></label><ul><li><span class='ee-k'>0:</span><span class='ee-v'>10</span></li><li><span class='ee-k'>1:</span><span class='ee-v'>0</span></li><li><span class='ee-k'>2:</span><span class='ee-v'>699960</span></li><li><span class='ee-k'>3:</span><span class='ee-v'>0</span></li><li><span class='ee-k'>4:</span><span class='ee-v'>-10</span></li><li><span class='ee-k'>5:</span><span class='ee-v'>2600040</span></li></ul></li><li><label class='ee-shut'>data_type: unsigned int16<input type='checkbox' class='ee-toggle'></label><ul><li><span class='ee-k'>type:</span><span class='ee-v'>PixelType</span></li><li><span class='ee-k'>max:</span><span class='ee-v'>65535</span></li><li><span class='ee-k'>min:</span><span class='ee-v'>0</span></li><li><span class='ee-k'>precision:</span><span class='ee-v'>int</span></li></ul></li><li><label class='ee-shut'>dimensions: [10980, 10980]<input type='checkbox' class='ee-toggle'></label><ul><li><span class='ee-k'>0:</span><span class='ee-v'>10980</span></li><li><span class='ee-k'>1:</span><span class='ee-v'>10980</span></li></ul></li></ul></li><li><label class='ee-shut'>1: \"B3\", unsigned int16, EPSG:32649, 10980x10980 px<input type='checkbox' class='ee-toggle'></label><ul><li><span class='ee-k'>id:</span><span class='ee-v'>B3</span></li><li><span class='ee-k'>crs:</span><span class='ee-v'>EPSG:32649</span></li><li><label class='ee-shut'>crs_transform: [10, 0, 699960, 0, -10, 2600040]<input type='checkbox' class='ee-toggle'></label><ul><li><span class='ee-k'>0:</span><span class='ee-v'>10</span></li><li><span class='ee-k'>1:</span><span class='ee-v'>0</span></li><li><span class='ee-k'>2:</span><span class='ee-v'>699960</span></li><li><span class='ee-k'>3:</span><span class='ee-v'>0</span></li><li><span class='ee-k'>4:</span><span class='ee-v'>-10</span></li><li><span class='ee-k'>5:</span><span class='ee-v'>2600040</span></li></ul></li><li><label class='ee-shut'>data_type: unsigned int16<input type='checkbox' class='ee-toggle'></label><ul><li><span class='ee-k'>type:</span><span class='ee-v'>PixelType</span></li><li><span class='ee-k'>max:</span><span class='ee-v'>65535</span></li><li><span class='ee-k'>min:</span><span class='ee-v'>0</span></li><li><span class='ee-k'>precision:</span><span class='ee-v'>int</span></li></ul></li><li><label class='ee-shut'>dimensions: [10980, 10980]<input type='checkbox' class='ee-toggle'></label><ul><li><span class='ee-k'>0:</span><span class='ee-v'>10980</span></li><li><span class='ee-k'>1:</span><span class='ee-v'>10980</span></li></ul></li></ul></li><li><label class='ee-shut'>2: \"B2\", unsigned int16, EPSG:32649, 10980x10980 px<input type='checkbox' class='ee-toggle'></label><ul><li><span class='ee-k'>id:</span><span class='ee-v'>B2</span></li><li><span class='ee-k'>crs:</span><span class='ee-v'>EPSG:32649</span></li><li><label class='ee-shut'>crs_transform: [10, 0, 699960, 0, -10, 2600040]<input type='checkbox' class='ee-toggle'></label><ul><li><span class='ee-k'>0:</span><span class='ee-v'>10</span></li><li><span class='ee-k'>1:</span><span class='ee-v'>0</span></li><li><span class='ee-k'>2:</span><span class='ee-v'>699960</span></li><li><span class='ee-k'>3:</span><span class='ee-v'>0</span></li><li><span class='ee-k'>4:</span><span class='ee-v'>-10</span></li><li><span class='ee-k'>5:</span><span class='ee-v'>2600040</span></li></ul></li><li><label class='ee-shut'>data_type: unsigned int16<input type='checkbox' class='ee-toggle'></label><ul><li><span class='ee-k'>type:</span><span class='ee-v'>PixelType</span></li><li><span class='ee-k'>max:</span><span class='ee-v'>65535</span></li><li><span class='ee-k'>min:</span><span class='ee-v'>0</span></li><li><span class='ee-k'>precision:</span><span class='ee-v'>int</span></li></ul></li><li><label class='ee-shut'>dimensions: [10980, 10980]<input type='checkbox' class='ee-toggle'></label><ul><li><span class='ee-k'>0:</span><span class='ee-v'>10980</span></li><li><span class='ee-k'>1:</span><span class='ee-v'>10980</span></li></ul></li></ul></li></ul></li><li><label class='ee-shut'>properties: Object (66 properties)<input type='checkbox' class='ee-toggle'></label><ul><li><span class='ee-k'>CLOUDY_PIXEL_PERCENTAGE:</span><span class='ee-v'>11.265</span></li><li><span class='ee-k'>CLOUD_COVERAGE_ASSESSMENT:</span><span class='ee-v'>11.265</span></li><li><span class='ee-k'>DATASTRIP_ID:</span><span class='ee-v'>S2B_OPER_MSI_L1C_DS_VGS1_20200901T051841_S20200901T030025_N02.09</span></li><li><span class='ee-k'>DATATAKE_IDENTIFIER:</span><span class='ee-v'>GS2B_20200901T025549_018219_N02.09</span></li><li><span class='ee-k'>DATATAKE_TYPE:</span><span class='ee-v'>INS-NOBS</span></li><li><span class='ee-k'>DEGRADED_MSI_DATA_PERCENTAGE:</span><span class='ee-v'>0</span></li><li><span class='ee-k'>FORMAT_CORRECTNESS:</span><span class='ee-v'>PASSED</span></li><li><span class='ee-k'>GENERAL_QUALITY:</span><span class='ee-v'>PASSED</span></li><li><span class='ee-k'>GENERATION_TIME:</span><span class='ee-v'>1598937521000</span></li><li><span class='ee-k'>GEOMETRIC_QUALITY:</span><span class='ee-v'>PASSED</span></li><li><span class='ee-k'>GRANULE_ID:</span><span class='ee-v'>L1C_T49QGF_A018219_20200901T030025</span></li><li><span class='ee-k'>MEAN_INCIDENCE_AZIMUTH_ANGLE_B1:</span><span class='ee-v'>206.897916647723</span></li><li><span class='ee-k'>MEAN_INCIDENCE_AZIMUTH_ANGLE_B10:</span><span class='ee-v'>209.454999829787</span></li><li><span class='ee-k'>MEAN_INCIDENCE_AZIMUTH_ANGLE_B11:</span><span class='ee-v'>208.10583903071</span></li><li><span class='ee-k'>MEAN_INCIDENCE_AZIMUTH_ANGLE_B12:</span><span class='ee-v'>207.201469017208</span></li><li><span class='ee-k'>MEAN_INCIDENCE_AZIMUTH_ANGLE_B2:</span><span class='ee-v'>213.565983690998</span></li><li><span class='ee-k'>MEAN_INCIDENCE_AZIMUTH_ANGLE_B3:</span><span class='ee-v'>210.788192167274</span></li><li><span class='ee-k'>MEAN_INCIDENCE_AZIMUTH_ANGLE_B4:</span><span class='ee-v'>209.216562039502</span></li><li><span class='ee-k'>MEAN_INCIDENCE_AZIMUTH_ANGLE_B5:</span><span class='ee-v'>208.582270265121</span></li><li><span class='ee-k'>MEAN_INCIDENCE_AZIMUTH_ANGLE_B6:</span><span class='ee-v'>208.074825821756</span></li><li><span class='ee-k'>MEAN_INCIDENCE_AZIMUTH_ANGLE_B7:</span><span class='ee-v'>207.653804530661</span></li><li><span class='ee-k'>MEAN_INCIDENCE_AZIMUTH_ANGLE_B8:</span><span class='ee-v'>212.093234701184</span></li><li><span class='ee-k'>MEAN_INCIDENCE_AZIMUTH_ANGLE_B8A:</span><span class='ee-v'>207.313289947086</span></li><li><span class='ee-k'>MEAN_INCIDENCE_AZIMUTH_ANGLE_B9:</span><span class='ee-v'>206.660895116829</span></li><li><span class='ee-k'>MEAN_INCIDENCE_ZENITH_ANGLE_B1:</span><span class='ee-v'>3.3667457061179</span></li><li><span class='ee-k'>MEAN_INCIDENCE_ZENITH_ANGLE_B10:</span><span class='ee-v'>2.93301084598465</span></li><li><span class='ee-k'>MEAN_INCIDENCE_ZENITH_ANGLE_B11:</span><span class='ee-v'>3.10933590397365</span></li><li><span class='ee-k'>MEAN_INCIDENCE_ZENITH_ANGLE_B12:</span><span class='ee-v'>3.30367625225084</span></li><li><span class='ee-k'>MEAN_INCIDENCE_ZENITH_ANGLE_B2:</span><span class='ee-v'>2.75723554592503</span></li><li><span class='ee-k'>MEAN_INCIDENCE_ZENITH_ANGLE_B3:</span><span class='ee-v'>2.85623491546117</span></li><li><span class='ee-k'>MEAN_INCIDENCE_ZENITH_ANGLE_B4:</span><span class='ee-v'>2.97375454423968</span></li><li><span class='ee-k'>MEAN_INCIDENCE_ZENITH_ANGLE_B5:</span><span class='ee-v'>3.04492855564739</span></li><li><span class='ee-k'>MEAN_INCIDENCE_ZENITH_ANGLE_B6:</span><span class='ee-v'>3.12054043593238</span></li><li><span class='ee-k'>MEAN_INCIDENCE_ZENITH_ANGLE_B7:</span><span class='ee-v'>3.20029243156887</span></li><li><span class='ee-k'>MEAN_INCIDENCE_ZENITH_ANGLE_B8:</span><span class='ee-v'>2.80589884238166</span></li><li><span class='ee-k'>MEAN_INCIDENCE_ZENITH_ANGLE_B8A:</span><span class='ee-v'>3.28362916478619</span></li><li><span class='ee-k'>MEAN_INCIDENCE_ZENITH_ANGLE_B9:</span><span class='ee-v'>3.45921261019749</span></li><li><span class='ee-k'>MEAN_SOLAR_AZIMUTH_ANGLE:</span><span class='ee-v'>126.805529909471</span></li><li><span class='ee-k'>MEAN_SOLAR_ZENITH_ANGLE:</span><span class='ee-v'>23.2252261094928</span></li><li><span class='ee-k'>MGRS_TILE:</span><span class='ee-v'>49QGF</span></li><li><span class='ee-k'>PROCESSING_BASELINE:</span><span class='ee-v'>02.09</span></li><li><span class='ee-k'>PRODUCT_ID:</span><span class='ee-v'>S2B_MSIL1C_20200901T025549_N0209_R032_T49QGF_20200901T051841</span></li><li><span class='ee-k'>RADIOMETRIC_QUALITY:</span><span class='ee-v'>PASSED</span></li><li><span class='ee-k'>REFLECTANCE_CONVERSION_CORRECTION:</span><span class='ee-v'>0.980652136536879</span></li><li><span class='ee-k'>SENSING_ORBIT_DIRECTION:</span><span class='ee-v'>DESCENDING</span></li><li><span class='ee-k'>SENSING_ORBIT_NUMBER:</span><span class='ee-v'>32</span></li><li><span class='ee-k'>SENSOR_QUALITY:</span><span class='ee-v'>PASSED</span></li><li><span class='ee-k'>SOLAR_IRRADIANCE_B1:</span><span class='ee-v'>1874.3</span></li><li><span class='ee-k'>SOLAR_IRRADIANCE_B10:</span><span class='ee-v'>365.41</span></li><li><span class='ee-k'>SOLAR_IRRADIANCE_B11:</span><span class='ee-v'>247.08</span></li><li><span class='ee-k'>SOLAR_IRRADIANCE_B12:</span><span class='ee-v'>87.75</span></li><li><span class='ee-k'>SOLAR_IRRADIANCE_B2:</span><span class='ee-v'>1959.75</span></li><li><span class='ee-k'>SOLAR_IRRADIANCE_B3:</span><span class='ee-v'>1824.93</span></li><li><span class='ee-k'>SOLAR_IRRADIANCE_B4:</span><span class='ee-v'>1512.79</span></li><li><span class='ee-k'>SOLAR_IRRADIANCE_B5:</span><span class='ee-v'>1425.78</span></li><li><span class='ee-k'>SOLAR_IRRADIANCE_B6:</span><span class='ee-v'>1291.13</span></li><li><span class='ee-k'>SOLAR_IRRADIANCE_B7:</span><span class='ee-v'>1175.57</span></li><li><span class='ee-k'>SOLAR_IRRADIANCE_B8:</span><span class='ee-v'>1041.28</span></li><li><span class='ee-k'>SOLAR_IRRADIANCE_B8A:</span><span class='ee-v'>953.93</span></li><li><span class='ee-k'>SOLAR_IRRADIANCE_B9:</span><span class='ee-v'>817.58</span></li><li><span class='ee-k'>SPACECRAFT_NAME:</span><span class='ee-v'>Sentinel-2B</span></li><li><span class='ee-k'>system:asset_size:</span><span class='ee-v'>1389598178</span></li><li><label class='ee-shut'>system:footprint: LinearRing (21 vertices)<input type='checkbox' class='ee-toggle'></label><ul><li><span class='ee-k'>type:</span><span class='ee-v'>LinearRing</span></li><li><label class='ee-shut'>coordinates: List (21 elements)<input type='checkbox' class='ee-toggle'></label><ul><li><label class='ee-shut'>0: [112.95808619639885, 23.498269702702277]<input type='checkbox' class='ee-toggle'></label><ul><li><span class='ee-k'>0:</span><span class='ee-v'>112.95808619639885</span></li><li><span class='ee-k'>1:</span><span class='ee-v'>23.498269702702277</span></li></ul></li><li><label class='ee-shut'>1: [112.9580829239082, 23.498254963961223]<input type='checkbox' class='ee-toggle'></label><ul><li><span class='ee-k'>0:</span><span class='ee-v'>112.9580829239082</span></li><li><span class='ee-k'>1:</span><span class='ee-v'>23.498254963961223</span></li></ul></li><li><label class='ee-shut'>2: [112.95085832436516, 23.002707086948035]<input type='checkbox' class='ee-toggle'></label><ul><li><span class='ee-k'>0:</span><span class='ee-v'>112.95085832436516</span></li><li><span class='ee-k'>1:</span><span class='ee-v'>23.002707086948035</span></li></ul></li><li><label class='ee-shut'>3: [112.94383110670462, 22.507133719484973]<input type='checkbox' class='ee-toggle'></label><ul><li><span class='ee-k'>0:</span><span class='ee-v'>112.94383110670462</span></li><li><span class='ee-k'>1:</span><span class='ee-v'>22.507133719484973</span></li></ul></li><li><label class='ee-shut'>4: [112.94387010454163, 22.50709170808302]<input type='checkbox' class='ee-toggle'></label><ul><li><span class='ee-k'>0:</span><span class='ee-v'>112.94387010454163</span></li><li><span class='ee-k'>1:</span><span class='ee-v'>22.50709170808302</span></li></ul></li><li><label class='ee-shut'>5: [112.94390310271002, 22.507045623167862]<input type='checkbox' class='ee-toggle'></label><ul><li><span class='ee-k'>0:</span><span class='ee-v'>112.94390310271002</span></li><li><span class='ee-k'>1:</span><span class='ee-v'>22.507045623167862</span></li></ul></li><li><label class='ee-shut'>6: [112.94391910182149, 22.507042628021676]<input type='checkbox' class='ee-toggle'></label><ul><li><span class='ee-k'>0:</span><span class='ee-v'>112.94391910182149</span></li><li><span class='ee-k'>1:</span><span class='ee-v'>22.507042628021676</span></li></ul></li><li><label class='ee-shut'>7: [114.0102320095038, 22.490639772249658]<input type='checkbox' class='ee-toggle'></label><ul><li><span class='ee-k'>0:</span><span class='ee-v'>114.0102320095038</span></li><li><span class='ee-k'>1:</span><span class='ee-v'>22.490639772249658</span></li></ul></li><li><label class='ee-shut'>8: [114.01027765391636, 22.490675540506757]<input type='checkbox' class='ee-toggle'></label><ul><li><span class='ee-k'>0:</span><span class='ee-v'>114.01027765391636</span></li><li><span class='ee-k'>1:</span><span class='ee-v'>22.490675540506757</span></li></ul></li><li><label class='ee-shut'>9: [114.01032774479744, 22.490705665529802]<input type='checkbox' class='ee-toggle'></label><ul><li><span class='ee-k'>0:</span><span class='ee-v'>114.01032774479744</span></li><li><span class='ee-k'>1:</span><span class='ee-v'>22.490705665529802</span></li></ul></li><li><label class='ee-shut'>10: [114.01033119308252, 22.49072037824906]<input type='checkbox' class='ee-toggle'></label><ul><li><span class='ee-k'>0:</span><span class='ee-v'>114.01033119308252</span></li><li><span class='ee-k'>1:</span><span class='ee-v'>22.49072037824906</span></li></ul></li><li><label class='ee-shut'>11: [114.01572899875023, 22.73831844697336]<input type='checkbox' class='ee-toggle'></label><ul><li><span class='ee-k'>0:</span><span class='ee-v'>114.01572899875023</span></li><li><span class='ee-k'>1:</span><span class='ee-v'>22.73831844697336</span></li></ul></li><li><label class='ee-shut'>12: [114.02120233081058, 22.985900060711128]<input type='checkbox' class='ee-toggle'></label><ul><li><span class='ee-k'>0:</span><span class='ee-v'>114.02120233081058</span></li><li><span class='ee-k'>1:</span><span class='ee-v'>22.985900060711128</span></li></ul></li><li><label class='ee-shut'>13: [114.02675191240965, 23.233472739809304]<input type='checkbox' class='ee-toggle'></label><ul><li><span class='ee-k'>0:</span><span class='ee-v'>114.02675191240965</span></li><li><span class='ee-k'>1:</span><span class='ee-v'>23.233472739809304</span></li></ul></li><li><label class='ee-shut'>14: [114.03237837587005, 23.481036282343336]<input type='checkbox' class='ee-toggle'></label><ul><li><span class='ee-k'>0:</span><span class='ee-v'>114.03237837587005</span></li><li><span class='ee-k'>1:</span><span class='ee-v'>23.481036282343336</span></li></ul></li><li><label class='ee-shut'>15: [114.03233944837257, 23.481078563175256]<input type='checkbox' class='ee-toggle'></label><ul><li><span class='ee-k'>0:</span><span class='ee-v'>114.03233944837257</span></li><li><span class='ee-k'>1:</span><span class='ee-v'>23.481078563175256</span></li></ul></li><li><label class='ee-shut'>16: [114.03230660045843, 23.481124877716457]<input type='checkbox' class='ee-toggle'></label><ul><li><span class='ee-k'>0:</span><span class='ee-v'>114.03230660045843</span></li><li><span class='ee-k'>1:</span><span class='ee-v'>23.481124877716457</span></li></ul></li><li><label class='ee-shut'>17: [114.03229053946087, 23.481128005920702]<input type='checkbox' class='ee-toggle'></label><ul><li><span class='ee-k'>0:</span><span class='ee-v'>114.03229053946087</span></li><li><span class='ee-k'>1:</span><span class='ee-v'>23.481128005920702</span></li></ul></li><li><label class='ee-shut'>18: [112.95818228035506, 23.49833618674529]<input type='checkbox' class='ee-toggle'></label><ul><li><span class='ee-k'>0:</span><span class='ee-v'>112.95818228035506</span></li><li><span class='ee-k'>1:</span><span class='ee-v'>23.49833618674529</span></li></ul></li><li><label class='ee-shut'>19: [112.9581364654899, 23.498300115930657]<input type='checkbox' class='ee-toggle'></label><ul><li><span class='ee-k'>0:</span><span class='ee-v'>112.9581364654899</span></li><li><span class='ee-k'>1:</span><span class='ee-v'>23.498300115930657</span></li></ul></li><li><label class='ee-shut'>20: [112.95808619639885, 23.498269702702277]<input type='checkbox' class='ee-toggle'></label><ul><li><span class='ee-k'>0:</span><span class='ee-v'>112.95808619639885</span></li><li><span class='ee-k'>1:</span><span class='ee-v'>23.498269702702277</span></li></ul></li></ul></li></ul></li><li><span class='ee-k'>system:index:</span><span class='ee-v'>20200901T025549_20200901T030025_T49QGF</span></li><li><span class='ee-k'>system:time_end:</span><span class='ee-v'>1598929897062</span></li><li><span class='ee-k'>system:time_start:</span><span class='ee-v'>1598929897062</span></li></ul></li></ul></li></ul></div><script>function toggleHeader() {\n",
       "    const parent = this.parentElement;\n",
       "    parent.className = parent.className === \"ee-open\" ? \"ee-shut\" : \"ee-open\";\n",
       "}\n",
       "\n",
       "for (let c of document.getElementsByClassName(\"ee-toggle\")) {\n",
       "    c.onclick = toggleHeader;\n",
       "}</script></div>"
      ]
     },
     "metadata": {}
    },
    {
     "output_type": "display_data",
     "data": {
      "text/plain": [
       "'1D array image'"
      ],
      "application/vnd.google.colaboratory.intrinsic+json": {
       "type": "string"
      }
     },
     "metadata": {}
    },
    {
     "output_type": "display_data",
     "data": {
      "text/plain": [
       "<ee.image.Image at 0x7a46c23fa710>"
      ],
      "text/html": [
       "<div><style>:root {\n",
       "  --font-color-primary: var(--jp-content-font-color0, rgba(0, 0, 0, 1));\n",
       "  --font-color-secondary: var(--jp-content-font-color2, rgba(0, 0, 0, 0.6));\n",
       "  --font-color-accent: rgba(123, 31, 162, 1);\n",
       "  --border-color: var(--jp-border-color2, #e0e0e0);\n",
       "  --background-color: var(--jp-layout-color0, white);\n",
       "  --background-color-row-even: var(--jp-layout-color1, white);\n",
       "  --background-color-row-odd: var(--jp-layout-color2, #eeeeee);\n",
       "}\n",
       "\n",
       "html[theme=\"dark\"],\n",
       "body[data-theme=\"dark\"],\n",
       "body.vscode-dark {\n",
       "  --font-color-primary: rgba(255, 255, 255, 1);\n",
       "  --font-color-secondary: rgba(255, 255, 255, 0.6);\n",
       "  --font-color-accent: rgb(173, 132, 190);\n",
       "  --border-color: #2e2e2e;\n",
       "  --background-color: #111111;\n",
       "  --background-color-row-even: #111111;\n",
       "  --background-color-row-odd: #313131;\n",
       "}\n",
       "\n",
       ".ee {\n",
       "  padding: 1em;\n",
       "  line-height: 1.5em;\n",
       "  min-width: 300px;\n",
       "  max-width: 1200px;\n",
       "  overflow-y: scroll;\n",
       "  max-height: 600px;\n",
       "  border: 1px solid var(--border-color);\n",
       "  font-family: monospace;\n",
       "}\n",
       "\n",
       ".ee li {\n",
       "  list-style-type: none;\n",
       "}\n",
       "\n",
       ".ee ul {\n",
       "  padding-left: 1.5em !important;\n",
       "  margin: 0;\n",
       "}\n",
       "\n",
       ".ee > ul {\n",
       "  padding-left: 0 !important;\n",
       "}\n",
       "\n",
       ".ee-open,\n",
       ".ee-shut {\n",
       "  color: var(--font-color-secondary);\n",
       "  cursor: pointer;\n",
       "  margin: 0;\n",
       "}\n",
       "\n",
       ".ee-open:hover,\n",
       ".ee-shut:hover {\n",
       "  color: var(--font-color-primary);\n",
       "}\n",
       "\n",
       ".ee-k {\n",
       "  color: var(--font-color-accent);\n",
       "  margin-right: 6px;\n",
       "}\n",
       "\n",
       ".ee-v {\n",
       "  color: var(--font-color-primary);\n",
       "}\n",
       "\n",
       ".ee-toggle {\n",
       "  display: none;\n",
       "}\n",
       "\n",
       ".ee-shut + ul {\n",
       "  display: none;\n",
       "}\n",
       "\n",
       ".ee-open + ul {\n",
       "  display: block;\n",
       "}\n",
       "\n",
       ".ee-shut::before {\n",
       "  display: inline-block;\n",
       "  content: \"▼\";\n",
       "  margin-right: 6px;\n",
       "  transform: rotate(-90deg);\n",
       "  transition: transform 0.2s;\n",
       "}\n",
       "\n",
       ".ee-open::before {\n",
       "  transform: rotate(0deg);\n",
       "  display: inline-block;\n",
       "  content: \"▼\";\n",
       "  margin-right: 6px;\n",
       "  transition: transform 0.2s;\n",
       "}\n",
       "</style><div class='ee'><ul><li><label class='ee-shut'>Image (1 band)<input type='checkbox' class='ee-toggle'></label><ul><li><span class='ee-k'>type:</span><span class='ee-v'>Image</span></li><li><label class='ee-shut'>bands: List (1 element)<input type='checkbox' class='ee-toggle'></label><ul><li><label class='ee-shut'>0: \"array\", unsigned int16, EPSG:32649, 10980x10980 px<input type='checkbox' class='ee-toggle'></label><ul><li><span class='ee-k'>id:</span><span class='ee-v'>array</span></li><li><span class='ee-k'>crs:</span><span class='ee-v'>EPSG:32649</span></li><li><label class='ee-shut'>crs_transform: [10, 0, 699960, 0, -10, 2600040]<input type='checkbox' class='ee-toggle'></label><ul><li><span class='ee-k'>0:</span><span class='ee-v'>10</span></li><li><span class='ee-k'>1:</span><span class='ee-v'>0</span></li><li><span class='ee-k'>2:</span><span class='ee-v'>699960</span></li><li><span class='ee-k'>3:</span><span class='ee-v'>0</span></li><li><span class='ee-k'>4:</span><span class='ee-v'>-10</span></li><li><span class='ee-k'>5:</span><span class='ee-v'>2600040</span></li></ul></li><li><label class='ee-shut'>data_type: unsigned int16<input type='checkbox' class='ee-toggle'></label><ul><li><span class='ee-k'>type:</span><span class='ee-v'>PixelType</span></li><li><span class='ee-k'>dimensions:</span><span class='ee-v'>1</span></li><li><span class='ee-k'>max:</span><span class='ee-v'>65535</span></li><li><span class='ee-k'>min:</span><span class='ee-v'>0</span></li><li><span class='ee-k'>precision:</span><span class='ee-v'>int</span></li></ul></li><li><label class='ee-shut'>dimensions: [10980, 10980]<input type='checkbox' class='ee-toggle'></label><ul><li><span class='ee-k'>0:</span><span class='ee-v'>10980</span></li><li><span class='ee-k'>1:</span><span class='ee-v'>10980</span></li></ul></li></ul></li></ul></li><li><label class='ee-shut'>properties: Object (1 property)<input type='checkbox' class='ee-toggle'></label><ul><li><label class='ee-shut'>system:footprint: LinearRing (21 vertices)<input type='checkbox' class='ee-toggle'></label><ul><li><span class='ee-k'>type:</span><span class='ee-v'>LinearRing</span></li><li><label class='ee-shut'>coordinates: List (21 elements)<input type='checkbox' class='ee-toggle'></label><ul><li><label class='ee-shut'>0: [112.95808619639885, 23.498269702702277]<input type='checkbox' class='ee-toggle'></label><ul><li><span class='ee-k'>0:</span><span class='ee-v'>112.95808619639885</span></li><li><span class='ee-k'>1:</span><span class='ee-v'>23.498269702702277</span></li></ul></li><li><label class='ee-shut'>1: [112.9580829239082, 23.498254963961223]<input type='checkbox' class='ee-toggle'></label><ul><li><span class='ee-k'>0:</span><span class='ee-v'>112.9580829239082</span></li><li><span class='ee-k'>1:</span><span class='ee-v'>23.498254963961223</span></li></ul></li><li><label class='ee-shut'>2: [112.95085832436516, 23.002707086948035]<input type='checkbox' class='ee-toggle'></label><ul><li><span class='ee-k'>0:</span><span class='ee-v'>112.95085832436516</span></li><li><span class='ee-k'>1:</span><span class='ee-v'>23.002707086948035</span></li></ul></li><li><label class='ee-shut'>3: [112.94383110670462, 22.507133719484973]<input type='checkbox' class='ee-toggle'></label><ul><li><span class='ee-k'>0:</span><span class='ee-v'>112.94383110670462</span></li><li><span class='ee-k'>1:</span><span class='ee-v'>22.507133719484973</span></li></ul></li><li><label class='ee-shut'>4: [112.94387010454163, 22.50709170808302]<input type='checkbox' class='ee-toggle'></label><ul><li><span class='ee-k'>0:</span><span class='ee-v'>112.94387010454163</span></li><li><span class='ee-k'>1:</span><span class='ee-v'>22.50709170808302</span></li></ul></li><li><label class='ee-shut'>5: [112.94390310271002, 22.507045623167862]<input type='checkbox' class='ee-toggle'></label><ul><li><span class='ee-k'>0:</span><span class='ee-v'>112.94390310271002</span></li><li><span class='ee-k'>1:</span><span class='ee-v'>22.507045623167862</span></li></ul></li><li><label class='ee-shut'>6: [112.94391910182149, 22.507042628021676]<input type='checkbox' class='ee-toggle'></label><ul><li><span class='ee-k'>0:</span><span class='ee-v'>112.94391910182149</span></li><li><span class='ee-k'>1:</span><span class='ee-v'>22.507042628021676</span></li></ul></li><li><label class='ee-shut'>7: [114.0102320095038, 22.490639772249658]<input type='checkbox' class='ee-toggle'></label><ul><li><span class='ee-k'>0:</span><span class='ee-v'>114.0102320095038</span></li><li><span class='ee-k'>1:</span><span class='ee-v'>22.490639772249658</span></li></ul></li><li><label class='ee-shut'>8: [114.01027765391636, 22.490675540506757]<input type='checkbox' class='ee-toggle'></label><ul><li><span class='ee-k'>0:</span><span class='ee-v'>114.01027765391636</span></li><li><span class='ee-k'>1:</span><span class='ee-v'>22.490675540506757</span></li></ul></li><li><label class='ee-shut'>9: [114.01032774479744, 22.490705665529802]<input type='checkbox' class='ee-toggle'></label><ul><li><span class='ee-k'>0:</span><span class='ee-v'>114.01032774479744</span></li><li><span class='ee-k'>1:</span><span class='ee-v'>22.490705665529802</span></li></ul></li><li><label class='ee-shut'>10: [114.01033119308252, 22.49072037824906]<input type='checkbox' class='ee-toggle'></label><ul><li><span class='ee-k'>0:</span><span class='ee-v'>114.01033119308252</span></li><li><span class='ee-k'>1:</span><span class='ee-v'>22.49072037824906</span></li></ul></li><li><label class='ee-shut'>11: [114.01572899875023, 22.73831844697336]<input type='checkbox' class='ee-toggle'></label><ul><li><span class='ee-k'>0:</span><span class='ee-v'>114.01572899875023</span></li><li><span class='ee-k'>1:</span><span class='ee-v'>22.73831844697336</span></li></ul></li><li><label class='ee-shut'>12: [114.02120233081058, 22.985900060711128]<input type='checkbox' class='ee-toggle'></label><ul><li><span class='ee-k'>0:</span><span class='ee-v'>114.02120233081058</span></li><li><span class='ee-k'>1:</span><span class='ee-v'>22.985900060711128</span></li></ul></li><li><label class='ee-shut'>13: [114.02675191240965, 23.233472739809304]<input type='checkbox' class='ee-toggle'></label><ul><li><span class='ee-k'>0:</span><span class='ee-v'>114.02675191240965</span></li><li><span class='ee-k'>1:</span><span class='ee-v'>23.233472739809304</span></li></ul></li><li><label class='ee-shut'>14: [114.03237837587005, 23.481036282343336]<input type='checkbox' class='ee-toggle'></label><ul><li><span class='ee-k'>0:</span><span class='ee-v'>114.03237837587005</span></li><li><span class='ee-k'>1:</span><span class='ee-v'>23.481036282343336</span></li></ul></li><li><label class='ee-shut'>15: [114.03233944837257, 23.481078563175256]<input type='checkbox' class='ee-toggle'></label><ul><li><span class='ee-k'>0:</span><span class='ee-v'>114.03233944837257</span></li><li><span class='ee-k'>1:</span><span class='ee-v'>23.481078563175256</span></li></ul></li><li><label class='ee-shut'>16: [114.03230660045843, 23.481124877716457]<input type='checkbox' class='ee-toggle'></label><ul><li><span class='ee-k'>0:</span><span class='ee-v'>114.03230660045843</span></li><li><span class='ee-k'>1:</span><span class='ee-v'>23.481124877716457</span></li></ul></li><li><label class='ee-shut'>17: [114.03229053946087, 23.481128005920702]<input type='checkbox' class='ee-toggle'></label><ul><li><span class='ee-k'>0:</span><span class='ee-v'>114.03229053946087</span></li><li><span class='ee-k'>1:</span><span class='ee-v'>23.481128005920702</span></li></ul></li><li><label class='ee-shut'>18: [112.95818228035506, 23.49833618674529]<input type='checkbox' class='ee-toggle'></label><ul><li><span class='ee-k'>0:</span><span class='ee-v'>112.95818228035506</span></li><li><span class='ee-k'>1:</span><span class='ee-v'>23.49833618674529</span></li></ul></li><li><label class='ee-shut'>19: [112.9581364654899, 23.498300115930657]<input type='checkbox' class='ee-toggle'></label><ul><li><span class='ee-k'>0:</span><span class='ee-v'>112.9581364654899</span></li><li><span class='ee-k'>1:</span><span class='ee-v'>23.498300115930657</span></li></ul></li><li><label class='ee-shut'>20: [112.95808619639885, 23.498269702702277]<input type='checkbox' class='ee-toggle'></label><ul><li><span class='ee-k'>0:</span><span class='ee-v'>112.95808619639885</span></li><li><span class='ee-k'>1:</span><span class='ee-v'>23.498269702702277</span></li></ul></li></ul></li></ul></li></ul></li></ul></li></ul></div><script>function toggleHeader() {\n",
       "    const parent = this.parentElement;\n",
       "    parent.className = parent.className === \"ee-open\" ? \"ee-shut\" : \"ee-open\";\n",
       "}\n",
       "\n",
       "for (let c of document.getElementsByClassName(\"ee-toggle\")) {\n",
       "    c.onclick = toggleHeader;\n",
       "}</script></div>"
      ]
     },
     "metadata": {}
    },
    {
     "output_type": "display_data",
     "data": {
      "text/plain": [
       "'1D array image (pixel)'"
      ],
      "application/vnd.google.colaboratory.intrinsic+json": {
       "type": "string"
      }
     },
     "metadata": {}
    },
    {
     "output_type": "display_data",
     "data": {
      "text/plain": [
       "<ee.computedobject.ComputedObject at 0x7a46c23f8e20>"
      ],
      "text/html": [
       "<pre>&lt;ee.computedobject.ComputedObject object at 0x7a46c4223820&gt;</pre>"
      ]
     },
     "metadata": {}
    },
    {
     "output_type": "display_data",
     "data": {
      "text/plain": [
       "'2D array image (pixel)'"
      ],
      "application/vnd.google.colaboratory.intrinsic+json": {
       "type": "string"
      }
     },
     "metadata": {}
    },
    {
     "output_type": "display_data",
     "data": {
      "text/plain": [
       "<ee.computedobject.ComputedObject at 0x7a46c1f1bf10>"
      ],
      "text/html": [
       "<pre>&lt;ee.computedobject.ComputedObject object at 0x7a46c2604610&gt;</pre>"
      ]
     },
     "metadata": {}
    },
    {
     "output_type": "display_data",
     "data": {
      "text/plain": [
       "Map(center=[0, 0], controls=(WidgetControl(options=['position', 'transparent_bg'], widget=SearchDataGUI(childr…"
      ],
      "application/vnd.jupyter.widget-view+json": {
       "version_major": 2,
       "version_minor": 0,
       "model_id": "aea08d41cacd4b1d9e7cef00374b8d71"
      }
     },
     "metadata": {
      "application/vnd.jupyter.widget-view+json": {
       "colab": {
        "custom_widget_manager": {
         "url": "https://ssl.gstatic.com/colaboratory-static/widgets/colab-cdn-widget-manager/b3e629b1971e1542/manager.min.js"
        }
       }
      }
     }
    }
   ]
  }
 ]
}
